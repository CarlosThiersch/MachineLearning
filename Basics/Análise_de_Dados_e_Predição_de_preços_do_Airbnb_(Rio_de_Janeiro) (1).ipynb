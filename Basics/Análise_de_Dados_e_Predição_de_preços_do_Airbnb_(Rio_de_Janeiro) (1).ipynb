{
  "nbformat": 4,
  "nbformat_minor": 0,
  "metadata": {
    "colab": {
      "provenance": []
    },
    "kernelspec": {
      "name": "python3",
      "display_name": "Python 3"
    }
  },
  "cells": [
    {
      "cell_type": "markdown",
      "metadata": {
        "id": "kLI0gJtzDGuQ"
      },
      "source": [
        "<img alt=\"Colaboratory logo\" width=\"15%\" src=\"https://raw.githubusercontent.com/carlosfab/escola-data-science/master/img/novo_logo_bg_claro.png\">\n",
        "\n",
        "#### **Data Science na Prática 3.0**\n",
        "*by [sigmoidal.ai](https://sigmoidal.ai)*\n",
        "\n",
        "---\n",
        "\n",
        "# Análise dos Dados do Airbnb - Rio de Janeiro\n",
        "\n",
        "O [Airbnb](https://www.airbnb.com.br/) já é considerado como sendo a **maior empresa hoteleira da atualidade**. Ah, o detalhe é que ele **não possui nenhum hotel**!\n",
        "\n",
        "Conectando pessoas que querem viajar (e se hospedar) com anfitriões que querem alugar seus imóveis de maneira prática, o Airbnb fornece uma plataforma inovadora para tornar essa hospedagem alternativa.\n",
        "\n",
        "No final de 2018, a Startup fundada 10 anos atrás, já havia **hospedado mais de 300 milhões** de pessoas ao redor de todo o mundo, desafiando as redes hoteleiras tradicionais.\n",
        "\n",
        "Uma das iniciativas do Airbnb é disponibilizar dados do site, para algumas das principais cidades do mundo. Por meio do portal [Inside Airbnb](http://insideairbnb.com/get-the-data.html), é possível baixar uma grande quantidade de dados para desenvolver projetos e soluções de *Data Science*.\n",
        "\n",
        "<center><img alt=\"Analisando Airbnb\" width=\"10%\" src=\"https://www.area360.com.au/wp-content/uploads/2017/09/airbnb-logo.jpg\"></center>\n",
        "\n",
        "A cidade do Rio de Janeiro se caracteriza como uma das mais belas e turísticas localidades do Brasil. Com um perfil de extrema desigualdade socio-econômica, o setor turístico concentra-se em alguns poucos bairros da cidade do Rio. \n",
        "\n",
        "**Neste *notebook*, iremos analisar os dados referentes à cidade do Rio de Janeiro, e ver quais insights podem ser extraídos a partir de dados brutos.**"
      ]
    },
    {
      "cell_type": "markdown",
      "metadata": {
        "id": "0zxQHhIUDF_2"
      },
      "source": [
        "## Obtenção dos Dados\n",
        "\n",
        "Todos os dados usados aqui foram obtidos a partir do site [Inside Airbnb](http://insideairbnb.com/get-the-data.html).\n",
        "\n",
        "Para esta análise exploratória inicial, será baixado apenas o seguinte arquivo:\n",
        "\n",
        "* `listings.csv.gz` \n"
      ]
    },
    {
      "cell_type": "code",
      "metadata": {
        "id": "Vhp2wMPgJ6zX"
      },
      "source": [
        "# importar os pacotes necessarios\n",
        "import pandas as pd\n",
        "import matplotlib.pyplot as plt\n",
        "import seaborn as sns\n",
        "\n",
        "%matplotlib inline"
      ],
      "execution_count": 1,
      "outputs": []
    },
    {
      "cell_type": "code",
      "metadata": {
        "id": "tUmoAT8DLQ5T"
      },
      "source": [
        "# importar o arquivo listings.csv para um DataFrame\n",
        "df = pd.read_csv(\"http://data.insideairbnb.com/brazil/rj/rio-de-janeiro/2022-12-29/data/listings.csv.gz\")\n"
      ],
      "execution_count": 2,
      "outputs": []
    },
    {
      "cell_type": "markdown",
      "source": [
        "Primeiramente, iremos olhar quais e quantos dados estão presentes em nossa tabela e a quantidade de entradas"
      ],
      "metadata": {
        "id": "xSbIDfjL9zwe"
      }
    },
    {
      "cell_type": "code",
      "source": [
        "print(\"Quantidade de variáveis: \", str(df.shape[1]) , '\\n', \"Quantidade de entradas:\", str(df.shape[0]))\n",
        "df.columns"
      ],
      "metadata": {
        "colab": {
          "base_uri": "https://localhost:8080/"
        },
        "id": "e29JWsHajwKV",
        "outputId": "36a87d73-171a-438d-f9ee-e24ed0f2134b"
      },
      "execution_count": 3,
      "outputs": [
        {
          "output_type": "stream",
          "name": "stdout",
          "text": [
            "Quantidade de variáveis:  75 \n",
            " Quantidade de entradas: 28301\n"
          ]
        },
        {
          "output_type": "execute_result",
          "data": {
            "text/plain": [
              "Index(['id', 'listing_url', 'scrape_id', 'last_scraped', 'source', 'name',\n",
              "       'description', 'neighborhood_overview', 'picture_url', 'host_id',\n",
              "       'host_url', 'host_name', 'host_since', 'host_location', 'host_about',\n",
              "       'host_response_time', 'host_response_rate', 'host_acceptance_rate',\n",
              "       'host_is_superhost', 'host_thumbnail_url', 'host_picture_url',\n",
              "       'host_neighbourhood', 'host_listings_count',\n",
              "       'host_total_listings_count', 'host_verifications',\n",
              "       'host_has_profile_pic', 'host_identity_verified', 'neighbourhood',\n",
              "       'neighbourhood_cleansed', 'neighbourhood_group_cleansed', 'latitude',\n",
              "       'longitude', 'property_type', 'room_type', 'accommodates', 'bathrooms',\n",
              "       'bathrooms_text', 'bedrooms', 'beds', 'amenities', 'price',\n",
              "       'minimum_nights', 'maximum_nights', 'minimum_minimum_nights',\n",
              "       'maximum_minimum_nights', 'minimum_maximum_nights',\n",
              "       'maximum_maximum_nights', 'minimum_nights_avg_ntm',\n",
              "       'maximum_nights_avg_ntm', 'calendar_updated', 'has_availability',\n",
              "       'availability_30', 'availability_60', 'availability_90',\n",
              "       'availability_365', 'calendar_last_scraped', 'number_of_reviews',\n",
              "       'number_of_reviews_ltm', 'number_of_reviews_l30d', 'first_review',\n",
              "       'last_review', 'review_scores_rating', 'review_scores_accuracy',\n",
              "       'review_scores_cleanliness', 'review_scores_checkin',\n",
              "       'review_scores_communication', 'review_scores_location',\n",
              "       'review_scores_value', 'license', 'instant_bookable',\n",
              "       'calculated_host_listings_count',\n",
              "       'calculated_host_listings_count_entire_homes',\n",
              "       'calculated_host_listings_count_private_rooms',\n",
              "       'calculated_host_listings_count_shared_rooms', 'reviews_per_month'],\n",
              "      dtype='object')"
            ]
          },
          "metadata": {},
          "execution_count": 3
        }
      ]
    },
    {
      "cell_type": "markdown",
      "source": [
        "Selecionaremos algumas características consideradas mais importantes para modelagens e análise. O número de pessoas acomodadas, quantidade de banheiros, quartos e camas, preço, localização e nota serão considerados. \\\\\n",
        "Eliminaremos locações como quartos individuais e afins."
      ],
      "metadata": {
        "id": "vfiZRAYzXY-v"
      }
    },
    {
      "cell_type": "code",
      "source": [
        "df_clean = df[[\"id\",\"reviews_per_month\",\"host_is_superhost\",\"neighbourhood_cleansed\",\"room_type\",\"accommodates\",\"bathrooms_text\",\"bedrooms\",\n",
        "               \"beds\",\"amenities\",\"price\",\"review_scores_rating\",\"number_of_reviews\",\"latitude\",\"longitude\",\"minimum_nights\"]].copy()\n",
        "df_clean.drop(df_clean[df_clean.room_type != \"Entire home/apt\"].index, axis=0, inplace=True)"
      ],
      "metadata": {
        "id": "qOjWs3som2_X"
      },
      "execution_count": 4,
      "outputs": []
    },
    {
      "cell_type": "markdown",
      "source": [
        "Queremos considerar locações com quantidade suficiente de dados e com notas mais positivas para a análise dos dados. Logo, eliminamos locações que não sejam casas e apartamentos completos e , posteriormente, aquelas :com notas baixas ou com poucos reviews."
      ],
      "metadata": {
        "id": "qaBDAZYsAmH9"
      }
    },
    {
      "cell_type": "code",
      "source": [
        "df_clean.drop(df_clean[df_clean.room_type != \"Entire home/apt\"].index, axis=0, inplace=True)\n",
        "df_clean.head()"
      ],
      "metadata": {
        "id": "wRJ2EUwxIpd0",
        "colab": {
          "base_uri": "https://localhost:8080/",
          "height": 582
        },
        "outputId": "2caa96da-1634-4a8a-ebee-75a42677e3a9"
      },
      "execution_count": 5,
      "outputs": [
        {
          "output_type": "execute_result",
          "data": {
            "text/plain": [
              "                   id  reviews_per_month host_is_superhost  \\\n",
              "0  783493769216852616                NaN                 f   \n",
              "2  782895997622988215                NaN                 f   \n",
              "3            23768085               1.59                 f   \n",
              "4            10463735               0.03                 f   \n",
              "5            53887789                NaN                 f   \n",
              "\n",
              "  neighbourhood_cleansed        room_type  accommodates bathrooms_text  \\\n",
              "0                   Leme  Entire home/apt             2         1 bath   \n",
              "2            Laranjeiras  Entire home/apt             4         1 bath   \n",
              "3        Barra da Tijuca  Entire home/apt             2         1 bath   \n",
              "4            Laranjeiras  Entire home/apt             6        2 baths   \n",
              "5             Copacabana  Entire home/apt             2         1 bath   \n",
              "\n",
              "   bedrooms  beds                                          amenities    price  \\\n",
              "0       1.0   1.0  [\"Wifi\", \"Dedicated workspace\", \"Kitchen\", \"Fi...  $720.00   \n",
              "2       2.0   1.0  [\"Cooking basics\", \"Clothing storage\", \"Washer...  $240.00   \n",
              "3       1.0   6.0  [\"Ping pong table\", \"Private patio or balcony\"...  $494.00   \n",
              "4       2.0   3.0  [\"Iron\", \"TV with standard cable\", \"Wifi\", \"Ki...  $581.00   \n",
              "5       1.0   1.0                        [\"Long term stays allowed\"]  $898.00   \n",
              "\n",
              "   review_scores_rating  number_of_reviews  latitude  longitude  \\\n",
              "0                   NaN                  0 -22.96421  -43.17160   \n",
              "2                   NaN                  0 -22.93196  -43.18018   \n",
              "3                  4.79                 92 -23.01104  -43.32034   \n",
              "4                  3.00                  2 -22.93555  -43.19107   \n",
              "5                   NaN                  0 -22.97032  -43.18081   \n",
              "\n",
              "   minimum_nights  \n",
              "0               1  \n",
              "2               3  \n",
              "3               3  \n",
              "4               1  \n",
              "5               5  "
            ],
            "text/html": [
              "\n",
              "  <div id=\"df-a51d02d0-0816-404b-ad4b-ad4f9628edb5\">\n",
              "    <div class=\"colab-df-container\">\n",
              "      <div>\n",
              "<style scoped>\n",
              "    .dataframe tbody tr th:only-of-type {\n",
              "        vertical-align: middle;\n",
              "    }\n",
              "\n",
              "    .dataframe tbody tr th {\n",
              "        vertical-align: top;\n",
              "    }\n",
              "\n",
              "    .dataframe thead th {\n",
              "        text-align: right;\n",
              "    }\n",
              "</style>\n",
              "<table border=\"1\" class=\"dataframe\">\n",
              "  <thead>\n",
              "    <tr style=\"text-align: right;\">\n",
              "      <th></th>\n",
              "      <th>id</th>\n",
              "      <th>reviews_per_month</th>\n",
              "      <th>host_is_superhost</th>\n",
              "      <th>neighbourhood_cleansed</th>\n",
              "      <th>room_type</th>\n",
              "      <th>accommodates</th>\n",
              "      <th>bathrooms_text</th>\n",
              "      <th>bedrooms</th>\n",
              "      <th>beds</th>\n",
              "      <th>amenities</th>\n",
              "      <th>price</th>\n",
              "      <th>review_scores_rating</th>\n",
              "      <th>number_of_reviews</th>\n",
              "      <th>latitude</th>\n",
              "      <th>longitude</th>\n",
              "      <th>minimum_nights</th>\n",
              "    </tr>\n",
              "  </thead>\n",
              "  <tbody>\n",
              "    <tr>\n",
              "      <th>0</th>\n",
              "      <td>783493769216852616</td>\n",
              "      <td>NaN</td>\n",
              "      <td>f</td>\n",
              "      <td>Leme</td>\n",
              "      <td>Entire home/apt</td>\n",
              "      <td>2</td>\n",
              "      <td>1 bath</td>\n",
              "      <td>1.0</td>\n",
              "      <td>1.0</td>\n",
              "      <td>[\"Wifi\", \"Dedicated workspace\", \"Kitchen\", \"Fi...</td>\n",
              "      <td>$720.00</td>\n",
              "      <td>NaN</td>\n",
              "      <td>0</td>\n",
              "      <td>-22.96421</td>\n",
              "      <td>-43.17160</td>\n",
              "      <td>1</td>\n",
              "    </tr>\n",
              "    <tr>\n",
              "      <th>2</th>\n",
              "      <td>782895997622988215</td>\n",
              "      <td>NaN</td>\n",
              "      <td>f</td>\n",
              "      <td>Laranjeiras</td>\n",
              "      <td>Entire home/apt</td>\n",
              "      <td>4</td>\n",
              "      <td>1 bath</td>\n",
              "      <td>2.0</td>\n",
              "      <td>1.0</td>\n",
              "      <td>[\"Cooking basics\", \"Clothing storage\", \"Washer...</td>\n",
              "      <td>$240.00</td>\n",
              "      <td>NaN</td>\n",
              "      <td>0</td>\n",
              "      <td>-22.93196</td>\n",
              "      <td>-43.18018</td>\n",
              "      <td>3</td>\n",
              "    </tr>\n",
              "    <tr>\n",
              "      <th>3</th>\n",
              "      <td>23768085</td>\n",
              "      <td>1.59</td>\n",
              "      <td>f</td>\n",
              "      <td>Barra da Tijuca</td>\n",
              "      <td>Entire home/apt</td>\n",
              "      <td>2</td>\n",
              "      <td>1 bath</td>\n",
              "      <td>1.0</td>\n",
              "      <td>6.0</td>\n",
              "      <td>[\"Ping pong table\", \"Private patio or balcony\"...</td>\n",
              "      <td>$494.00</td>\n",
              "      <td>4.79</td>\n",
              "      <td>92</td>\n",
              "      <td>-23.01104</td>\n",
              "      <td>-43.32034</td>\n",
              "      <td>3</td>\n",
              "    </tr>\n",
              "    <tr>\n",
              "      <th>4</th>\n",
              "      <td>10463735</td>\n",
              "      <td>0.03</td>\n",
              "      <td>f</td>\n",
              "      <td>Laranjeiras</td>\n",
              "      <td>Entire home/apt</td>\n",
              "      <td>6</td>\n",
              "      <td>2 baths</td>\n",
              "      <td>2.0</td>\n",
              "      <td>3.0</td>\n",
              "      <td>[\"Iron\", \"TV with standard cable\", \"Wifi\", \"Ki...</td>\n",
              "      <td>$581.00</td>\n",
              "      <td>3.00</td>\n",
              "      <td>2</td>\n",
              "      <td>-22.93555</td>\n",
              "      <td>-43.19107</td>\n",
              "      <td>1</td>\n",
              "    </tr>\n",
              "    <tr>\n",
              "      <th>5</th>\n",
              "      <td>53887789</td>\n",
              "      <td>NaN</td>\n",
              "      <td>f</td>\n",
              "      <td>Copacabana</td>\n",
              "      <td>Entire home/apt</td>\n",
              "      <td>2</td>\n",
              "      <td>1 bath</td>\n",
              "      <td>1.0</td>\n",
              "      <td>1.0</td>\n",
              "      <td>[\"Long term stays allowed\"]</td>\n",
              "      <td>$898.00</td>\n",
              "      <td>NaN</td>\n",
              "      <td>0</td>\n",
              "      <td>-22.97032</td>\n",
              "      <td>-43.18081</td>\n",
              "      <td>5</td>\n",
              "    </tr>\n",
              "  </tbody>\n",
              "</table>\n",
              "</div>\n",
              "      <button class=\"colab-df-convert\" onclick=\"convertToInteractive('df-a51d02d0-0816-404b-ad4b-ad4f9628edb5')\"\n",
              "              title=\"Convert this dataframe to an interactive table.\"\n",
              "              style=\"display:none;\">\n",
              "        \n",
              "  <svg xmlns=\"http://www.w3.org/2000/svg\" height=\"24px\"viewBox=\"0 0 24 24\"\n",
              "       width=\"24px\">\n",
              "    <path d=\"M0 0h24v24H0V0z\" fill=\"none\"/>\n",
              "    <path d=\"M18.56 5.44l.94 2.06.94-2.06 2.06-.94-2.06-.94-.94-2.06-.94 2.06-2.06.94zm-11 1L8.5 8.5l.94-2.06 2.06-.94-2.06-.94L8.5 2.5l-.94 2.06-2.06.94zm10 10l.94 2.06.94-2.06 2.06-.94-2.06-.94-.94-2.06-.94 2.06-2.06.94z\"/><path d=\"M17.41 7.96l-1.37-1.37c-.4-.4-.92-.59-1.43-.59-.52 0-1.04.2-1.43.59L10.3 9.45l-7.72 7.72c-.78.78-.78 2.05 0 2.83L4 21.41c.39.39.9.59 1.41.59.51 0 1.02-.2 1.41-.59l7.78-7.78 2.81-2.81c.8-.78.8-2.07 0-2.86zM5.41 20L4 18.59l7.72-7.72 1.47 1.35L5.41 20z\"/>\n",
              "  </svg>\n",
              "      </button>\n",
              "      \n",
              "  <style>\n",
              "    .colab-df-container {\n",
              "      display:flex;\n",
              "      flex-wrap:wrap;\n",
              "      gap: 12px;\n",
              "    }\n",
              "\n",
              "    .colab-df-convert {\n",
              "      background-color: #E8F0FE;\n",
              "      border: none;\n",
              "      border-radius: 50%;\n",
              "      cursor: pointer;\n",
              "      display: none;\n",
              "      fill: #1967D2;\n",
              "      height: 32px;\n",
              "      padding: 0 0 0 0;\n",
              "      width: 32px;\n",
              "    }\n",
              "\n",
              "    .colab-df-convert:hover {\n",
              "      background-color: #E2EBFA;\n",
              "      box-shadow: 0px 1px 2px rgba(60, 64, 67, 0.3), 0px 1px 3px 1px rgba(60, 64, 67, 0.15);\n",
              "      fill: #174EA6;\n",
              "    }\n",
              "\n",
              "    [theme=dark] .colab-df-convert {\n",
              "      background-color: #3B4455;\n",
              "      fill: #D2E3FC;\n",
              "    }\n",
              "\n",
              "    [theme=dark] .colab-df-convert:hover {\n",
              "      background-color: #434B5C;\n",
              "      box-shadow: 0px 1px 3px 1px rgba(0, 0, 0, 0.15);\n",
              "      filter: drop-shadow(0px 1px 2px rgba(0, 0, 0, 0.3));\n",
              "      fill: #FFFFFF;\n",
              "    }\n",
              "  </style>\n",
              "\n",
              "      <script>\n",
              "        const buttonEl =\n",
              "          document.querySelector('#df-a51d02d0-0816-404b-ad4b-ad4f9628edb5 button.colab-df-convert');\n",
              "        buttonEl.style.display =\n",
              "          google.colab.kernel.accessAllowed ? 'block' : 'none';\n",
              "\n",
              "        async function convertToInteractive(key) {\n",
              "          const element = document.querySelector('#df-a51d02d0-0816-404b-ad4b-ad4f9628edb5');\n",
              "          const dataTable =\n",
              "            await google.colab.kernel.invokeFunction('convertToInteractive',\n",
              "                                                     [key], {});\n",
              "          if (!dataTable) return;\n",
              "\n",
              "          const docLinkHtml = 'Like what you see? Visit the ' +\n",
              "            '<a target=\"_blank\" href=https://colab.research.google.com/notebooks/data_table.ipynb>data table notebook</a>'\n",
              "            + ' to learn more about interactive tables.';\n",
              "          element.innerHTML = '';\n",
              "          dataTable['output_type'] = 'display_data';\n",
              "          await google.colab.output.renderOutput(dataTable, element);\n",
              "          const docLink = document.createElement('div');\n",
              "          docLink.innerHTML = docLinkHtml;\n",
              "          element.appendChild(docLink);\n",
              "        }\n",
              "      </script>\n",
              "    </div>\n",
              "  </div>\n",
              "  "
            ]
          },
          "metadata": {},
          "execution_count": 5
        }
      ]
    },
    {
      "cell_type": "markdown",
      "source": [
        "Adaptaremos os dados para facilitar análise."
      ],
      "metadata": {
        "id": "ZB9yhGUwA_-m"
      }
    },
    {
      "cell_type": "code",
      "source": [
        "df_clean.host_is_superhost.fillna(\"f\",inplace = True)\n",
        "df_clean.reset_index(inplace = True) \n",
        "df_clean.host_is_superhost.replace('t',1.,inplace = True)  # Transforma o fato de ser superhost em zero ou um\n",
        "df_clean.host_is_superhost.replace('f',0.,inplace = True)  "
      ],
      "metadata": {
        "id": "8VgChNnkC2wE"
      },
      "execution_count": 6,
      "outputs": []
    },
    {
      "cell_type": "code",
      "source": [
        "df_clean.bathrooms_text.replace(\"Half-bath\",0.5,inplace = True)\n",
        "for i in range(len(df_clean)):\n",
        "    #determina quantidade de banheiros.\n",
        "    if type(df_clean.bathrooms_text[i]) != float:\n",
        "      df_clean.bathrooms_text.iat[i] = df_clean.bathrooms_text[i][:2]"
      ],
      "metadata": {
        "id": "Ru1KrbLT4DYV"
      },
      "execution_count": 7,
      "outputs": []
    },
    {
      "cell_type": "code",
      "source": [
        "for i in range(len(df_clean)):\n",
        "  if type(df_clean.price[i]) != float:           \n",
        "    df_clean.price.iat[i] = float(df_clean.price[i][1:].replace(\",\",\"\"))  #transforma o preço para float."
      ],
      "metadata": {
        "id": "C0PR34SOmT5o"
      },
      "execution_count": 8,
      "outputs": []
    },
    {
      "cell_type": "code",
      "source": [
        "df_clean.host_is_superhost = df_clean.host_is_superhost.astype(float)\n",
        "df_clean.bathrooms_text = df_clean.bathrooms_text.astype(float)\n",
        "df_clean.price = df_clean.price.astype(float)"
      ],
      "metadata": {
        "id": "H6KowFKzS8yN"
      },
      "execution_count": 9,
      "outputs": []
    },
    {
      "cell_type": "markdown",
      "source": [
        "### Estudo e captação de dados a partir da coluna amenities"
      ],
      "metadata": {
        "id": "Qhn-CaO1GNpJ"
      }
    },
    {
      "cell_type": "code",
      "source": [
        "data = list(df_clean.amenities)\n",
        "elements = {}"
      ],
      "metadata": {
        "id": "UOcBxBuu_OyY"
      },
      "execution_count": 10,
      "outputs": []
    },
    {
      "cell_type": "code",
      "source": [
        "def transform(arr):\n",
        "  lst = []\n",
        "  i = 0\n",
        "  count = 1\n",
        "  while arr[i+count] != ',' and arr[i+count] !=']':\n",
        "    count += 1\n",
        "  lst.append(arr[i+2:i+count - 1])\n",
        "  i += count\n",
        "    \n",
        "  while i < len(arr):\n",
        "\n",
        "    if arr[i] == ',':\n",
        "      count = 1 \n",
        "      while arr[i+count] != ',' and arr[i+count] !=']':\n",
        "        count += 1\n",
        "      lst.append(arr[i+3:i+count - 1])\n",
        "      i += count\n",
        "\n",
        "    else:\n",
        "      i += 1\n",
        "  return lst\n"
      ],
      "metadata": {
        "id": "waTBVZbaIKha"
      },
      "execution_count": 11,
      "outputs": []
    },
    {
      "cell_type": "code",
      "source": [
        "for i in range(len(data)):\n",
        "  data[i] = transform(data[i].lower())"
      ],
      "metadata": {
        "id": "0kqqATAfNUw4"
      },
      "execution_count": 12,
      "outputs": []
    },
    {
      "cell_type": "code",
      "source": [
        "for i in range(len(data)):\n",
        "  for x in data[i]:\n",
        "    if x in elements:\n",
        "      elements[x] += 1\n",
        "    else:\n",
        "      elements[x] = 1\n",
        " "
      ],
      "metadata": {
        "id": "a-3iTLOrNjdS"
      },
      "execution_count": 13,
      "outputs": []
    },
    {
      "cell_type": "code",
      "source": [
        "for item in sorted(elements, key = elements.get,reverse=True):\n",
        "    if elements[item] > 100:\n",
        "      print(item,elements[item])"
      ],
      "metadata": {
        "colab": {
          "base_uri": "https://localhost:8080/"
        },
        "id": "EusZGMgkQ7uT",
        "outputId": "15ad9f08-364b-4395-a36a-1f80fe1aa583"
      },
      "execution_count": 14,
      "outputs": [
        {
          "output_type": "stream",
          "name": "stdout",
          "text": [
            "kitchen 20921\n",
            "long term stays allowed 19631\n",
            "wifi 19133\n",
            "essentials 16790\n",
            "dishes and silverware 14705\n",
            "hangers 14619\n",
            "hot water 14028\n",
            "iron 13963\n",
            "air conditioning 13409\n",
            "elevator 13374\n",
            "cooking basics 12686\n",
            "bed linens 12203\n",
            "refrigerator 12124\n",
            "microwave 11717\n",
            "tv 10490\n",
            "washer 10026\n",
            "hair dryer 9730\n",
            "dedicated workspace 8379\n",
            "free parking on premises 7970\n",
            "stove 7457\n",
            "oven 7455\n",
            "room-darkening shades 7349\n",
            "extra pillows and blankets 7282\n",
            "coffee maker 7263\n",
            "drying rack for clothing 6839\n",
            "dining table 6467\n",
            "smoking allowed 6351\n",
            "pets allowed 6031\n",
            "cleaning products 5815\n",
            "fire extinguisher 5437\n",
            "blender 5397\n",
            "laundromat nearby 5180\n",
            "self check-in 4928\n",
            "wine glasses 4833\n",
            "luggage dropoff allowed 4779\n",
            "free street parking 4474\n",
            "shampoo 4468\n",
            "private entrance 4416\n",
            "ceiling fan 4396\n",
            "tv with standard cable 4389\n",
            "clothing storage: wardrobe 4334\n",
            "body soap 3996\n",
            "host greets you 3714\n",
            "freezer 3351\n",
            "free washer \\u2013 in unit 3335\n",
            "smoke alarm 3272\n",
            "window ac unit 3197\n",
            "toaster 3151\n",
            "pool 3106\n",
            "ethernet connection 3096\n",
            "coffee 3073\n",
            "ac - split type ductless system 2987\n",
            "public or shared beach access 2966\n",
            "portable fans 2821\n",
            "private patio or balcony 2793\n",
            "first aid kit 2730\n",
            "beach access 2621\n",
            "baking sheet 2577\n",
            "security cameras on property 2470\n",
            "building staff 2360\n",
            "gym 2351\n",
            "dryer 2309\n",
            "bbq grill 2304\n",
            "carbon monoxide alarm 2143\n",
            "paid parking off premises 2101\n",
            "hot water kettle 2096\n",
            "beach view 2008\n",
            "books and reading material 2002\n",
            "patio or balcony 1958\n",
            "coffee maker: drip coffee maker 1907\n",
            "mountain view 1773\n",
            "outdoor shower 1758\n",
            "beach access \\u2013 beachfront 1736\n",
            "gas stove 1673\n",
            "outdoor dining area 1666\n",
            "city skyline view 1654\n",
            "waterfront 1625\n",
            "exercise equipment 1576\n",
            "outdoor furniture 1545\n",
            "cleaning available during stay 1544\n",
            "shared pool 1540\n",
            "mini fridge 1523\n",
            "heating 1463\n",
            "clothing storage 1444\n",
            "ocean view 1388\n",
            "window guards 1374\n",
            "conditioner 1275\n",
            "lockbox 1201\n",
            "hammock 1114\n",
            "paid parking lot off premises 1076\n",
            "paid parking on premises 1061\n",
            "sea view 1059\n",
            "shared sauna 1054\n",
            "free dryer \\u2013 in unit 1031\n",
            "backyard 1021\n",
            "beach essentials 975\n",
            "single level home 963\n",
            "stainless steel oven 947\n",
            "shared gym in building 908\n",
            "dishwasher 895\n",
            "paid street parking off premises 889\n",
            "hot tub 871\n",
            "garden view 854\n",
            "crib 831\n",
            "bathtub 823\n",
            "tandard cable 807\n",
            "children\\u2019s dinnerware 794\n",
            "public or shared beach access \\u2013 beachfront 790\n",
            "smart lock 789\n",
            "safe 761\n",
            "barbecue utensils 746\n",
            "pocket wifi 729\n",
            "coffee maker: pour-over coffee 718\n",
            "courtyard view 705\n",
            "shower gel 664\n",
            "pool view 637\n",
            "etfli 628\n",
            "lake access 595\n",
            "etflix 584\n",
            "keypad 567\n",
            "children\\u2019s books and toys 560\n",
            "coffee maker: nespresso 560\n",
            "pool table 553\n",
            "private backyard \\u2013 fully fenced 553\n",
            "trash compactor 547\n",
            "bidet 535\n",
            "stainless steel gas stove 498\n",
            "shared patio or balcony 484\n",
            "our-over coffee 477\n",
            "pack \\u2019n play/travel crib 476\n",
            "bay view 469\n",
            "coffee maker: drip coffee make 460\n",
            "babysitter recommendations 454\n",
            "shared hot tub 448\n",
            "shared backyard \\u2013 fully fenced 442\n",
            "clothing storage: closet 435\n",
            "central air conditioning 418\n",
            "rice maker 409\n",
            "board games 408\n",
            "park view 400\n",
            "private pool 396\n",
            "pen specific hours 396\n",
            "high chair 393\n",
            "isney 389\n",
            "mosquito net 386\n",
            "private hot tub 375\n",
            "hdtv 357\n",
            "bo ma 356\n",
            "lake view 345\n",
            "remium cable 345\n",
            "ping pong table 340\n",
            "bread maker 329\n",
            "paid parking garage off premises 328\n",
            "paid washer \\u2013 in building 313\n",
            "hdtv with standard cable 310\n",
            "shared outdoor pool - available all yea 290\n",
            "electric stove 290\n",
            "breakfast 285\n",
            "clothing storage: dresser 284\n",
            "free residential garage on premises \\u2013 1 space 277\n",
            "consul refrigerator 274\n",
            "canal view 269\n",
            "free parking garage on premises \\u2013 1 space 266\n",
            "sound system 265\n",
            "bbq grill: charcoal 260\n",
            "brastemp refrigerator 256\n",
            "remium cabl 245\n",
            "tationary bik 240\n",
            "coffee maker: espresso machine 240\n",
            "private gym in building 239\n",
            "paid dryer \\u2013 in building 238\n",
            "sauna 233\n",
            "baby bath 231\n",
            "clothing storage: dresser and wardrobe 228\n",
            "resort access 226\n",
            "outlet covers 225\n",
            "clothing storage: wardrobe and dresser 221\n",
            "stainless steel stove 216\n",
            "baby safety gates 214\n",
            "bikes 212\n",
            "pen specific hour 206\n",
            "hdtv with netflix 201\n",
            "sun loungers 199\n",
            "hdtv with netfli 199\n",
            "free parking garage on premises 198\n",
            "pple t 194\n",
            "exercise equipment: free weight 193\n",
            "hdtv with amazon prime vide 192\n",
            "32\\\" hdtv with standard cable 183\n",
            "espresso 183\n",
            "coffee maker: nespress 182\n",
            "shared indoor pool - available all yea 177\n",
            "32\\\" hdtv 169\n",
            "mazon prime vide 166\n",
            "readmill 163\n",
            "oga mat 161\n",
            "bluetooth sound system 158\n",
            "dove body soap 156\n",
            "private sauna 154\n",
            "eletrolux refrigerator 146\n",
            "indoor fireplace 144\n",
            "free washer 142\n",
            "brastemp stainless steel gas stove 141\n",
            "ev charger 139\n",
            "hromecas 139\n",
            "table corner guards 136\n",
            "valley view 133\n",
            "crib - available upon request 131\n",
            "paid parking garage on premises 129\n",
            "electrolux refrigerator 124\n",
            "free residential garage on premises 124\n",
            "induction stove 122\n",
            "exercise equipment: elliptica 122\n",
            "gym in building 119\n",
            "outdoor kitchen 119\n",
            "pen 24 hours 117\n",
            "ree weight 117\n",
            "readmil 116\n",
            "changing table 114\n",
            "free washer \\u2013 in building 114\n",
            "brastemp stainless steel oven 109\n",
            "washer \\u2013\\u00a0in unit 109\n",
            "ap pool 108\n",
            "clothing storage: walk-in closet 107\n",
            "brastemp gas stove 107\n",
            "fire pit 106\n",
            "clothing storage: wardrobe and closet 105\n",
            "paid parking lot on premises 103\n",
            "portable air conditioning 101\n"
          ]
        }
      ]
    },
    {
      "cell_type": "markdown",
      "source": [
        "Podemos agora criar novas condições para a casa"
      ],
      "metadata": {
        "id": "mn7cMYd3SwdT"
      }
    },
    {
      "cell_type": "code",
      "source": [
        "df_clean[\"air_cond\"] = 0.\n",
        "df_clean[\"TV\"] = 0.\n",
        "df_clean[\"wifi\"] = 0.\n",
        "df_clean[\"beach\"] = 0.\n",
        "df_clean[\"gym\"] = 0.\n",
        "df_clean[\"pool\"] = 0.\n",
        "\n",
        "for i in range(len(df_clean)):\n",
        "\n",
        "  amenitie = df_clean.amenities[i].lower()\n",
        "\n",
        "  if \"air conditioning\" in amenitie or \"ac - split type ductless system\" in amenitie:\n",
        "    df_clean.air_cond.iat[i] = 1.\n",
        "  \n",
        "  if \"tv\" in amenitie or \"hdtv\" in amenitie:\n",
        "    df_clean.TV.iat[i] = 1.\n",
        "  \n",
        "  if \"wifi\" in amenitie or \"wi fi\" in amenitie or \"wi-fi\" in amenitie:\n",
        "    df_clean.wifi.iat[i] = 1.\n",
        "\n",
        "  if \"beach view\" in amenitie or \"beach access\" in amenitie or \"ocean view\" in amenitie or \"sea view\" in amenitie:\n",
        "    df_clean.beach.iat[i] = 1.\n",
        "  \n",
        "  if \"gym\" in amenitie:\n",
        "    df_clean.gym.iat[i] = 1.\n",
        "  \n",
        "  if \"pool\" in amenitie:\n",
        "    df_clean.pool.iat[i] = 1.\n"
      ],
      "metadata": {
        "id": "PgiwDmuuN8ea"
      },
      "execution_count": 15,
      "outputs": []
    },
    {
      "cell_type": "markdown",
      "source": [
        "Agora, associaremos o bairro ao valor de seu metro quadrado. Dados a partir do link: https://portal.loft.com.br/metro-quadrado-mais-caro-do-rio-de-janeiro/"
      ],
      "metadata": {
        "id": "rbzmqSJ8YOXk"
      }
    },
    {
      "cell_type": "code",
      "source": [
        "data  = { \"Leblon\"\t:  16928, \"Ipanema\"\t: 15328, \"Lagoa\" : 15249, \"Jardim Botânico\" : 14530, \"Gávea\" : \t14078, \"Urca\" : 13083, \"Botafogo\"\t: 12513, \"Humaitá\" : 12402,\t\n",
        "\"Barra Da Tijuca: Jardim Oceânico\" : 12042, \"Leme\" : 11408, \"Barra Da Tijuca\" : 11038, \"Copacabana\" : 10955, \"Flamengo\" : 10671,\"Laranjeiras\": 10438,\"São Conrado\" : 10402,\n",
        "\"Glória\" :  9716,\"Catete\" : 9550,\"Cosme Velho\" : 9530, \"Paciência\" :\t9122,\"Guaratiba\" : 8538,\"Gamboa\": 8083,\"Santa Cruz\"\t: 8070,\"Cidade Nova\"\t: 7941 ,\"Jacarepaguá\"\t: 7904,\n",
        "\"Santo Cristo\"\t:  7890,\t\"Centro\" : 7881, \"Itanhangá\" : 7710, \"Alto Da Boa Vista\":\t 7676, \"Recreio Dos Bandeirantes\" : 7509, \"Maracanã\"\t: 7443,\"Santa Teresa\" : 7215,\n",
        "\"Campo Grande\" : 7105, \"Tijuca\" : 7052,\t\"Ribeira (Ilha Do Governador)\" : 7045, \"Camorim\" : 6833 }\n",
        "data2 = {}\n",
        "for i in data:\n",
        " data2[i.lower()] = data[i]\n",
        "\n",
        "df_clean[\"valor\"] = 0\n",
        "\n"
      ],
      "metadata": {
        "id": "IsN7_rOZSuJk"
      },
      "execution_count": 16,
      "outputs": []
    },
    {
      "cell_type": "code",
      "source": [
        "for i in range((len(df_clean))):\n",
        "  if df_clean.neighbourhood_cleansed[i].lower() in data2:\n",
        "   df_clean[\"valor\"].iat[i] = data2[df_clean.neighbourhood_cleansed[i].lower()]"
      ],
      "metadata": {
        "id": "MyjjYDIDYNUP"
      },
      "execution_count": 17,
      "outputs": []
    },
    {
      "cell_type": "code",
      "source": [
        "df_clean.drop(df_clean[df_clean.valor == 0].index, axis=0, inplace=True)"
      ],
      "metadata": {
        "id": "s97N4B5cYztG"
      },
      "execution_count": 18,
      "outputs": []
    },
    {
      "cell_type": "code",
      "source": [
        "df_clean.info()"
      ],
      "metadata": {
        "colab": {
          "base_uri": "https://localhost:8080/"
        },
        "id": "xre0IKaCbkx_",
        "outputId": "345e819e-9ac5-45a0-ff9f-184a17062543"
      },
      "execution_count": 19,
      "outputs": [
        {
          "output_type": "stream",
          "name": "stdout",
          "text": [
            "<class 'pandas.core.frame.DataFrame'>\n",
            "Int64Index: 20685 entries, 0 to 22092\n",
            "Data columns (total 24 columns):\n",
            " #   Column                  Non-Null Count  Dtype  \n",
            "---  ------                  --------------  -----  \n",
            " 0   index                   20685 non-null  int64  \n",
            " 1   id                      20685 non-null  int64  \n",
            " 2   reviews_per_month       14902 non-null  float64\n",
            " 3   host_is_superhost       20685 non-null  float64\n",
            " 4   neighbourhood_cleansed  20685 non-null  object \n",
            " 5   room_type               20685 non-null  object \n",
            " 6   accommodates            20685 non-null  int64  \n",
            " 7   bathrooms_text          20673 non-null  float64\n",
            " 8   bedrooms                19530 non-null  float64\n",
            " 9   beds                    20575 non-null  float64\n",
            " 10  amenities               20685 non-null  object \n",
            " 11  price                   20685 non-null  float64\n",
            " 12  review_scores_rating    14902 non-null  float64\n",
            " 13  number_of_reviews       20685 non-null  int64  \n",
            " 14  latitude                20685 non-null  float64\n",
            " 15  longitude               20685 non-null  float64\n",
            " 16  minimum_nights          20685 non-null  int64  \n",
            " 17  air_cond                20685 non-null  float64\n",
            " 18  TV                      20685 non-null  float64\n",
            " 19  wifi                    20685 non-null  float64\n",
            " 20  beach                   20685 non-null  float64\n",
            " 21  gym                     20685 non-null  float64\n",
            " 22  pool                    20685 non-null  float64\n",
            " 23  valor                   20685 non-null  int64  \n",
            "dtypes: float64(15), int64(6), object(3)\n",
            "memory usage: 3.9+ MB\n"
          ]
        }
      ]
    },
    {
      "cell_type": "code",
      "source": [
        "df_clean.describe()"
      ],
      "metadata": {
        "colab": {
          "base_uri": "https://localhost:8080/",
          "height": 393
        },
        "id": "cKg8m4a2af1X",
        "outputId": "09031be7-ab8b-4f03-8a91-84c90ac13ab6"
      },
      "execution_count": 20,
      "outputs": [
        {
          "output_type": "execute_result",
          "data": {
            "text/plain": [
              "              index            id  reviews_per_month  host_is_superhost  \\\n",
              "count  20685.000000  2.068500e+04       14902.000000       20685.000000   \n",
              "mean   13826.649166  2.218483e+17           0.962163           0.241866   \n",
              "std     8104.216463  3.271764e+17           1.043224           0.428224   \n",
              "min        0.000000  1.787800e+04           0.010000           0.000000   \n",
              "25%     6780.000000  1.617171e+07           0.220000           0.000000   \n",
              "50%    13705.000000  4.574874e+07           0.620000           0.000000   \n",
              "75%    20601.000000  6.289766e+17           1.350000           0.000000   \n",
              "max    28299.000000  7.914854e+17          12.000000           1.000000   \n",
              "\n",
              "       accommodates  bathrooms_text      bedrooms          beds  \\\n",
              "count  20685.000000    20673.000000  19530.000000  20575.000000   \n",
              "mean       4.532076        1.618585      1.820584      2.733803   \n",
              "std        2.243579        0.988372      0.996263      2.040313   \n",
              "min        1.000000        0.000000      1.000000      1.000000   \n",
              "25%        3.000000        1.000000      1.000000      2.000000   \n",
              "50%        4.000000        1.000000      2.000000      2.000000   \n",
              "75%        6.000000        2.000000      2.000000      3.000000   \n",
              "max       16.000000       15.000000     15.000000     91.000000   \n",
              "\n",
              "               price  review_scores_rating  ...      latitude     longitude  \\\n",
              "count   20685.000000          14902.000000  ...  20685.000000  20685.000000   \n",
              "mean     1583.544888              4.739673  ...    -22.973427    -43.244141   \n",
              "std      9025.968129              0.552777  ...      0.026311      0.095769   \n",
              "min        51.000000              0.000000  ...    -23.063370    -43.701218   \n",
              "25%       439.000000              4.700000  ...    -22.985120    -43.276718   \n",
              "50%       740.000000              4.890000  ...    -22.975870    -43.193460   \n",
              "75%      1246.000000              5.000000  ...    -22.964040    -43.185100   \n",
              "max    500000.000000              5.000000  ...    -22.840830    -43.159640   \n",
              "\n",
              "       minimum_nights      air_cond            TV          wifi         beach  \\\n",
              "count    20685.000000  20685.000000  20685.000000  20685.000000  20685.000000   \n",
              "mean         5.023495      0.773024      0.938506      0.931786      0.407783   \n",
              "std         21.860635      0.418887      0.240240      0.252118      0.491434   \n",
              "min          1.000000      0.000000      0.000000      0.000000      0.000000   \n",
              "25%          2.000000      1.000000      1.000000      1.000000      0.000000   \n",
              "50%          3.000000      1.000000      1.000000      1.000000      0.000000   \n",
              "75%          4.000000      1.000000      1.000000      1.000000      1.000000   \n",
              "max       1000.000000      1.000000      1.000000      1.000000      1.000000   \n",
              "\n",
              "                gym          pool         valor  \n",
              "count  20685.000000  20685.000000  20685.000000  \n",
              "mean       0.173507      0.276045  11297.498042  \n",
              "std        0.378694      0.447050   2687.673191  \n",
              "min        0.000000      0.000000   6833.000000  \n",
              "25%        0.000000      0.000000  10671.000000  \n",
              "50%        0.000000      0.000000  10955.000000  \n",
              "75%        0.000000      1.000000  12402.000000  \n",
              "max        1.000000      1.000000  16928.000000  \n",
              "\n",
              "[8 rows x 21 columns]"
            ],
            "text/html": [
              "\n",
              "  <div id=\"df-d14646bb-e78c-44b1-a65f-852af070a9fd\">\n",
              "    <div class=\"colab-df-container\">\n",
              "      <div>\n",
              "<style scoped>\n",
              "    .dataframe tbody tr th:only-of-type {\n",
              "        vertical-align: middle;\n",
              "    }\n",
              "\n",
              "    .dataframe tbody tr th {\n",
              "        vertical-align: top;\n",
              "    }\n",
              "\n",
              "    .dataframe thead th {\n",
              "        text-align: right;\n",
              "    }\n",
              "</style>\n",
              "<table border=\"1\" class=\"dataframe\">\n",
              "  <thead>\n",
              "    <tr style=\"text-align: right;\">\n",
              "      <th></th>\n",
              "      <th>index</th>\n",
              "      <th>id</th>\n",
              "      <th>reviews_per_month</th>\n",
              "      <th>host_is_superhost</th>\n",
              "      <th>accommodates</th>\n",
              "      <th>bathrooms_text</th>\n",
              "      <th>bedrooms</th>\n",
              "      <th>beds</th>\n",
              "      <th>price</th>\n",
              "      <th>review_scores_rating</th>\n",
              "      <th>...</th>\n",
              "      <th>latitude</th>\n",
              "      <th>longitude</th>\n",
              "      <th>minimum_nights</th>\n",
              "      <th>air_cond</th>\n",
              "      <th>TV</th>\n",
              "      <th>wifi</th>\n",
              "      <th>beach</th>\n",
              "      <th>gym</th>\n",
              "      <th>pool</th>\n",
              "      <th>valor</th>\n",
              "    </tr>\n",
              "  </thead>\n",
              "  <tbody>\n",
              "    <tr>\n",
              "      <th>count</th>\n",
              "      <td>20685.000000</td>\n",
              "      <td>2.068500e+04</td>\n",
              "      <td>14902.000000</td>\n",
              "      <td>20685.000000</td>\n",
              "      <td>20685.000000</td>\n",
              "      <td>20673.000000</td>\n",
              "      <td>19530.000000</td>\n",
              "      <td>20575.000000</td>\n",
              "      <td>20685.000000</td>\n",
              "      <td>14902.000000</td>\n",
              "      <td>...</td>\n",
              "      <td>20685.000000</td>\n",
              "      <td>20685.000000</td>\n",
              "      <td>20685.000000</td>\n",
              "      <td>20685.000000</td>\n",
              "      <td>20685.000000</td>\n",
              "      <td>20685.000000</td>\n",
              "      <td>20685.000000</td>\n",
              "      <td>20685.000000</td>\n",
              "      <td>20685.000000</td>\n",
              "      <td>20685.000000</td>\n",
              "    </tr>\n",
              "    <tr>\n",
              "      <th>mean</th>\n",
              "      <td>13826.649166</td>\n",
              "      <td>2.218483e+17</td>\n",
              "      <td>0.962163</td>\n",
              "      <td>0.241866</td>\n",
              "      <td>4.532076</td>\n",
              "      <td>1.618585</td>\n",
              "      <td>1.820584</td>\n",
              "      <td>2.733803</td>\n",
              "      <td>1583.544888</td>\n",
              "      <td>4.739673</td>\n",
              "      <td>...</td>\n",
              "      <td>-22.973427</td>\n",
              "      <td>-43.244141</td>\n",
              "      <td>5.023495</td>\n",
              "      <td>0.773024</td>\n",
              "      <td>0.938506</td>\n",
              "      <td>0.931786</td>\n",
              "      <td>0.407783</td>\n",
              "      <td>0.173507</td>\n",
              "      <td>0.276045</td>\n",
              "      <td>11297.498042</td>\n",
              "    </tr>\n",
              "    <tr>\n",
              "      <th>std</th>\n",
              "      <td>8104.216463</td>\n",
              "      <td>3.271764e+17</td>\n",
              "      <td>1.043224</td>\n",
              "      <td>0.428224</td>\n",
              "      <td>2.243579</td>\n",
              "      <td>0.988372</td>\n",
              "      <td>0.996263</td>\n",
              "      <td>2.040313</td>\n",
              "      <td>9025.968129</td>\n",
              "      <td>0.552777</td>\n",
              "      <td>...</td>\n",
              "      <td>0.026311</td>\n",
              "      <td>0.095769</td>\n",
              "      <td>21.860635</td>\n",
              "      <td>0.418887</td>\n",
              "      <td>0.240240</td>\n",
              "      <td>0.252118</td>\n",
              "      <td>0.491434</td>\n",
              "      <td>0.378694</td>\n",
              "      <td>0.447050</td>\n",
              "      <td>2687.673191</td>\n",
              "    </tr>\n",
              "    <tr>\n",
              "      <th>min</th>\n",
              "      <td>0.000000</td>\n",
              "      <td>1.787800e+04</td>\n",
              "      <td>0.010000</td>\n",
              "      <td>0.000000</td>\n",
              "      <td>1.000000</td>\n",
              "      <td>0.000000</td>\n",
              "      <td>1.000000</td>\n",
              "      <td>1.000000</td>\n",
              "      <td>51.000000</td>\n",
              "      <td>0.000000</td>\n",
              "      <td>...</td>\n",
              "      <td>-23.063370</td>\n",
              "      <td>-43.701218</td>\n",
              "      <td>1.000000</td>\n",
              "      <td>0.000000</td>\n",
              "      <td>0.000000</td>\n",
              "      <td>0.000000</td>\n",
              "      <td>0.000000</td>\n",
              "      <td>0.000000</td>\n",
              "      <td>0.000000</td>\n",
              "      <td>6833.000000</td>\n",
              "    </tr>\n",
              "    <tr>\n",
              "      <th>25%</th>\n",
              "      <td>6780.000000</td>\n",
              "      <td>1.617171e+07</td>\n",
              "      <td>0.220000</td>\n",
              "      <td>0.000000</td>\n",
              "      <td>3.000000</td>\n",
              "      <td>1.000000</td>\n",
              "      <td>1.000000</td>\n",
              "      <td>2.000000</td>\n",
              "      <td>439.000000</td>\n",
              "      <td>4.700000</td>\n",
              "      <td>...</td>\n",
              "      <td>-22.985120</td>\n",
              "      <td>-43.276718</td>\n",
              "      <td>2.000000</td>\n",
              "      <td>1.000000</td>\n",
              "      <td>1.000000</td>\n",
              "      <td>1.000000</td>\n",
              "      <td>0.000000</td>\n",
              "      <td>0.000000</td>\n",
              "      <td>0.000000</td>\n",
              "      <td>10671.000000</td>\n",
              "    </tr>\n",
              "    <tr>\n",
              "      <th>50%</th>\n",
              "      <td>13705.000000</td>\n",
              "      <td>4.574874e+07</td>\n",
              "      <td>0.620000</td>\n",
              "      <td>0.000000</td>\n",
              "      <td>4.000000</td>\n",
              "      <td>1.000000</td>\n",
              "      <td>2.000000</td>\n",
              "      <td>2.000000</td>\n",
              "      <td>740.000000</td>\n",
              "      <td>4.890000</td>\n",
              "      <td>...</td>\n",
              "      <td>-22.975870</td>\n",
              "      <td>-43.193460</td>\n",
              "      <td>3.000000</td>\n",
              "      <td>1.000000</td>\n",
              "      <td>1.000000</td>\n",
              "      <td>1.000000</td>\n",
              "      <td>0.000000</td>\n",
              "      <td>0.000000</td>\n",
              "      <td>0.000000</td>\n",
              "      <td>10955.000000</td>\n",
              "    </tr>\n",
              "    <tr>\n",
              "      <th>75%</th>\n",
              "      <td>20601.000000</td>\n",
              "      <td>6.289766e+17</td>\n",
              "      <td>1.350000</td>\n",
              "      <td>0.000000</td>\n",
              "      <td>6.000000</td>\n",
              "      <td>2.000000</td>\n",
              "      <td>2.000000</td>\n",
              "      <td>3.000000</td>\n",
              "      <td>1246.000000</td>\n",
              "      <td>5.000000</td>\n",
              "      <td>...</td>\n",
              "      <td>-22.964040</td>\n",
              "      <td>-43.185100</td>\n",
              "      <td>4.000000</td>\n",
              "      <td>1.000000</td>\n",
              "      <td>1.000000</td>\n",
              "      <td>1.000000</td>\n",
              "      <td>1.000000</td>\n",
              "      <td>0.000000</td>\n",
              "      <td>1.000000</td>\n",
              "      <td>12402.000000</td>\n",
              "    </tr>\n",
              "    <tr>\n",
              "      <th>max</th>\n",
              "      <td>28299.000000</td>\n",
              "      <td>7.914854e+17</td>\n",
              "      <td>12.000000</td>\n",
              "      <td>1.000000</td>\n",
              "      <td>16.000000</td>\n",
              "      <td>15.000000</td>\n",
              "      <td>15.000000</td>\n",
              "      <td>91.000000</td>\n",
              "      <td>500000.000000</td>\n",
              "      <td>5.000000</td>\n",
              "      <td>...</td>\n",
              "      <td>-22.840830</td>\n",
              "      <td>-43.159640</td>\n",
              "      <td>1000.000000</td>\n",
              "      <td>1.000000</td>\n",
              "      <td>1.000000</td>\n",
              "      <td>1.000000</td>\n",
              "      <td>1.000000</td>\n",
              "      <td>1.000000</td>\n",
              "      <td>1.000000</td>\n",
              "      <td>16928.000000</td>\n",
              "    </tr>\n",
              "  </tbody>\n",
              "</table>\n",
              "<p>8 rows × 21 columns</p>\n",
              "</div>\n",
              "      <button class=\"colab-df-convert\" onclick=\"convertToInteractive('df-d14646bb-e78c-44b1-a65f-852af070a9fd')\"\n",
              "              title=\"Convert this dataframe to an interactive table.\"\n",
              "              style=\"display:none;\">\n",
              "        \n",
              "  <svg xmlns=\"http://www.w3.org/2000/svg\" height=\"24px\"viewBox=\"0 0 24 24\"\n",
              "       width=\"24px\">\n",
              "    <path d=\"M0 0h24v24H0V0z\" fill=\"none\"/>\n",
              "    <path d=\"M18.56 5.44l.94 2.06.94-2.06 2.06-.94-2.06-.94-.94-2.06-.94 2.06-2.06.94zm-11 1L8.5 8.5l.94-2.06 2.06-.94-2.06-.94L8.5 2.5l-.94 2.06-2.06.94zm10 10l.94 2.06.94-2.06 2.06-.94-2.06-.94-.94-2.06-.94 2.06-2.06.94z\"/><path d=\"M17.41 7.96l-1.37-1.37c-.4-.4-.92-.59-1.43-.59-.52 0-1.04.2-1.43.59L10.3 9.45l-7.72 7.72c-.78.78-.78 2.05 0 2.83L4 21.41c.39.39.9.59 1.41.59.51 0 1.02-.2 1.41-.59l7.78-7.78 2.81-2.81c.8-.78.8-2.07 0-2.86zM5.41 20L4 18.59l7.72-7.72 1.47 1.35L5.41 20z\"/>\n",
              "  </svg>\n",
              "      </button>\n",
              "      \n",
              "  <style>\n",
              "    .colab-df-container {\n",
              "      display:flex;\n",
              "      flex-wrap:wrap;\n",
              "      gap: 12px;\n",
              "    }\n",
              "\n",
              "    .colab-df-convert {\n",
              "      background-color: #E8F0FE;\n",
              "      border: none;\n",
              "      border-radius: 50%;\n",
              "      cursor: pointer;\n",
              "      display: none;\n",
              "      fill: #1967D2;\n",
              "      height: 32px;\n",
              "      padding: 0 0 0 0;\n",
              "      width: 32px;\n",
              "    }\n",
              "\n",
              "    .colab-df-convert:hover {\n",
              "      background-color: #E2EBFA;\n",
              "      box-shadow: 0px 1px 2px rgba(60, 64, 67, 0.3), 0px 1px 3px 1px rgba(60, 64, 67, 0.15);\n",
              "      fill: #174EA6;\n",
              "    }\n",
              "\n",
              "    [theme=dark] .colab-df-convert {\n",
              "      background-color: #3B4455;\n",
              "      fill: #D2E3FC;\n",
              "    }\n",
              "\n",
              "    [theme=dark] .colab-df-convert:hover {\n",
              "      background-color: #434B5C;\n",
              "      box-shadow: 0px 1px 3px 1px rgba(0, 0, 0, 0.15);\n",
              "      filter: drop-shadow(0px 1px 2px rgba(0, 0, 0, 0.3));\n",
              "      fill: #FFFFFF;\n",
              "    }\n",
              "  </style>\n",
              "\n",
              "      <script>\n",
              "        const buttonEl =\n",
              "          document.querySelector('#df-d14646bb-e78c-44b1-a65f-852af070a9fd button.colab-df-convert');\n",
              "        buttonEl.style.display =\n",
              "          google.colab.kernel.accessAllowed ? 'block' : 'none';\n",
              "\n",
              "        async function convertToInteractive(key) {\n",
              "          const element = document.querySelector('#df-d14646bb-e78c-44b1-a65f-852af070a9fd');\n",
              "          const dataTable =\n",
              "            await google.colab.kernel.invokeFunction('convertToInteractive',\n",
              "                                                     [key], {});\n",
              "          if (!dataTable) return;\n",
              "\n",
              "          const docLinkHtml = 'Like what you see? Visit the ' +\n",
              "            '<a target=\"_blank\" href=https://colab.research.google.com/notebooks/data_table.ipynb>data table notebook</a>'\n",
              "            + ' to learn more about interactive tables.';\n",
              "          element.innerHTML = '';\n",
              "          dataTable['output_type'] = 'display_data';\n",
              "          await google.colab.output.renderOutput(dataTable, element);\n",
              "          const docLink = document.createElement('div');\n",
              "          docLink.innerHTML = docLinkHtml;\n",
              "          element.appendChild(docLink);\n",
              "        }\n",
              "      </script>\n",
              "    </div>\n",
              "  </div>\n",
              "  "
            ]
          },
          "metadata": {},
          "execution_count": 20
        }
      ]
    },
    {
      "cell_type": "code",
      "source": [
        "df_clean.plot(kind=\"scatter\", x='longitude', y='latitude', alpha=0.4, c=df_clean['price'], s=8,\n",
        "              cmap=plt.get_cmap('jet'), figsize=(12,8));"
      ],
      "metadata": {
        "colab": {
          "base_uri": "https://localhost:8080/",
          "height": 473
        },
        "id": "F3A6XdGVVYhq",
        "outputId": "e7e6a776-8f59-4c82-eb31-8f2b04d4584d"
      },
      "execution_count": 21,
      "outputs": [
        {
          "output_type": "display_data",
          "data": {
            "text/plain": [
              "<Figure size 864x576 with 2 Axes>"
            ],
            "image/png": "[encoded data removed]"
          },
          "metadata": {
            "needs_background": "light"
          }
        }
      ]
    },
    {
      "cell_type": "markdown",
      "metadata": {
        "id": "qb5By2nIMS6m"
      },
      "source": [
        "## Análise dos Dados\n",
        "\n",
        "Esta etapa tem por objetivo criar uma consciência situacional inicial e permitir um entendimento de como os dados estão estruturados.\n"
      ]
    },
    {
      "cell_type": "markdown",
      "metadata": {
        "id": "RYgvuebKNg8-"
      },
      "source": [
        "**Dicionário das variáveis**\n",
        "\n",
        "* `id` - número de id gerado para identificar o imóvel\n",
        "* `host_is_superhost`- categoria a qual o host pertence\n",
        "* `neighbourhood_cleansed` - nome do bairro\n",
        "* `latitude` - coordenada da latitude da propriedade\n",
        "* `longitude` - coordenada da longitude da propriedade\n",
        "* `room_type` - informa o tipo de quarto que é oferecido\n",
        "* `price` - preço para alugar o imóvel\n",
        "* `minimum_nights` - quantidade mínima de noites para reservar\n",
        "* `number_of_reviews` - número de reviews que a propriedade possui\n",
        "* `accommodates` - quantas pessoas a casa acomoda\n",
        "* `bathrooms_text` - quantidade de banheiros\n",
        "* `beds` - quantidade de camas\n",
        "* `bedrooms` - quantidade de quartos\n",
        "* `amenities` - extras da locação\n",
        "* `kitchen, air_cond,tv,wifi` - Dados sobre presença de cozinha, ar condicionado, TV e wifi\n",
        "* `valor` - valor do metro quadrado do bairro \n",
        "\n",
        "\n",
        "Antes de iniciar qualquer análise, vamos verificar a cara do nosso *dataset*, analisando as 5 primeiras entradas."
      ]
    },
    {
      "cell_type": "code",
      "metadata": {
        "id": "2iS_dae7YQtO",
        "colab": {
          "base_uri": "https://localhost:8080/",
          "height": 386
        },
        "outputId": "6d1f9b89-365b-45ff-d653-f915be0b1c3b"
      },
      "source": [
        "# mostrar as 5 primeiras entradas\n",
        "df_clean.head()"
      ],
      "execution_count": 22,
      "outputs": [
        {
          "output_type": "execute_result",
          "data": {
            "text/plain": [
              "   index                  id  reviews_per_month  host_is_superhost  \\\n",
              "0      0  783493769216852616                NaN                0.0   \n",
              "1      2  782895997622988215                NaN                0.0   \n",
              "2      3            23768085               1.59                0.0   \n",
              "3      4            10463735               0.03                0.0   \n",
              "4      5            53887789                NaN                0.0   \n",
              "\n",
              "  neighbourhood_cleansed        room_type  accommodates  bathrooms_text  \\\n",
              "0                   Leme  Entire home/apt             2             1.0   \n",
              "1            Laranjeiras  Entire home/apt             4             1.0   \n",
              "2        Barra da Tijuca  Entire home/apt             2             1.0   \n",
              "3            Laranjeiras  Entire home/apt             6             2.0   \n",
              "4             Copacabana  Entire home/apt             2             1.0   \n",
              "\n",
              "   bedrooms  beds  ...  latitude  longitude  minimum_nights  air_cond   TV  \\\n",
              "0       1.0   1.0  ... -22.96421  -43.17160               1       1.0  1.0   \n",
              "1       2.0   1.0  ... -22.93196  -43.18018               3       1.0  1.0   \n",
              "2       1.0   6.0  ... -23.01104  -43.32034               3       1.0  1.0   \n",
              "3       2.0   3.0  ... -22.93555  -43.19107               1       1.0  1.0   \n",
              "4       1.0   1.0  ... -22.97032  -43.18081               5       0.0  0.0   \n",
              "\n",
              "   wifi  beach  gym  pool  valor  \n",
              "0   1.0    1.0  0.0   0.0  11408  \n",
              "1   1.0    0.0  0.0   0.0  10438  \n",
              "2   1.0    1.0  1.0   1.0  11038  \n",
              "3   1.0    0.0  0.0   0.0  10438  \n",
              "4   0.0    0.0  0.0   0.0  10955  \n",
              "\n",
              "[5 rows x 24 columns]"
            ],
            "text/html": [
              "\n",
              "  <div id=\"df-0893c6cc-2b8c-4062-9da1-f2ef9ca967a7\">\n",
              "    <div class=\"colab-df-container\">\n",
              "      <div>\n",
              "<style scoped>\n",
              "    .dataframe tbody tr th:only-of-type {\n",
              "        vertical-align: middle;\n",
              "    }\n",
              "\n",
              "    .dataframe tbody tr th {\n",
              "        vertical-align: top;\n",
              "    }\n",
              "\n",
              "    .dataframe thead th {\n",
              "        text-align: right;\n",
              "    }\n",
              "</style>\n",
              "<table border=\"1\" class=\"dataframe\">\n",
              "  <thead>\n",
              "    <tr style=\"text-align: right;\">\n",
              "      <th></th>\n",
              "      <th>index</th>\n",
              "      <th>id</th>\n",
              "      <th>reviews_per_month</th>\n",
              "      <th>host_is_superhost</th>\n",
              "      <th>neighbourhood_cleansed</th>\n",
              "      <th>room_type</th>\n",
              "      <th>accommodates</th>\n",
              "      <th>bathrooms_text</th>\n",
              "      <th>bedrooms</th>\n",
              "      <th>beds</th>\n",
              "      <th>...</th>\n",
              "      <th>latitude</th>\n",
              "      <th>longitude</th>\n",
              "      <th>minimum_nights</th>\n",
              "      <th>air_cond</th>\n",
              "      <th>TV</th>\n",
              "      <th>wifi</th>\n",
              "      <th>beach</th>\n",
              "      <th>gym</th>\n",
              "      <th>pool</th>\n",
              "      <th>valor</th>\n",
              "    </tr>\n",
              "  </thead>\n",
              "  <tbody>\n",
              "    <tr>\n",
              "      <th>0</th>\n",
              "      <td>0</td>\n",
              "      <td>783493769216852616</td>\n",
              "      <td>NaN</td>\n",
              "      <td>0.0</td>\n",
              "      <td>Leme</td>\n",
              "      <td>Entire home/apt</td>\n",
              "      <td>2</td>\n",
              "      <td>1.0</td>\n",
              "      <td>1.0</td>\n",
              "      <td>1.0</td>\n",
              "      <td>...</td>\n",
              "      <td>-22.96421</td>\n",
              "      <td>-43.17160</td>\n",
              "      <td>1</td>\n",
              "      <td>1.0</td>\n",
              "      <td>1.0</td>\n",
              "      <td>1.0</td>\n",
              "      <td>1.0</td>\n",
              "      <td>0.0</td>\n",
              "      <td>0.0</td>\n",
              "      <td>11408</td>\n",
              "    </tr>\n",
              "    <tr>\n",
              "      <th>1</th>\n",
              "      <td>2</td>\n",
              "      <td>782895997622988215</td>\n",
              "      <td>NaN</td>\n",
              "      <td>0.0</td>\n",
              "      <td>Laranjeiras</td>\n",
              "      <td>Entire home/apt</td>\n",
              "      <td>4</td>\n",
              "      <td>1.0</td>\n",
              "      <td>2.0</td>\n",
              "      <td>1.0</td>\n",
              "      <td>...</td>\n",
              "      <td>-22.93196</td>\n",
              "      <td>-43.18018</td>\n",
              "      <td>3</td>\n",
              "      <td>1.0</td>\n",
              "      <td>1.0</td>\n",
              "      <td>1.0</td>\n",
              "      <td>0.0</td>\n",
              "      <td>0.0</td>\n",
              "      <td>0.0</td>\n",
              "      <td>10438</td>\n",
              "    </tr>\n",
              "    <tr>\n",
              "      <th>2</th>\n",
              "      <td>3</td>\n",
              "      <td>23768085</td>\n",
              "      <td>1.59</td>\n",
              "      <td>0.0</td>\n",
              "      <td>Barra da Tijuca</td>\n",
              "      <td>Entire home/apt</td>\n",
              "      <td>2</td>\n",
              "      <td>1.0</td>\n",
              "      <td>1.0</td>\n",
              "      <td>6.0</td>\n",
              "      <td>...</td>\n",
              "      <td>-23.01104</td>\n",
              "      <td>-43.32034</td>\n",
              "      <td>3</td>\n",
              "      <td>1.0</td>\n",
              "      <td>1.0</td>\n",
              "      <td>1.0</td>\n",
              "      <td>1.0</td>\n",
              "      <td>1.0</td>\n",
              "      <td>1.0</td>\n",
              "      <td>11038</td>\n",
              "    </tr>\n",
              "    <tr>\n",
              "      <th>3</th>\n",
              "      <td>4</td>\n",
              "      <td>10463735</td>\n",
              "      <td>0.03</td>\n",
              "      <td>0.0</td>\n",
              "      <td>Laranjeiras</td>\n",
              "      <td>Entire home/apt</td>\n",
              "      <td>6</td>\n",
              "      <td>2.0</td>\n",
              "      <td>2.0</td>\n",
              "      <td>3.0</td>\n",
              "      <td>...</td>\n",
              "      <td>-22.93555</td>\n",
              "      <td>-43.19107</td>\n",
              "      <td>1</td>\n",
              "      <td>1.0</td>\n",
              "      <td>1.0</td>\n",
              "      <td>1.0</td>\n",
              "      <td>0.0</td>\n",
              "      <td>0.0</td>\n",
              "      <td>0.0</td>\n",
              "      <td>10438</td>\n",
              "    </tr>\n",
              "    <tr>\n",
              "      <th>4</th>\n",
              "      <td>5</td>\n",
              "      <td>53887789</td>\n",
              "      <td>NaN</td>\n",
              "      <td>0.0</td>\n",
              "      <td>Copacabana</td>\n",
              "      <td>Entire home/apt</td>\n",
              "      <td>2</td>\n",
              "      <td>1.0</td>\n",
              "      <td>1.0</td>\n",
              "      <td>1.0</td>\n",
              "      <td>...</td>\n",
              "      <td>-22.97032</td>\n",
              "      <td>-43.18081</td>\n",
              "      <td>5</td>\n",
              "      <td>0.0</td>\n",
              "      <td>0.0</td>\n",
              "      <td>0.0</td>\n",
              "      <td>0.0</td>\n",
              "      <td>0.0</td>\n",
              "      <td>0.0</td>\n",
              "      <td>10955</td>\n",
              "    </tr>\n",
              "  </tbody>\n",
              "</table>\n",
              "<p>5 rows × 24 columns</p>\n",
              "</div>\n",
              "      <button class=\"colab-df-convert\" onclick=\"convertToInteractive('df-0893c6cc-2b8c-4062-9da1-f2ef9ca967a7')\"\n",
              "              title=\"Convert this dataframe to an interactive table.\"\n",
              "              style=\"display:none;\">\n",
              "        \n",
              "  <svg xmlns=\"http://www.w3.org/2000/svg\" height=\"24px\"viewBox=\"0 0 24 24\"\n",
              "       width=\"24px\">\n",
              "    <path d=\"M0 0h24v24H0V0z\" fill=\"none\"/>\n",
              "    <path d=\"M18.56 5.44l.94 2.06.94-2.06 2.06-.94-2.06-.94-.94-2.06-.94 2.06-2.06.94zm-11 1L8.5 8.5l.94-2.06 2.06-.94-2.06-.94L8.5 2.5l-.94 2.06-2.06.94zm10 10l.94 2.06.94-2.06 2.06-.94-2.06-.94-.94-2.06-.94 2.06-2.06.94z\"/><path d=\"M17.41 7.96l-1.37-1.37c-.4-.4-.92-.59-1.43-.59-.52 0-1.04.2-1.43.59L10.3 9.45l-7.72 7.72c-.78.78-.78 2.05 0 2.83L4 21.41c.39.39.9.59 1.41.59.51 0 1.02-.2 1.41-.59l7.78-7.78 2.81-2.81c.8-.78.8-2.07 0-2.86zM5.41 20L4 18.59l7.72-7.72 1.47 1.35L5.41 20z\"/>\n",
              "  </svg>\n",
              "      </button>\n",
              "      \n",
              "  <style>\n",
              "    .colab-df-container {\n",
              "      display:flex;\n",
              "      flex-wrap:wrap;\n",
              "      gap: 12px;\n",
              "    }\n",
              "\n",
              "    .colab-df-convert {\n",
              "      background-color: #E8F0FE;\n",
              "      border: none;\n",
              "      border-radius: 50%;\n",
              "      cursor: pointer;\n",
              "      display: none;\n",
              "      fill: #1967D2;\n",
              "      height: 32px;\n",
              "      padding: 0 0 0 0;\n",
              "      width: 32px;\n",
              "    }\n",
              "\n",
              "    .colab-df-convert:hover {\n",
              "      background-color: #E2EBFA;\n",
              "      box-shadow: 0px 1px 2px rgba(60, 64, 67, 0.3), 0px 1px 3px 1px rgba(60, 64, 67, 0.15);\n",
              "      fill: #174EA6;\n",
              "    }\n",
              "\n",
              "    [theme=dark] .colab-df-convert {\n",
              "      background-color: #3B4455;\n",
              "      fill: #D2E3FC;\n",
              "    }\n",
              "\n",
              "    [theme=dark] .colab-df-convert:hover {\n",
              "      background-color: #434B5C;\n",
              "      box-shadow: 0px 1px 3px 1px rgba(0, 0, 0, 0.15);\n",
              "      filter: drop-shadow(0px 1px 2px rgba(0, 0, 0, 0.3));\n",
              "      fill: #FFFFFF;\n",
              "    }\n",
              "  </style>\n",
              "\n",
              "      <script>\n",
              "        const buttonEl =\n",
              "          document.querySelector('#df-0893c6cc-2b8c-4062-9da1-f2ef9ca967a7 button.colab-df-convert');\n",
              "        buttonEl.style.display =\n",
              "          google.colab.kernel.accessAllowed ? 'block' : 'none';\n",
              "\n",
              "        async function convertToInteractive(key) {\n",
              "          const element = document.querySelector('#df-0893c6cc-2b8c-4062-9da1-f2ef9ca967a7');\n",
              "          const dataTable =\n",
              "            await google.colab.kernel.invokeFunction('convertToInteractive',\n",
              "                                                     [key], {});\n",
              "          if (!dataTable) return;\n",
              "\n",
              "          const docLinkHtml = 'Like what you see? Visit the ' +\n",
              "            '<a target=\"_blank\" href=https://colab.research.google.com/notebooks/data_table.ipynb>data table notebook</a>'\n",
              "            + ' to learn more about interactive tables.';\n",
              "          element.innerHTML = '';\n",
              "          dataTable['output_type'] = 'display_data';\n",
              "          await google.colab.output.renderOutput(dataTable, element);\n",
              "          const docLink = document.createElement('div');\n",
              "          docLink.innerHTML = docLinkHtml;\n",
              "          element.appendChild(docLink);\n",
              "        }\n",
              "      </script>\n",
              "    </div>\n",
              "  </div>\n",
              "  "
            ]
          },
          "metadata": {},
          "execution_count": 22
        }
      ]
    },
    {
      "cell_type": "markdown",
      "metadata": {
        "id": "6-B_qtEaYEd-"
      },
      "source": [
        "### **Q1. Quantos atributos (variáveis) e quantas entradas o nosso conjunto de dados possui? Quais os tipos das variáveis?**\n",
        "\n",
        "Vamos prosseguir e identificar a quantidade de entradas que nosso conjunto de dados possui e ver os tipos de cada coluna.\n"
      ]
    },
    {
      "cell_type": "code",
      "metadata": {
        "id": "TFRK0tniLV-G",
        "colab": {
          "base_uri": "https://localhost:8080/",
          "height": 503
        },
        "outputId": "06e7c8c1-7c3e-406f-ea84-a0e1f8b437f0"
      },
      "source": [
        "# identificar o volume de dados do DataFrame\n",
        "print(\"Entradas:\\t {}\".format(df_clean.shape[0]))\n",
        "print(\"Variáveis:\\t {}\\n\".format(df_clean.shape[1]))\n",
        "\n",
        "# verificar as 5 primeiras entradas do dataset\n",
        "display(df_clean.dtypes)"
      ],
      "execution_count": 23,
      "outputs": [
        {
          "output_type": "stream",
          "name": "stdout",
          "text": [
            "Entradas:\t 20685\n",
            "Variáveis:\t 24\n",
            "\n"
          ]
        },
        {
          "output_type": "display_data",
          "data": {
            "text/plain": [
              "index                       int64\n",
              "id                          int64\n",
              "reviews_per_month         float64\n",
              "host_is_superhost         float64\n",
              "neighbourhood_cleansed     object\n",
              "room_type                  object\n",
              "accommodates                int64\n",
              "bathrooms_text            float64\n",
              "bedrooms                  float64\n",
              "beds                      float64\n",
              "amenities                  object\n",
              "price                     float64\n",
              "review_scores_rating      float64\n",
              "number_of_reviews           int64\n",
              "latitude                  float64\n",
              "longitude                 float64\n",
              "minimum_nights              int64\n",
              "air_cond                  float64\n",
              "TV                        float64\n",
              "wifi                      float64\n",
              "beach                     float64\n",
              "gym                       float64\n",
              "pool                      float64\n",
              "valor                       int64\n",
              "dtype: object"
            ]
          },
          "metadata": {}
        }
      ]
    },
    {
      "cell_type": "markdown",
      "metadata": {
        "id": "yz1urSUGW9iE"
      },
      "source": [
        "### **Q2. Qual a porcentagem de valores ausentes no *dataset*?**\n",
        "\n",
        "A qualidade de um *dataset* está diretamente relacionada à quantidade de valores ausentes. É importante entender logo no início se esses valores nulos são significativos comparados ao total de entradas.\n"
      ]
    },
    {
      "cell_type": "code",
      "metadata": {
        "id": "plk2FjbCXOqP",
        "colab": {
          "base_uri": "https://localhost:8080/"
        },
        "outputId": "f3835652-ae5a-46aa-ecf1-4f2e67757035"
      },
      "source": [
        "# ordenar em ordem decrescente as variáveis por seus valores ausentes\n",
        "(df_clean.isnull().sum() / df_clean.shape[0]).sort_values(ascending=False)"
      ],
      "execution_count": 24,
      "outputs": [
        {
          "output_type": "execute_result",
          "data": {
            "text/plain": [
              "review_scores_rating      0.279575\n",
              "reviews_per_month         0.279575\n",
              "bedrooms                  0.055838\n",
              "beds                      0.005318\n",
              "bathrooms_text            0.000580\n",
              "latitude                  0.000000\n",
              "pool                      0.000000\n",
              "gym                       0.000000\n",
              "beach                     0.000000\n",
              "wifi                      0.000000\n",
              "TV                        0.000000\n",
              "air_cond                  0.000000\n",
              "minimum_nights            0.000000\n",
              "longitude                 0.000000\n",
              "index                     0.000000\n",
              "number_of_reviews         0.000000\n",
              "id                        0.000000\n",
              "price                     0.000000\n",
              "amenities                 0.000000\n",
              "accommodates              0.000000\n",
              "room_type                 0.000000\n",
              "neighbourhood_cleansed    0.000000\n",
              "host_is_superhost         0.000000\n",
              "valor                     0.000000\n",
              "dtype: float64"
            ]
          },
          "metadata": {},
          "execution_count": 24
        }
      ]
    },
    {
      "cell_type": "markdown",
      "source": [
        "Os valores nulos em review_scores_rating e reviews_per_month se deve aos casos em que o imóvel ainda não foi alugado."
      ],
      "metadata": {
        "id": "2ZdbFDYD9wCm"
      }
    },
    {
      "cell_type": "markdown",
      "source": [
        "Pretende-se criar um modelo preditivo em uma última etapa considerando somente casas bem avaliadas, então eliminaremos as variáveis nulas."
      ],
      "metadata": {
        "id": "ma5M_IiJZhvM"
      }
    },
    {
      "cell_type": "code",
      "source": [
        "df_clean.dropna(inplace = True)\n",
        "(df_clean.isnull().sum() / df_clean.shape[0]).sort_values(ascending=False)"
      ],
      "metadata": {
        "colab": {
          "base_uri": "https://localhost:8080/"
        },
        "id": "AsmYKJu-aFSM",
        "outputId": "7d46e3dc-f8f8-4f29-869e-4a0d87dc2583"
      },
      "execution_count": 25,
      "outputs": [
        {
          "output_type": "execute_result",
          "data": {
            "text/plain": [
              "index                     0.0\n",
              "id                        0.0\n",
              "pool                      0.0\n",
              "gym                       0.0\n",
              "beach                     0.0\n",
              "wifi                      0.0\n",
              "TV                        0.0\n",
              "air_cond                  0.0\n",
              "minimum_nights            0.0\n",
              "longitude                 0.0\n",
              "latitude                  0.0\n",
              "number_of_reviews         0.0\n",
              "review_scores_rating      0.0\n",
              "price                     0.0\n",
              "amenities                 0.0\n",
              "beds                      0.0\n",
              "bedrooms                  0.0\n",
              "bathrooms_text            0.0\n",
              "accommodates              0.0\n",
              "room_type                 0.0\n",
              "neighbourhood_cleansed    0.0\n",
              "host_is_superhost         0.0\n",
              "reviews_per_month         0.0\n",
              "valor                     0.0\n",
              "dtype: float64"
            ]
          },
          "metadata": {},
          "execution_count": 25
        }
      ]
    },
    {
      "cell_type": "code",
      "source": [
        "df_clean.info()"
      ],
      "metadata": {
        "colab": {
          "base_uri": "https://localhost:8080/"
        },
        "id": "-iJ_S7K78jvZ",
        "outputId": "d7bcc856-d3fe-414f-95f0-c9bb78453aea"
      },
      "execution_count": 26,
      "outputs": [
        {
          "output_type": "stream",
          "name": "stdout",
          "text": [
            "<class 'pandas.core.frame.DataFrame'>\n",
            "Int64Index: 13833 entries, 2 to 22090\n",
            "Data columns (total 24 columns):\n",
            " #   Column                  Non-Null Count  Dtype  \n",
            "---  ------                  --------------  -----  \n",
            " 0   index                   13833 non-null  int64  \n",
            " 1   id                      13833 non-null  int64  \n",
            " 2   reviews_per_month       13833 non-null  float64\n",
            " 3   host_is_superhost       13833 non-null  float64\n",
            " 4   neighbourhood_cleansed  13833 non-null  object \n",
            " 5   room_type               13833 non-null  object \n",
            " 6   accommodates            13833 non-null  int64  \n",
            " 7   bathrooms_text          13833 non-null  float64\n",
            " 8   bedrooms                13833 non-null  float64\n",
            " 9   beds                    13833 non-null  float64\n",
            " 10  amenities               13833 non-null  object \n",
            " 11  price                   13833 non-null  float64\n",
            " 12  review_scores_rating    13833 non-null  float64\n",
            " 13  number_of_reviews       13833 non-null  int64  \n",
            " 14  latitude                13833 non-null  float64\n",
            " 15  longitude               13833 non-null  float64\n",
            " 16  minimum_nights          13833 non-null  int64  \n",
            " 17  air_cond                13833 non-null  float64\n",
            " 18  TV                      13833 non-null  float64\n",
            " 19  wifi                    13833 non-null  float64\n",
            " 20  beach                   13833 non-null  float64\n",
            " 21  gym                     13833 non-null  float64\n",
            " 22  pool                    13833 non-null  float64\n",
            " 23  valor                   13833 non-null  int64  \n",
            "dtypes: float64(15), int64(6), object(3)\n",
            "memory usage: 2.6+ MB\n"
          ]
        }
      ]
    },
    {
      "cell_type": "markdown",
      "metadata": {
        "id": "iHXvvHIxaoNc"
      },
      "source": [
        "### **Q3. Qual o tipo de distribuição das variáveis?** \n",
        "\n",
        "Para identificar a distribuição das variáveis, é necessário plotar o histograma."
      ]
    },
    {
      "cell_type": "code",
      "metadata": {
        "id": "q2wWSfeRbmBo",
        "colab": {
          "base_uri": "https://localhost:8080/",
          "height": 879
        },
        "outputId": "8b9baab1-ecb1-4e16-f222-c618eb27c4db"
      },
      "source": [
        "# plotar o histograma das variáveis numéricas\n",
        "df_clean.hist(bins=30, figsize=(15,15));"
      ],
      "execution_count": 27,
      "outputs": [
        {
          "output_type": "display_data",
          "data": {
            "text/plain": [
              "<Figure size 1080x1080 with 25 Axes>"
            ],
            "image/png": "[encoded data removed]"
          },
          "metadata": {
            "needs_background": "light"
          }
        }
      ]
    },
    {
      "cell_type": "markdown",
      "source": [
        "Fácil perceber que praticamente todas as casas possuem TV e wifi, sendo então irrelevante para nossa análise."
      ],
      "metadata": {
        "id": "B-m_qgf5aUBe"
      }
    },
    {
      "cell_type": "markdown",
      "metadata": {
        "id": "7x4aw1j5wNmn"
      },
      "source": [
        "### **Q4. Há *outliers* presentes?**"
      ]
    },
    {
      "cell_type": "markdown",
      "metadata": {
        "id": "ba1xYYTug6bX"
      },
      "source": [
        "Pela distribuição do histograma, é possível verificar indícios da presença de *outliers*. Olhe por exemplo as variáveis `price`e `minimum_nights`\n",
        "Os valores não seguem uma distruição, e distorcem toda a representação gráfica. Para confirmar, há duas maneiras rápidas que auxiliam a detecção de *outliers*. São elas:\n",
        "\n",
        "* Resumo estatístico por meio do método `describe()`\n",
        "* Plotar `boxplots` para a variável."
      ]
    },
    {
      "cell_type": "code",
      "metadata": {
        "id": "ff-8gUahLk-C",
        "colab": {
          "base_uri": "https://localhost:8080/",
          "height": 393
        },
        "outputId": "a48ee02f-e2b8-4057-9829-9f6a1dbfd42a"
      },
      "source": [
        "# ver o resumo estatístico das variáveis numéricas\n",
        "df_clean.describe()"
      ],
      "execution_count": 28,
      "outputs": [
        {
          "output_type": "execute_result",
          "data": {
            "text/plain": [
              "              index            id  reviews_per_month  host_is_superhost  \\\n",
              "count  13833.000000  1.383300e+04       13833.000000       13833.000000   \n",
              "mean   13548.827875  1.642432e+17           0.954542           0.302971   \n",
              "std     7887.678196  2.874698e+17           1.037037           0.459559   \n",
              "min        3.000000  1.787800e+04           0.010000           0.000000   \n",
              "25%     6746.000000  1.619161e+07           0.220000           0.000000   \n",
              "50%    13233.000000  4.201385e+07           0.610000           0.000000   \n",
              "75%    19723.000000  5.435772e+07           1.330000           1.000000   \n",
              "max    28297.000000  7.900352e+17          12.000000           1.000000   \n",
              "\n",
              "       accommodates  bathrooms_text      bedrooms          beds  \\\n",
              "count  13833.000000    13833.000000  13833.000000  13833.000000   \n",
              "mean       4.477771        1.563544      1.735488      2.747849   \n",
              "std        2.129644        0.884799      0.931703      1.864994   \n",
              "min        1.000000        0.000000      1.000000      1.000000   \n",
              "25%        3.000000        1.000000      1.000000      2.000000   \n",
              "50%        4.000000        1.000000      1.000000      2.000000   \n",
              "75%        6.000000        2.000000      2.000000      3.000000   \n",
              "max       16.000000       15.000000     15.000000     56.000000   \n",
              "\n",
              "               price  review_scores_rating  ...      latitude     longitude  \\\n",
              "count   13833.000000          13833.000000  ...  13833.000000  13833.000000   \n",
              "mean     1352.683149              4.743953  ...    -22.974062    -43.241027   \n",
              "std      7328.108606              0.549711  ...      0.025523      0.092799   \n",
              "min        58.000000              0.000000  ...    -23.063370    -43.677920   \n",
              "25%       427.000000              4.700000  ...    -22.985050    -43.233124   \n",
              "50%       702.000000              4.900000  ...    -22.976260    -43.193030   \n",
              "75%      1155.000000              5.000000  ...    -22.964510    -43.185250   \n",
              "max    500000.000000              5.000000  ...    -22.840830    -43.159970   \n",
              "\n",
              "       minimum_nights      air_cond            TV          wifi         beach  \\\n",
              "count    13833.000000  13833.000000  13833.000000  13833.000000  13833.000000   \n",
              "mean         4.063255      0.768019      0.954384      0.956409      0.463312   \n",
              "std         17.834390      0.422112      0.208657      0.204192      0.498670   \n",
              "min          1.000000      0.000000      0.000000      0.000000      0.000000   \n",
              "25%          2.000000      1.000000      1.000000      1.000000      0.000000   \n",
              "50%          3.000000      1.000000      1.000000      1.000000      0.000000   \n",
              "75%          4.000000      1.000000      1.000000      1.000000      1.000000   \n",
              "max        999.000000      1.000000      1.000000      1.000000      1.000000   \n",
              "\n",
              "                gym          pool         valor  \n",
              "count  13833.000000  13833.000000  13833.000000  \n",
              "mean       0.185860      0.273549  11412.101424  \n",
              "std        0.389008      0.445796   2691.516629  \n",
              "min        0.000000      0.000000   6833.000000  \n",
              "25%        0.000000      0.000000  10955.000000  \n",
              "50%        0.000000      0.000000  10955.000000  \n",
              "75%        0.000000      1.000000  12513.000000  \n",
              "max        1.000000      1.000000  16928.000000  \n",
              "\n",
              "[8 rows x 21 columns]"
            ],
            "text/html": [
              "\n",
              "  <div id=\"df-1bdf4c10-ed3d-4155-aff4-345fc1884fd5\">\n",
              "    <div class=\"colab-df-container\">\n",
              "      <div>\n",
              "<style scoped>\n",
              "    .dataframe tbody tr th:only-of-type {\n",
              "        vertical-align: middle;\n",
              "    }\n",
              "\n",
              "    .dataframe tbody tr th {\n",
              "        vertical-align: top;\n",
              "    }\n",
              "\n",
              "    .dataframe thead th {\n",
              "        text-align: right;\n",
              "    }\n",
              "</style>\n",
              "<table border=\"1\" class=\"dataframe\">\n",
              "  <thead>\n",
              "    <tr style=\"text-align: right;\">\n",
              "      <th></th>\n",
              "      <th>index</th>\n",
              "      <th>id</th>\n",
              "      <th>reviews_per_month</th>\n",
              "      <th>host_is_superhost</th>\n",
              "      <th>accommodates</th>\n",
              "      <th>bathrooms_text</th>\n",
              "      <th>bedrooms</th>\n",
              "      <th>beds</th>\n",
              "      <th>price</th>\n",
              "      <th>review_scores_rating</th>\n",
              "      <th>...</th>\n",
              "      <th>latitude</th>\n",
              "      <th>longitude</th>\n",
              "      <th>minimum_nights</th>\n",
              "      <th>air_cond</th>\n",
              "      <th>TV</th>\n",
              "      <th>wifi</th>\n",
              "      <th>beach</th>\n",
              "      <th>gym</th>\n",
              "      <th>pool</th>\n",
              "      <th>valor</th>\n",
              "    </tr>\n",
              "  </thead>\n",
              "  <tbody>\n",
              "    <tr>\n",
              "      <th>count</th>\n",
              "      <td>13833.000000</td>\n",
              "      <td>1.383300e+04</td>\n",
              "      <td>13833.000000</td>\n",
              "      <td>13833.000000</td>\n",
              "      <td>13833.000000</td>\n",
              "      <td>13833.000000</td>\n",
              "      <td>13833.000000</td>\n",
              "      <td>13833.000000</td>\n",
              "      <td>13833.000000</td>\n",
              "      <td>13833.000000</td>\n",
              "      <td>...</td>\n",
              "      <td>13833.000000</td>\n",
              "      <td>13833.000000</td>\n",
              "      <td>13833.000000</td>\n",
              "      <td>13833.000000</td>\n",
              "      <td>13833.000000</td>\n",
              "      <td>13833.000000</td>\n",
              "      <td>13833.000000</td>\n",
              "      <td>13833.000000</td>\n",
              "      <td>13833.000000</td>\n",
              "      <td>13833.000000</td>\n",
              "    </tr>\n",
              "    <tr>\n",
              "      <th>mean</th>\n",
              "      <td>13548.827875</td>\n",
              "      <td>1.642432e+17</td>\n",
              "      <td>0.954542</td>\n",
              "      <td>0.302971</td>\n",
              "      <td>4.477771</td>\n",
              "      <td>1.563544</td>\n",
              "      <td>1.735488</td>\n",
              "      <td>2.747849</td>\n",
              "      <td>1352.683149</td>\n",
              "      <td>4.743953</td>\n",
              "      <td>...</td>\n",
              "      <td>-22.974062</td>\n",
              "      <td>-43.241027</td>\n",
              "      <td>4.063255</td>\n",
              "      <td>0.768019</td>\n",
              "      <td>0.954384</td>\n",
              "      <td>0.956409</td>\n",
              "      <td>0.463312</td>\n",
              "      <td>0.185860</td>\n",
              "      <td>0.273549</td>\n",
              "      <td>11412.101424</td>\n",
              "    </tr>\n",
              "    <tr>\n",
              "      <th>std</th>\n",
              "      <td>7887.678196</td>\n",
              "      <td>2.874698e+17</td>\n",
              "      <td>1.037037</td>\n",
              "      <td>0.459559</td>\n",
              "      <td>2.129644</td>\n",
              "      <td>0.884799</td>\n",
              "      <td>0.931703</td>\n",
              "      <td>1.864994</td>\n",
              "      <td>7328.108606</td>\n",
              "      <td>0.549711</td>\n",
              "      <td>...</td>\n",
              "      <td>0.025523</td>\n",
              "      <td>0.092799</td>\n",
              "      <td>17.834390</td>\n",
              "      <td>0.422112</td>\n",
              "      <td>0.208657</td>\n",
              "      <td>0.204192</td>\n",
              "      <td>0.498670</td>\n",
              "      <td>0.389008</td>\n",
              "      <td>0.445796</td>\n",
              "      <td>2691.516629</td>\n",
              "    </tr>\n",
              "    <tr>\n",
              "      <th>min</th>\n",
              "      <td>3.000000</td>\n",
              "      <td>1.787800e+04</td>\n",
              "      <td>0.010000</td>\n",
              "      <td>0.000000</td>\n",
              "      <td>1.000000</td>\n",
              "      <td>0.000000</td>\n",
              "      <td>1.000000</td>\n",
              "      <td>1.000000</td>\n",
              "      <td>58.000000</td>\n",
              "      <td>0.000000</td>\n",
              "      <td>...</td>\n",
              "      <td>-23.063370</td>\n",
              "      <td>-43.677920</td>\n",
              "      <td>1.000000</td>\n",
              "      <td>0.000000</td>\n",
              "      <td>0.000000</td>\n",
              "      <td>0.000000</td>\n",
              "      <td>0.000000</td>\n",
              "      <td>0.000000</td>\n",
              "      <td>0.000000</td>\n",
              "      <td>6833.000000</td>\n",
              "    </tr>\n",
              "    <tr>\n",
              "      <th>25%</th>\n",
              "      <td>6746.000000</td>\n",
              "      <td>1.619161e+07</td>\n",
              "      <td>0.220000</td>\n",
              "      <td>0.000000</td>\n",
              "      <td>3.000000</td>\n",
              "      <td>1.000000</td>\n",
              "      <td>1.000000</td>\n",
              "      <td>2.000000</td>\n",
              "      <td>427.000000</td>\n",
              "      <td>4.700000</td>\n",
              "      <td>...</td>\n",
              "      <td>-22.985050</td>\n",
              "      <td>-43.233124</td>\n",
              "      <td>2.000000</td>\n",
              "      <td>1.000000</td>\n",
              "      <td>1.000000</td>\n",
              "      <td>1.000000</td>\n",
              "      <td>0.000000</td>\n",
              "      <td>0.000000</td>\n",
              "      <td>0.000000</td>\n",
              "      <td>10955.000000</td>\n",
              "    </tr>\n",
              "    <tr>\n",
              "      <th>50%</th>\n",
              "      <td>13233.000000</td>\n",
              "      <td>4.201385e+07</td>\n",
              "      <td>0.610000</td>\n",
              "      <td>0.000000</td>\n",
              "      <td>4.000000</td>\n",
              "      <td>1.000000</td>\n",
              "      <td>1.000000</td>\n",
              "      <td>2.000000</td>\n",
              "      <td>702.000000</td>\n",
              "      <td>4.900000</td>\n",
              "      <td>...</td>\n",
              "      <td>-22.976260</td>\n",
              "      <td>-43.193030</td>\n",
              "      <td>3.000000</td>\n",
              "      <td>1.000000</td>\n",
              "      <td>1.000000</td>\n",
              "      <td>1.000000</td>\n",
              "      <td>0.000000</td>\n",
              "      <td>0.000000</td>\n",
              "      <td>0.000000</td>\n",
              "      <td>10955.000000</td>\n",
              "    </tr>\n",
              "    <tr>\n",
              "      <th>75%</th>\n",
              "      <td>19723.000000</td>\n",
              "      <td>5.435772e+07</td>\n",
              "      <td>1.330000</td>\n",
              "      <td>1.000000</td>\n",
              "      <td>6.000000</td>\n",
              "      <td>2.000000</td>\n",
              "      <td>2.000000</td>\n",
              "      <td>3.000000</td>\n",
              "      <td>1155.000000</td>\n",
              "      <td>5.000000</td>\n",
              "      <td>...</td>\n",
              "      <td>-22.964510</td>\n",
              "      <td>-43.185250</td>\n",
              "      <td>4.000000</td>\n",
              "      <td>1.000000</td>\n",
              "      <td>1.000000</td>\n",
              "      <td>1.000000</td>\n",
              "      <td>1.000000</td>\n",
              "      <td>0.000000</td>\n",
              "      <td>1.000000</td>\n",
              "      <td>12513.000000</td>\n",
              "    </tr>\n",
              "    <tr>\n",
              "      <th>max</th>\n",
              "      <td>28297.000000</td>\n",
              "      <td>7.900352e+17</td>\n",
              "      <td>12.000000</td>\n",
              "      <td>1.000000</td>\n",
              "      <td>16.000000</td>\n",
              "      <td>15.000000</td>\n",
              "      <td>15.000000</td>\n",
              "      <td>56.000000</td>\n",
              "      <td>500000.000000</td>\n",
              "      <td>5.000000</td>\n",
              "      <td>...</td>\n",
              "      <td>-22.840830</td>\n",
              "      <td>-43.159970</td>\n",
              "      <td>999.000000</td>\n",
              "      <td>1.000000</td>\n",
              "      <td>1.000000</td>\n",
              "      <td>1.000000</td>\n",
              "      <td>1.000000</td>\n",
              "      <td>1.000000</td>\n",
              "      <td>1.000000</td>\n",
              "      <td>16928.000000</td>\n",
              "    </tr>\n",
              "  </tbody>\n",
              "</table>\n",
              "<p>8 rows × 21 columns</p>\n",
              "</div>\n",
              "      <button class=\"colab-df-convert\" onclick=\"convertToInteractive('df-1bdf4c10-ed3d-4155-aff4-345fc1884fd5')\"\n",
              "              title=\"Convert this dataframe to an interactive table.\"\n",
              "              style=\"display:none;\">\n",
              "        \n",
              "  <svg xmlns=\"http://www.w3.org/2000/svg\" height=\"24px\"viewBox=\"0 0 24 24\"\n",
              "       width=\"24px\">\n",
              "    <path d=\"M0 0h24v24H0V0z\" fill=\"none\"/>\n",
              "    <path d=\"M18.56 5.44l.94 2.06.94-2.06 2.06-.94-2.06-.94-.94-2.06-.94 2.06-2.06.94zm-11 1L8.5 8.5l.94-2.06 2.06-.94-2.06-.94L8.5 2.5l-.94 2.06-2.06.94zm10 10l.94 2.06.94-2.06 2.06-.94-2.06-.94-.94-2.06-.94 2.06-2.06.94z\"/><path d=\"M17.41 7.96l-1.37-1.37c-.4-.4-.92-.59-1.43-.59-.52 0-1.04.2-1.43.59L10.3 9.45l-7.72 7.72c-.78.78-.78 2.05 0 2.83L4 21.41c.39.39.9.59 1.41.59.51 0 1.02-.2 1.41-.59l7.78-7.78 2.81-2.81c.8-.78.8-2.07 0-2.86zM5.41 20L4 18.59l7.72-7.72 1.47 1.35L5.41 20z\"/>\n",
              "  </svg>\n",
              "      </button>\n",
              "      \n",
              "  <style>\n",
              "    .colab-df-container {\n",
              "      display:flex;\n",
              "      flex-wrap:wrap;\n",
              "      gap: 12px;\n",
              "    }\n",
              "\n",
              "    .colab-df-convert {\n",
              "      background-color: #E8F0FE;\n",
              "      border: none;\n",
              "      border-radius: 50%;\n",
              "      cursor: pointer;\n",
              "      display: none;\n",
              "      fill: #1967D2;\n",
              "      height: 32px;\n",
              "      padding: 0 0 0 0;\n",
              "      width: 32px;\n",
              "    }\n",
              "\n",
              "    .colab-df-convert:hover {\n",
              "      background-color: #E2EBFA;\n",
              "      box-shadow: 0px 1px 2px rgba(60, 64, 67, 0.3), 0px 1px 3px 1px rgba(60, 64, 67, 0.15);\n",
              "      fill: #174EA6;\n",
              "    }\n",
              "\n",
              "    [theme=dark] .colab-df-convert {\n",
              "      background-color: #3B4455;\n",
              "      fill: #D2E3FC;\n",
              "    }\n",
              "\n",
              "    [theme=dark] .colab-df-convert:hover {\n",
              "      background-color: #434B5C;\n",
              "      box-shadow: 0px 1px 3px 1px rgba(0, 0, 0, 0.15);\n",
              "      filter: drop-shadow(0px 1px 2px rgba(0, 0, 0, 0.3));\n",
              "      fill: #FFFFFF;\n",
              "    }\n",
              "  </style>\n",
              "\n",
              "      <script>\n",
              "        const buttonEl =\n",
              "          document.querySelector('#df-1bdf4c10-ed3d-4155-aff4-345fc1884fd5 button.colab-df-convert');\n",
              "        buttonEl.style.display =\n",
              "          google.colab.kernel.accessAllowed ? 'block' : 'none';\n",
              "\n",
              "        async function convertToInteractive(key) {\n",
              "          const element = document.querySelector('#df-1bdf4c10-ed3d-4155-aff4-345fc1884fd5');\n",
              "          const dataTable =\n",
              "            await google.colab.kernel.invokeFunction('convertToInteractive',\n",
              "                                                     [key], {});\n",
              "          if (!dataTable) return;\n",
              "\n",
              "          const docLinkHtml = 'Like what you see? Visit the ' +\n",
              "            '<a target=\"_blank\" href=https://colab.research.google.com/notebooks/data_table.ipynb>data table notebook</a>'\n",
              "            + ' to learn more about interactive tables.';\n",
              "          element.innerHTML = '';\n",
              "          dataTable['output_type'] = 'display_data';\n",
              "          await google.colab.output.renderOutput(dataTable, element);\n",
              "          const docLink = document.createElement('div');\n",
              "          docLink.innerHTML = docLinkHtml;\n",
              "          element.appendChild(docLink);\n",
              "        }\n",
              "      </script>\n",
              "    </div>\n",
              "  </div>\n",
              "  "
            ]
          },
          "metadata": {},
          "execution_count": 28
        }
      ]
    },
    {
      "cell_type": "markdown",
      "metadata": {
        "id": "zAx_GIAzhZTn"
      },
      "source": [
        "Olhando o resumo estatístico acima, podemos confirmar algumas hipóteses como:\n",
        "\n",
        "* A variável `price` possui 75% do valor abaixo de 1155, porém seu valor máximo é 500000.\n",
        "* A quantidade mínima de noites (`minimum_nights`) está acima de 365 dias no ano.\n",
        "\n",
        "#### Boxplot para minimum_nights\n"
      ]
    },
    {
      "cell_type": "code",
      "source": [
        "# minimum_nights\n",
        "df_clean.minimum_nights.plot(kind='box', vert=False, figsize=(15, 3),)\n",
        "plt.show()\n",
        "\n",
        "# ver quantidade de valores acima de 15 para minimum_nights\n",
        "print(\"\\nprice: valores acima de 15\")\n",
        "print(\"{} entradas\".format(len(df_clean[df_clean.minimum_nights > 15])))\n",
        "print(\"{:.4f}%\".format((len(df_clean[df_clean.minimum_nights > 15]) / df_clean.shape[0])*100))\n",
        "\n",
        "# df.price.plot(kind='box', vert=False, xlim=(0,1300), figsize=(15,3));"
      ],
      "metadata": {
        "colab": {
          "base_uri": "https://localhost:8080/",
          "height": 280
        },
        "id": "3TPnF7KbkEBv",
        "outputId": "e0da5077-1fdd-43ec-a6a7-a34d45f980a4"
      },
      "execution_count": 29,
      "outputs": [
        {
          "output_type": "display_data",
          "data": {
            "text/plain": [
              "<Figure size 1080x216 with 1 Axes>"
            ],
            "image/png": "[encoded data removed]"
          },
          "metadata": {
            "needs_background": "light"
          }
        },
        {
          "output_type": "stream",
          "name": "stdout",
          "text": [
            "\n",
            "price: valores acima de 15\n",
            "232 entradas\n",
            "1.6771%\n"
          ]
        }
      ]
    },
    {
      "cell_type": "markdown",
      "metadata": {
        "id": "R1G8lOfGxfW0"
      },
      "source": [
        "#### Boxplot para price"
      ]
    },
    {
      "cell_type": "code",
      "source": [
        "df_clean.price"
      ],
      "metadata": {
        "colab": {
          "base_uri": "https://localhost:8080/"
        },
        "id": "SBRunZIRU5cI",
        "outputId": "5676f9b5-3ca4-41f0-932f-d65062842484"
      },
      "execution_count": 30,
      "outputs": [
        {
          "output_type": "execute_result",
          "data": {
            "text/plain": [
              "2         494.0\n",
              "3         581.0\n",
              "5         657.0\n",
              "10       1403.0\n",
              "15       1293.0\n",
              "          ...  \n",
              "22083     170.0\n",
              "22085    1200.0\n",
              "22087     135.0\n",
              "22089     871.0\n",
              "22090     194.0\n",
              "Name: price, Length: 13833, dtype: float64"
            ]
          },
          "metadata": {},
          "execution_count": 30
        }
      ]
    },
    {
      "cell_type": "code",
      "metadata": {
        "id": "uQhJ229OkX_o",
        "colab": {
          "base_uri": "https://localhost:8080/",
          "height": 280
        },
        "outputId": "480c5eaa-a0cb-464e-b016-c4ee957a13c1"
      },
      "source": [
        "# price\n",
        "df_clean.price.plot(kind='box', vert=False, figsize=(15, 3),)\n",
        "plt.show()\n",
        "\n",
        "# ver quantidade de valores acima de 3000 para price\n",
        "print(\"\\nprice: valores acima de 3000\")\n",
        "print(\"{} entradas\".format(len(df_clean[df_clean.price > 3000])))\n",
        "print(\"{:.4f}%\".format((len(df_clean[df_clean.price > 3000]) / df_clean.shape[0])*100))\n",
        "\n",
        "# df.price.plot(kind='box', vert=False, xlim=(0,1300), figsize=(15,3));"
      ],
      "execution_count": 31,
      "outputs": [
        {
          "output_type": "display_data",
          "data": {
            "text/plain": [
              "<Figure size 1080x216 with 1 Axes>"
            ],
            "image/png": "[encoded data removed]"
          },
          "metadata": {
            "needs_background": "light"
          }
        },
        {
          "output_type": "stream",
          "name": "stdout",
          "text": [
            "\n",
            "price: valores acima de 3000\n",
            "603 entradas\n",
            "4.3591%\n"
          ]
        }
      ]
    },
    {
      "cell_type": "markdown",
      "source": [
        "#### Boxplot para beds"
      ],
      "metadata": {
        "id": "xrEeuZE7D-94"
      }
    },
    {
      "cell_type": "code",
      "source": [
        "df_clean.beds"
      ],
      "metadata": {
        "colab": {
          "base_uri": "https://localhost:8080/"
        },
        "id": "46AFL3e-EB6Z",
        "outputId": "499705a6-d37a-46bd-bca8-11f813657d60"
      },
      "execution_count": 32,
      "outputs": [
        {
          "output_type": "execute_result",
          "data": {
            "text/plain": [
              "2        6.0\n",
              "3        3.0\n",
              "5        2.0\n",
              "10       2.0\n",
              "15       4.0\n",
              "        ... \n",
              "22083    1.0\n",
              "22085    5.0\n",
              "22087    1.0\n",
              "22089    2.0\n",
              "22090    1.0\n",
              "Name: beds, Length: 13833, dtype: float64"
            ]
          },
          "metadata": {},
          "execution_count": 32
        }
      ]
    },
    {
      "cell_type": "code",
      "source": [
        "# beds\n",
        "df_clean.beds.plot(kind='box', vert=False, figsize=(15, 3),)\n",
        "plt.show()\n",
        "\n",
        "# ver quantidade de valores acima de 5 para beds\n",
        "print(\"\\nprice: valores acima de 8\")\n",
        "print(\"{} entradas\".format(len(df_clean[df_clean.beds> 8])))\n",
        "print(\"{:.4f}%\".format((len(df_clean[df_clean.beds > 8]) / df_clean.shape[0])*100))\n",
        "\n",
        "# df.price.plot(kind='box', vert=False, xlim=(0,1300), figsize=(15,3));"
      ],
      "metadata": {
        "colab": {
          "base_uri": "https://localhost:8080/",
          "height": 280
        },
        "id": "6AtcyuOXEJ62",
        "outputId": "d14dd8a0-a8fb-4f8d-883f-88a08759b58b"
      },
      "execution_count": 33,
      "outputs": [
        {
          "output_type": "display_data",
          "data": {
            "text/plain": [
              "<Figure size 1080x216 with 1 Axes>"
            ],
            "image/png": "[encoded data removed]"
          },
          "metadata": {
            "needs_background": "light"
          }
        },
        {
          "output_type": "stream",
          "name": "stdout",
          "text": [
            "\n",
            "price: valores acima de 8\n",
            "168 entradas\n",
            "1.2145%\n"
          ]
        }
      ]
    },
    {
      "cell_type": "markdown",
      "source": [
        "#### Boxplot para accommodates"
      ],
      "metadata": {
        "id": "qH7Z_SnuEoI8"
      }
    },
    {
      "cell_type": "code",
      "source": [
        "df_clean.accommodates"
      ],
      "metadata": {
        "colab": {
          "base_uri": "https://localhost:8080/"
        },
        "id": "4FGXVVKFEwDi",
        "outputId": "dab739d2-88ee-48fa-f272-9eb4ca2a0797"
      },
      "execution_count": 34,
      "outputs": [
        {
          "output_type": "execute_result",
          "data": {
            "text/plain": [
              "2        2\n",
              "3        6\n",
              "5        4\n",
              "10       4\n",
              "15       6\n",
              "        ..\n",
              "22083    2\n",
              "22085    5\n",
              "22087    2\n",
              "22089    3\n",
              "22090    2\n",
              "Name: accommodates, Length: 13833, dtype: int64"
            ]
          },
          "metadata": {},
          "execution_count": 34
        }
      ]
    },
    {
      "cell_type": "code",
      "source": [
        "# accommodates\n",
        "df_clean.accommodates.plot(kind='box', vert=False, figsize=(15, 3),)\n",
        "plt.show()\n",
        "\n",
        "# ver quantidade de valores acima de 10 para accommodates\n",
        "print(\"\\nprice: valores acima de 10\")\n",
        "print(\"{} entradas\".format(len(df_clean[df_clean.accommodates> 10])))\n",
        "print(\"{:.4f}%\".format((len(df_clean[df_clean.accommodates > 10]) / df_clean.shape[0])*100))\n",
        "\n",
        "# df.price.plot(kind='box', vert=False, xlim=(0,1300), figsize=(15,3));"
      ],
      "metadata": {
        "colab": {
          "base_uri": "https://localhost:8080/",
          "height": 280
        },
        "id": "CjZcUXtJEwjd",
        "outputId": "0b49701d-2083-4089-bfe7-69e2692cabd6"
      },
      "execution_count": 35,
      "outputs": [
        {
          "output_type": "display_data",
          "data": {
            "text/plain": [
              "<Figure size 1080x216 with 1 Axes>"
            ],
            "image/png": "[encoded data removed]"
          },
          "metadata": {
            "needs_background": "light"
          }
        },
        {
          "output_type": "stream",
          "name": "stdout",
          "text": [
            "\n",
            "price: valores acima de 10\n",
            "245 entradas\n",
            "1.7711%\n"
          ]
        }
      ]
    },
    {
      "cell_type": "markdown",
      "metadata": {
        "id": "TfxQ1PITFc5Q"
      },
      "source": [
        "#### Histogramas sem *outliers*\n",
        "\n",
        "Já que identificamos *outliers* nas variáveis `price`, `minimum_nights`,`beds`, `accommodates`, `beds`, `reviews_per_month`,`reviews_score_rating` e `number_of_reviews` vamos agora limpar o *DataFrame* delas e plotar novamente o histograma."
      ]
    },
    {
      "cell_type": "code",
      "metadata": {
        "id": "67JxJ6n_FrTn",
        "colab": {
          "base_uri": "https://localhost:8080/",
          "height": 879
        },
        "outputId": "840a1277-e43a-4665-a6cd-f9e8885df610"
      },
      "source": [
        "# remover os *outliers* em um novo DataFrame\n",
        "df_clean2 = df_clean.copy()\n",
        "df_clean2.drop(df_clean2[df_clean2.price > 3000].index, axis=0, inplace=True)\n",
        "df_clean2.drop(df_clean2[df_clean2.minimum_nights > 15].index, axis=0, inplace=True)\n",
        "df_clean2.drop(df_clean2[df_clean2.accommodates > 10].index, axis=0, inplace=True)\n",
        "df_clean2.drop(df_clean2[df_clean2.beds > 5].index, axis=0, inplace=True)\n",
        "df_clean2.drop(df_clean2[df_clean2.reviews_per_month > 6].index, axis=0, inplace=True)\n",
        "df_clean2.drop(df_clean2[df_clean2.review_scores_rating < 4].index, axis=0, inplace=True)\n",
        "df_clean2.drop(df_clean2[df_clean2.number_of_reviews > 100].index, axis=0, inplace=True)\n",
        "df_clean2.drop(df_clean2[df_clean2.number_of_reviews < 5].index, axis=0, inplace=True)\n",
        "# plotar o histograma para as variáveis numéricas\n",
        "df_clean2.hist(bins=30, figsize=(15,15));"
      ],
      "execution_count": 36,
      "outputs": [
        {
          "output_type": "display_data",
          "data": {
            "text/plain": [
              "<Figure size 1080x1080 with 25 Axes>"
            ],
            "image/png": "[encoded data removed]"
          },
          "metadata": {
            "needs_background": "light"
          }
        }
      ]
    },
    {
      "cell_type": "code",
      "source": [
        "df_clean2.info()"
      ],
      "metadata": {
        "colab": {
          "base_uri": "https://localhost:8080/"
        },
        "id": "R2T-kTAbcIiw",
        "outputId": "15ce2229-df12-41d8-f98f-cd493e2aa710"
      },
      "execution_count": 37,
      "outputs": [
        {
          "output_type": "stream",
          "name": "stdout",
          "text": [
            "<class 'pandas.core.frame.DataFrame'>\n",
            "Int64Index: 7459 entries, 19 to 22090\n",
            "Data columns (total 24 columns):\n",
            " #   Column                  Non-Null Count  Dtype  \n",
            "---  ------                  --------------  -----  \n",
            " 0   index                   7459 non-null   int64  \n",
            " 1   id                      7459 non-null   int64  \n",
            " 2   reviews_per_month       7459 non-null   float64\n",
            " 3   host_is_superhost       7459 non-null   float64\n",
            " 4   neighbourhood_cleansed  7459 non-null   object \n",
            " 5   room_type               7459 non-null   object \n",
            " 6   accommodates            7459 non-null   int64  \n",
            " 7   bathrooms_text          7459 non-null   float64\n",
            " 8   bedrooms                7459 non-null   float64\n",
            " 9   beds                    7459 non-null   float64\n",
            " 10  amenities               7459 non-null   object \n",
            " 11  price                   7459 non-null   float64\n",
            " 12  review_scores_rating    7459 non-null   float64\n",
            " 13  number_of_reviews       7459 non-null   int64  \n",
            " 14  latitude                7459 non-null   float64\n",
            " 15  longitude               7459 non-null   float64\n",
            " 16  minimum_nights          7459 non-null   int64  \n",
            " 17  air_cond                7459 non-null   float64\n",
            " 18  TV                      7459 non-null   float64\n",
            " 19  wifi                    7459 non-null   float64\n",
            " 20  beach                   7459 non-null   float64\n",
            " 21  gym                     7459 non-null   float64\n",
            " 22  pool                    7459 non-null   float64\n",
            " 23  valor                   7459 non-null   int64  \n",
            "dtypes: float64(15), int64(6), object(3)\n",
            "memory usage: 1.4+ MB\n"
          ]
        }
      ]
    },
    {
      "cell_type": "markdown",
      "metadata": {
        "id": "IXn2oIo5qx-w"
      },
      "source": [
        "### **Q4. Qual a correlação existente entre as variáveis**\n",
        "\n",
        "Correlação significa que existe uma relação entre duas coisas. No nosso contexto, estamos buscando relação ou semelhança entre duas variáveis.\n",
        "\n",
        "Essa relação pode ser medida, e é função do coeficiente de correlação estabelecer qual a intensidade dela. Para identificar as correlações existentes entre as variáveis de interesse, vou:\n",
        "\n",
        "* Criar uma matriz de correlação\n",
        "* Gerar um *heatmap* a partir dessa matriz, usando a biblioteca `seaborn`"
      ]
    },
    {
      "cell_type": "code",
      "metadata": {
        "id": "x2ayzBajqxyd",
        "colab": {
          "base_uri": "https://localhost:8080/",
          "height": 583
        },
        "outputId": "82d5c6df-8a63-4f7c-ebfc-2124569d199c"
      },
      "source": [
        "# criar uma matriz de correlação\n",
        "corr = df_clean2[['price', 'reviews_per_month','minimum_nights', 'number_of_reviews', \"accommodates\" ,\"bathrooms_text\", \"bedrooms\",\"beds\",\"review_scores_rating\",\"air_cond\",\"valor\",\"pool\",\"gym\",\"beach\",\"TV\"]].corr()\n",
        "\n",
        "display(corr)"
      ],
      "execution_count": 38,
      "outputs": [
        {
          "output_type": "display_data",
          "data": {
            "text/plain": [
              "                         price  reviews_per_month  minimum_nights  \\\n",
              "price                 1.000000          -0.019142       -0.060627   \n",
              "reviews_per_month    -0.019142           1.000000       -0.270442   \n",
              "minimum_nights       -0.060627          -0.270442        1.000000   \n",
              "number_of_reviews    -0.015589           0.283984       -0.052448   \n",
              "accommodates          0.384700          -0.051159       -0.080391   \n",
              "bathrooms_text        0.390787          -0.129599        0.030600   \n",
              "bedrooms              0.427139          -0.153515        0.025195   \n",
              "beds                  0.304608          -0.092725       -0.016256   \n",
              "review_scores_rating -0.014060           0.124875        0.016306   \n",
              "air_cond              0.134503          -0.046317       -0.008446   \n",
              "valor                 0.355883          -0.017849        0.035577   \n",
              "pool                  0.043860           0.009631       -0.061556   \n",
              "gym                   0.003614          -0.006244       -0.042126   \n",
              "beach                 0.059959           0.168570        0.009723   \n",
              "TV                    0.064152           0.039070       -0.005387   \n",
              "\n",
              "                      number_of_reviews  accommodates  bathrooms_text  \\\n",
              "price                         -0.015589      0.384700        0.390787   \n",
              "reviews_per_month              0.283984     -0.051159       -0.129599   \n",
              "minimum_nights                -0.052448     -0.080391        0.030600   \n",
              "number_of_reviews              1.000000      0.013954       -0.046898   \n",
              "accommodates                   0.013954      1.000000        0.517897   \n",
              "bathrooms_text                -0.046898      0.517897        1.000000   \n",
              "bedrooms                      -0.060384      0.680773        0.708171   \n",
              "beds                           0.014302      0.700672        0.460190   \n",
              "review_scores_rating           0.012076     -0.015676        0.056633   \n",
              "air_cond                       0.011879      0.016246        0.077095   \n",
              "valor                          0.041311      0.012196        0.095509   \n",
              "pool                          -0.017226      0.011665        0.133850   \n",
              "gym                            0.005760     -0.029275        0.080414   \n",
              "beach                          0.065725      0.023097       -0.011629   \n",
              "TV                             0.069922      0.064039        0.036674   \n",
              "\n",
              "                      bedrooms      beds  review_scores_rating  air_cond  \\\n",
              "price                 0.427139  0.304608             -0.014060  0.134503   \n",
              "reviews_per_month    -0.153515 -0.092725              0.124875 -0.046317   \n",
              "minimum_nights        0.025195 -0.016256              0.016306 -0.008446   \n",
              "number_of_reviews    -0.060384  0.014302              0.012076  0.011879   \n",
              "accommodates          0.680773  0.700672             -0.015676  0.016246   \n",
              "bathrooms_text        0.708171  0.460190              0.056633  0.077095   \n",
              "bedrooms              1.000000  0.648103              0.041162  0.031337   \n",
              "beds                  0.648103  1.000000              0.010613  0.006025   \n",
              "review_scores_rating  0.041162  0.010613              1.000000  0.027211   \n",
              "air_cond              0.031337  0.006025              0.027211  1.000000   \n",
              "valor                 0.077184  0.019839             -0.019974  0.113418   \n",
              "pool                  0.057527  0.001681              0.045853  0.091527   \n",
              "gym                   0.008044 -0.027745              0.024833  0.089251   \n",
              "beach                -0.033473  0.017870              0.087600 -0.119477   \n",
              "TV                    0.023372  0.047528              0.048521  0.094170   \n",
              "\n",
              "                         valor      pool       gym     beach        TV  \n",
              "price                 0.355883  0.043860  0.003614  0.059959  0.064152  \n",
              "reviews_per_month    -0.017849  0.009631 -0.006244  0.168570  0.039070  \n",
              "minimum_nights        0.035577 -0.061556 -0.042126  0.009723 -0.005387  \n",
              "number_of_reviews     0.041311 -0.017226  0.005760  0.065725  0.069922  \n",
              "accommodates          0.012196  0.011665 -0.029275  0.023097  0.064039  \n",
              "bathrooms_text        0.095509  0.133850  0.080414 -0.011629  0.036674  \n",
              "bedrooms              0.077184  0.057527  0.008044 -0.033473  0.023372  \n",
              "beds                  0.019839  0.001681 -0.027745  0.017870  0.047528  \n",
              "review_scores_rating -0.019974  0.045853  0.024833  0.087600  0.048521  \n",
              "air_cond              0.113418  0.091527  0.089251 -0.119477  0.094170  \n",
              "valor                 1.000000 -0.141465 -0.115445  0.079449  0.053291  \n",
              "pool                 -0.141465  1.000000  0.740712  0.049062  0.069164  \n",
              "gym                  -0.115445  0.740712  1.000000  0.043878  0.071367  \n",
              "beach                 0.079449  0.049062  0.043878  1.000000  0.027971  \n",
              "TV                    0.053291  0.069164  0.071367  0.027971  1.000000  "
            ],
            "text/html": [
              "\n",
              "  <div id=\"df-06cf9328-9736-49db-b254-1be0bfbb3a84\">\n",
              "    <div class=\"colab-df-container\">\n",
              "      <div>\n",
              "<style scoped>\n",
              "    .dataframe tbody tr th:only-of-type {\n",
              "        vertical-align: middle;\n",
              "    }\n",
              "\n",
              "    .dataframe tbody tr th {\n",
              "        vertical-align: top;\n",
              "    }\n",
              "\n",
              "    .dataframe thead th {\n",
              "        text-align: right;\n",
              "    }\n",
              "</style>\n",
              "<table border=\"1\" class=\"dataframe\">\n",
              "  <thead>\n",
              "    <tr style=\"text-align: right;\">\n",
              "      <th></th>\n",
              "      <th>price</th>\n",
              "      <th>reviews_per_month</th>\n",
              "      <th>minimum_nights</th>\n",
              "      <th>number_of_reviews</th>\n",
              "      <th>accommodates</th>\n",
              "      <th>bathrooms_text</th>\n",
              "      <th>bedrooms</th>\n",
              "      <th>beds</th>\n",
              "      <th>review_scores_rating</th>\n",
              "      <th>air_cond</th>\n",
              "      <th>valor</th>\n",
              "      <th>pool</th>\n",
              "      <th>gym</th>\n",
              "      <th>beach</th>\n",
              "      <th>TV</th>\n",
              "    </tr>\n",
              "  </thead>\n",
              "  <tbody>\n",
              "    <tr>\n",
              "      <th>price</th>\n",
              "      <td>1.000000</td>\n",
              "      <td>-0.019142</td>\n",
              "      <td>-0.060627</td>\n",
              "      <td>-0.015589</td>\n",
              "      <td>0.384700</td>\n",
              "      <td>0.390787</td>\n",
              "      <td>0.427139</td>\n",
              "      <td>0.304608</td>\n",
              "      <td>-0.014060</td>\n",
              "      <td>0.134503</td>\n",
              "      <td>0.355883</td>\n",
              "      <td>0.043860</td>\n",
              "      <td>0.003614</td>\n",
              "      <td>0.059959</td>\n",
              "      <td>0.064152</td>\n",
              "    </tr>\n",
              "    <tr>\n",
              "      <th>reviews_per_month</th>\n",
              "      <td>-0.019142</td>\n",
              "      <td>1.000000</td>\n",
              "      <td>-0.270442</td>\n",
              "      <td>0.283984</td>\n",
              "      <td>-0.051159</td>\n",
              "      <td>-0.129599</td>\n",
              "      <td>-0.153515</td>\n",
              "      <td>-0.092725</td>\n",
              "      <td>0.124875</td>\n",
              "      <td>-0.046317</td>\n",
              "      <td>-0.017849</td>\n",
              "      <td>0.009631</td>\n",
              "      <td>-0.006244</td>\n",
              "      <td>0.168570</td>\n",
              "      <td>0.039070</td>\n",
              "    </tr>\n",
              "    <tr>\n",
              "      <th>minimum_nights</th>\n",
              "      <td>-0.060627</td>\n",
              "      <td>-0.270442</td>\n",
              "      <td>1.000000</td>\n",
              "      <td>-0.052448</td>\n",
              "      <td>-0.080391</td>\n",
              "      <td>0.030600</td>\n",
              "      <td>0.025195</td>\n",
              "      <td>-0.016256</td>\n",
              "      <td>0.016306</td>\n",
              "      <td>-0.008446</td>\n",
              "      <td>0.035577</td>\n",
              "      <td>-0.061556</td>\n",
              "      <td>-0.042126</td>\n",
              "      <td>0.009723</td>\n",
              "      <td>-0.005387</td>\n",
              "    </tr>\n",
              "    <tr>\n",
              "      <th>number_of_reviews</th>\n",
              "      <td>-0.015589</td>\n",
              "      <td>0.283984</td>\n",
              "      <td>-0.052448</td>\n",
              "      <td>1.000000</td>\n",
              "      <td>0.013954</td>\n",
              "      <td>-0.046898</td>\n",
              "      <td>-0.060384</td>\n",
              "      <td>0.014302</td>\n",
              "      <td>0.012076</td>\n",
              "      <td>0.011879</td>\n",
              "      <td>0.041311</td>\n",
              "      <td>-0.017226</td>\n",
              "      <td>0.005760</td>\n",
              "      <td>0.065725</td>\n",
              "      <td>0.069922</td>\n",
              "    </tr>\n",
              "    <tr>\n",
              "      <th>accommodates</th>\n",
              "      <td>0.384700</td>\n",
              "      <td>-0.051159</td>\n",
              "      <td>-0.080391</td>\n",
              "      <td>0.013954</td>\n",
              "      <td>1.000000</td>\n",
              "      <td>0.517897</td>\n",
              "      <td>0.680773</td>\n",
              "      <td>0.700672</td>\n",
              "      <td>-0.015676</td>\n",
              "      <td>0.016246</td>\n",
              "      <td>0.012196</td>\n",
              "      <td>0.011665</td>\n",
              "      <td>-0.029275</td>\n",
              "      <td>0.023097</td>\n",
              "      <td>0.064039</td>\n",
              "    </tr>\n",
              "    <tr>\n",
              "      <th>bathrooms_text</th>\n",
              "      <td>0.390787</td>\n",
              "      <td>-0.129599</td>\n",
              "      <td>0.030600</td>\n",
              "      <td>-0.046898</td>\n",
              "      <td>0.517897</td>\n",
              "      <td>1.000000</td>\n",
              "      <td>0.708171</td>\n",
              "      <td>0.460190</td>\n",
              "      <td>0.056633</td>\n",
              "      <td>0.077095</td>\n",
              "      <td>0.095509</td>\n",
              "      <td>0.133850</td>\n",
              "      <td>0.080414</td>\n",
              "      <td>-0.011629</td>\n",
              "      <td>0.036674</td>\n",
              "    </tr>\n",
              "    <tr>\n",
              "      <th>bedrooms</th>\n",
              "      <td>0.427139</td>\n",
              "      <td>-0.153515</td>\n",
              "      <td>0.025195</td>\n",
              "      <td>-0.060384</td>\n",
              "      <td>0.680773</td>\n",
              "      <td>0.708171</td>\n",
              "      <td>1.000000</td>\n",
              "      <td>0.648103</td>\n",
              "      <td>0.041162</td>\n",
              "      <td>0.031337</td>\n",
              "      <td>0.077184</td>\n",
              "      <td>0.057527</td>\n",
              "      <td>0.008044</td>\n",
              "      <td>-0.033473</td>\n",
              "      <td>0.023372</td>\n",
              "    </tr>\n",
              "    <tr>\n",
              "      <th>beds</th>\n",
              "      <td>0.304608</td>\n",
              "      <td>-0.092725</td>\n",
              "      <td>-0.016256</td>\n",
              "      <td>0.014302</td>\n",
              "      <td>0.700672</td>\n",
              "      <td>0.460190</td>\n",
              "      <td>0.648103</td>\n",
              "      <td>1.000000</td>\n",
              "      <td>0.010613</td>\n",
              "      <td>0.006025</td>\n",
              "      <td>0.019839</td>\n",
              "      <td>0.001681</td>\n",
              "      <td>-0.027745</td>\n",
              "      <td>0.017870</td>\n",
              "      <td>0.047528</td>\n",
              "    </tr>\n",
              "    <tr>\n",
              "      <th>review_scores_rating</th>\n",
              "      <td>-0.014060</td>\n",
              "      <td>0.124875</td>\n",
              "      <td>0.016306</td>\n",
              "      <td>0.012076</td>\n",
              "      <td>-0.015676</td>\n",
              "      <td>0.056633</td>\n",
              "      <td>0.041162</td>\n",
              "      <td>0.010613</td>\n",
              "      <td>1.000000</td>\n",
              "      <td>0.027211</td>\n",
              "      <td>-0.019974</td>\n",
              "      <td>0.045853</td>\n",
              "      <td>0.024833</td>\n",
              "      <td>0.087600</td>\n",
              "      <td>0.048521</td>\n",
              "    </tr>\n",
              "    <tr>\n",
              "      <th>air_cond</th>\n",
              "      <td>0.134503</td>\n",
              "      <td>-0.046317</td>\n",
              "      <td>-0.008446</td>\n",
              "      <td>0.011879</td>\n",
              "      <td>0.016246</td>\n",
              "      <td>0.077095</td>\n",
              "      <td>0.031337</td>\n",
              "      <td>0.006025</td>\n",
              "      <td>0.027211</td>\n",
              "      <td>1.000000</td>\n",
              "      <td>0.113418</td>\n",
              "      <td>0.091527</td>\n",
              "      <td>0.089251</td>\n",
              "      <td>-0.119477</td>\n",
              "      <td>0.094170</td>\n",
              "    </tr>\n",
              "    <tr>\n",
              "      <th>valor</th>\n",
              "      <td>0.355883</td>\n",
              "      <td>-0.017849</td>\n",
              "      <td>0.035577</td>\n",
              "      <td>0.041311</td>\n",
              "      <td>0.012196</td>\n",
              "      <td>0.095509</td>\n",
              "      <td>0.077184</td>\n",
              "      <td>0.019839</td>\n",
              "      <td>-0.019974</td>\n",
              "      <td>0.113418</td>\n",
              "      <td>1.000000</td>\n",
              "      <td>-0.141465</td>\n",
              "      <td>-0.115445</td>\n",
              "      <td>0.079449</td>\n",
              "      <td>0.053291</td>\n",
              "    </tr>\n",
              "    <tr>\n",
              "      <th>pool</th>\n",
              "      <td>0.043860</td>\n",
              "      <td>0.009631</td>\n",
              "      <td>-0.061556</td>\n",
              "      <td>-0.017226</td>\n",
              "      <td>0.011665</td>\n",
              "      <td>0.133850</td>\n",
              "      <td>0.057527</td>\n",
              "      <td>0.001681</td>\n",
              "      <td>0.045853</td>\n",
              "      <td>0.091527</td>\n",
              "      <td>-0.141465</td>\n",
              "      <td>1.000000</td>\n",
              "      <td>0.740712</td>\n",
              "      <td>0.049062</td>\n",
              "      <td>0.069164</td>\n",
              "    </tr>\n",
              "    <tr>\n",
              "      <th>gym</th>\n",
              "      <td>0.003614</td>\n",
              "      <td>-0.006244</td>\n",
              "      <td>-0.042126</td>\n",
              "      <td>0.005760</td>\n",
              "      <td>-0.029275</td>\n",
              "      <td>0.080414</td>\n",
              "      <td>0.008044</td>\n",
              "      <td>-0.027745</td>\n",
              "      <td>0.024833</td>\n",
              "      <td>0.089251</td>\n",
              "      <td>-0.115445</td>\n",
              "      <td>0.740712</td>\n",
              "      <td>1.000000</td>\n",
              "      <td>0.043878</td>\n",
              "      <td>0.071367</td>\n",
              "    </tr>\n",
              "    <tr>\n",
              "      <th>beach</th>\n",
              "      <td>0.059959</td>\n",
              "      <td>0.168570</td>\n",
              "      <td>0.009723</td>\n",
              "      <td>0.065725</td>\n",
              "      <td>0.023097</td>\n",
              "      <td>-0.011629</td>\n",
              "      <td>-0.033473</td>\n",
              "      <td>0.017870</td>\n",
              "      <td>0.087600</td>\n",
              "      <td>-0.119477</td>\n",
              "      <td>0.079449</td>\n",
              "      <td>0.049062</td>\n",
              "      <td>0.043878</td>\n",
              "      <td>1.000000</td>\n",
              "      <td>0.027971</td>\n",
              "    </tr>\n",
              "    <tr>\n",
              "      <th>TV</th>\n",
              "      <td>0.064152</td>\n",
              "      <td>0.039070</td>\n",
              "      <td>-0.005387</td>\n",
              "      <td>0.069922</td>\n",
              "      <td>0.064039</td>\n",
              "      <td>0.036674</td>\n",
              "      <td>0.023372</td>\n",
              "      <td>0.047528</td>\n",
              "      <td>0.048521</td>\n",
              "      <td>0.094170</td>\n",
              "      <td>0.053291</td>\n",
              "      <td>0.069164</td>\n",
              "      <td>0.071367</td>\n",
              "      <td>0.027971</td>\n",
              "      <td>1.000000</td>\n",
              "    </tr>\n",
              "  </tbody>\n",
              "</table>\n",
              "</div>\n",
              "      <button class=\"colab-df-convert\" onclick=\"convertToInteractive('df-06cf9328-9736-49db-b254-1be0bfbb3a84')\"\n",
              "              title=\"Convert this dataframe to an interactive table.\"\n",
              "              style=\"display:none;\">\n",
              "        \n",
              "  <svg xmlns=\"http://www.w3.org/2000/svg\" height=\"24px\"viewBox=\"0 0 24 24\"\n",
              "       width=\"24px\">\n",
              "    <path d=\"M0 0h24v24H0V0z\" fill=\"none\"/>\n",
              "    <path d=\"M18.56 5.44l.94 2.06.94-2.06 2.06-.94-2.06-.94-.94-2.06-.94 2.06-2.06.94zm-11 1L8.5 8.5l.94-2.06 2.06-.94-2.06-.94L8.5 2.5l-.94 2.06-2.06.94zm10 10l.94 2.06.94-2.06 2.06-.94-2.06-.94-.94-2.06-.94 2.06-2.06.94z\"/><path d=\"M17.41 7.96l-1.37-1.37c-.4-.4-.92-.59-1.43-.59-.52 0-1.04.2-1.43.59L10.3 9.45l-7.72 7.72c-.78.78-.78 2.05 0 2.83L4 21.41c.39.39.9.59 1.41.59.51 0 1.02-.2 1.41-.59l7.78-7.78 2.81-2.81c.8-.78.8-2.07 0-2.86zM5.41 20L4 18.59l7.72-7.72 1.47 1.35L5.41 20z\"/>\n",
              "  </svg>\n",
              "      </button>\n",
              "      \n",
              "  <style>\n",
              "    .colab-df-container {\n",
              "      display:flex;\n",
              "      flex-wrap:wrap;\n",
              "      gap: 12px;\n",
              "    }\n",
              "\n",
              "    .colab-df-convert {\n",
              "      background-color: #E8F0FE;\n",
              "      border: none;\n",
              "      border-radius: 50%;\n",
              "      cursor: pointer;\n",
              "      display: none;\n",
              "      fill: #1967D2;\n",
              "      height: 32px;\n",
              "      padding: 0 0 0 0;\n",
              "      width: 32px;\n",
              "    }\n",
              "\n",
              "    .colab-df-convert:hover {\n",
              "      background-color: #E2EBFA;\n",
              "      box-shadow: 0px 1px 2px rgba(60, 64, 67, 0.3), 0px 1px 3px 1px rgba(60, 64, 67, 0.15);\n",
              "      fill: #174EA6;\n",
              "    }\n",
              "\n",
              "    [theme=dark] .colab-df-convert {\n",
              "      background-color: #3B4455;\n",
              "      fill: #D2E3FC;\n",
              "    }\n",
              "\n",
              "    [theme=dark] .colab-df-convert:hover {\n",
              "      background-color: #434B5C;\n",
              "      box-shadow: 0px 1px 3px 1px rgba(0, 0, 0, 0.15);\n",
              "      filter: drop-shadow(0px 1px 2px rgba(0, 0, 0, 0.3));\n",
              "      fill: #FFFFFF;\n",
              "    }\n",
              "  </style>\n",
              "\n",
              "      <script>\n",
              "        const buttonEl =\n",
              "          document.querySelector('#df-06cf9328-9736-49db-b254-1be0bfbb3a84 button.colab-df-convert');\n",
              "        buttonEl.style.display =\n",
              "          google.colab.kernel.accessAllowed ? 'block' : 'none';\n",
              "\n",
              "        async function convertToInteractive(key) {\n",
              "          const element = document.querySelector('#df-06cf9328-9736-49db-b254-1be0bfbb3a84');\n",
              "          const dataTable =\n",
              "            await google.colab.kernel.invokeFunction('convertToInteractive',\n",
              "                                                     [key], {});\n",
              "          if (!dataTable) return;\n",
              "\n",
              "          const docLinkHtml = 'Like what you see? Visit the ' +\n",
              "            '<a target=\"_blank\" href=https://colab.research.google.com/notebooks/data_table.ipynb>data table notebook</a>'\n",
              "            + ' to learn more about interactive tables.';\n",
              "          element.innerHTML = '';\n",
              "          dataTable['output_type'] = 'display_data';\n",
              "          await google.colab.output.renderOutput(dataTable, element);\n",
              "          const docLink = document.createElement('div');\n",
              "          docLink.innerHTML = docLinkHtml;\n",
              "          element.appendChild(docLink);\n",
              "        }\n",
              "      </script>\n",
              "    </div>\n",
              "  </div>\n",
              "  "
            ]
          },
          "metadata": {}
        }
      ]
    },
    {
      "cell_type": "code",
      "metadata": {
        "id": "91UujDr6ueqE",
        "colab": {
          "base_uri": "https://localhost:8080/",
          "height": 919
        },
        "outputId": "36d4b222-f511-4c0f-cb51-fab2235d8389"
      },
      "source": [
        "sns.heatmap(corr, cmap='RdBu', fmt='.2f', square=True, linecolor='white', annot=True);\n",
        "print(corr.price)\n",
        "print(corr.reviews_per_month)"
      ],
      "execution_count": 39,
      "outputs": [
        {
          "output_type": "stream",
          "name": "stdout",
          "text": [
            "price                   1.000000\n",
            "reviews_per_month      -0.019142\n",
            "minimum_nights         -0.060627\n",
            "number_of_reviews      -0.015589\n",
            "accommodates            0.384700\n",
            "bathrooms_text          0.390787\n",
            "bedrooms                0.427139\n",
            "beds                    0.304608\n",
            "review_scores_rating   -0.014060\n",
            "air_cond                0.134503\n",
            "valor                   0.355883\n",
            "pool                    0.043860\n",
            "gym                     0.003614\n",
            "beach                   0.059959\n",
            "TV                      0.064152\n",
            "Name: price, dtype: float64\n",
            "price                  -0.019142\n",
            "reviews_per_month       1.000000\n",
            "minimum_nights         -0.270442\n",
            "number_of_reviews       0.283984\n",
            "accommodates           -0.051159\n",
            "bathrooms_text         -0.129599\n",
            "bedrooms               -0.153515\n",
            "beds                   -0.092725\n",
            "review_scores_rating    0.124875\n",
            "air_cond               -0.046317\n",
            "valor                  -0.017849\n",
            "pool                    0.009631\n",
            "gym                    -0.006244\n",
            "beach                   0.168570\n",
            "TV                      0.039070\n",
            "Name: reviews_per_month, dtype: float64\n"
          ]
        },
        {
          "output_type": "display_data",
          "data": {
            "text/plain": [
              "<Figure size 432x288 with 2 Axes>"
            ],
            "image/png": "[encoded data removed]"
          },
          "metadata": {
            "needs_background": "light"
          }
        }
      ]
    },
    {
      "cell_type": "markdown",
      "source": [
        "Fácil ver que a maioria dos diferenciais da casa - como proximidade de praia, piscina, academia, notas - possuem baixa relação linear com o preço do aluguel. Porém, dados sensíveis a quantidade de pessoas acomodadas - como número de banheiros, quartos, camas - e o valor do m² do imóvel possuem relação linear considerável.\n",
        "\n",
        "Importante verificar reviews_per_month, uma estimativa da taxa de locação do imóvel, possui pouca relação linear com qualquer váriavel - exceto obviamente number_of_reviews. Isso ocorre pelos diversos perfis de clientes, com diferentes procuras e perfis econômicos, em busca de um imóvel. Um modelo preditivo linear é então pouco eficiente. "
      ],
      "metadata": {
        "id": "hbJmzI7Fcmo5"
      }
    },
    {
      "cell_type": "markdown",
      "metadata": {
        "id": "MFa5NbnLJMcd"
      },
      "source": [
        "### **Q6. Qual a localidade mais cara do Rio?**\n",
        "\n",
        "Uma maneira de se verificar uma variável em função da outra é usando `groupby()`. No caso, queremos comparar os bairros (*neighbourhoods*) a partir do preço de locação."
      ]
    },
    {
      "cell_type": "code",
      "metadata": {
        "id": "mygcB3iuIi0J",
        "colab": {
          "base_uri": "https://localhost:8080/"
        },
        "outputId": "dc5d3818-29bb-473e-d882-95e8dafca22b"
      },
      "source": [
        "df_clean2.groupby(['neighbourhood_cleansed']).price.mean().sort_values(ascending=False)[:10]"
      ],
      "execution_count": 40,
      "outputs": [
        {
          "output_type": "execute_result",
          "data": {
            "text/plain": [
              "neighbourhood_cleansed\n",
              "Leblon               1161.943580\n",
              "Ipanema              1089.845238\n",
              "São Conrado           959.307692\n",
              "Lagoa                 937.655738\n",
              "Gávea                 899.000000\n",
              "Barra da Tijuca       837.785455\n",
              "Alto da Boa Vista     794.125000\n",
              "Copacabana            776.697417\n",
              "Leme                  775.503401\n",
              "Jardim Botânico       733.545455\n",
              "Name: price, dtype: float64"
            ]
          },
          "metadata": {},
          "execution_count": 40
        }
      ]
    },
    {
      "cell_type": "markdown",
      "metadata": {
        "id": "4nMyAfrBS3s1"
      },
      "source": [
        "Como são fornecidas as Latitudes e Longitudes para os imóveis, é possível plotar cada ponto. Para isso, considera-se `x=longitude` e `y=latitude`."
      ]
    },
    {
      "cell_type": "code",
      "metadata": {
        "id": "UxVJqJ_3W59I",
        "colab": {
          "base_uri": "https://localhost:8080/",
          "height": 473
        },
        "outputId": "b128d2a2-f684-4b99-a6a8-2663e40de367"
      },
      "source": [
        "# plotar os imóveis pela latitude-longitude\n",
        "df_clean2.plot(kind=\"scatter\", x='longitude', y='latitude', alpha=0.4, c=df_clean2['price'], s=8,\n",
        "              cmap=plt.get_cmap('jet'), figsize=(12,8));"
      ],
      "execution_count": 41,
      "outputs": [
        {
          "output_type": "display_data",
          "data": {
            "text/plain": [
              "<Figure size 864x576 with 2 Axes>"
            ],
            "image/png": "[encoded data removed]"
          },
          "metadata": {
            "needs_background": "light"
          }
        }
      ]
    },
    {
      "cell_type": "code",
      "source": [
        "# plotar os imóveis pela latitude-longitude\n",
        "df_clean2.plot(kind=\"scatter\", x='longitude', y='latitude', alpha=0.4, c=df_clean2['valor'], s=8,\n",
        "              cmap=plt.get_cmap('jet'), figsize=(12,8));"
      ],
      "metadata": {
        "colab": {
          "base_uri": "https://localhost:8080/",
          "height": 472
        },
        "id": "ASnL1LOEogBO",
        "outputId": "6d1b4886-9510-43a5-e66f-06a7859911dd"
      },
      "execution_count": 42,
      "outputs": [
        {
          "output_type": "display_data",
          "data": {
            "text/plain": [
              "<Figure size 864x576 with 2 Axes>"
            ],
            "image/png": "[encoded data removed]"
          },
          "metadata": {
            "needs_background": "light"
          }
        }
      ]
    },
    {
      "cell_type": "markdown",
      "source": [
        "A maioria das locações mais caras concentram-se na zona sul, perto a praia e nos bairros de maior preço, como era de se esperar."
      ],
      "metadata": {
        "id": "mSpC_zNBc1xV"
      }
    },
    {
      "cell_type": "markdown",
      "source": [
        "## Implementação Modelo Preditivo\n",
        "\n",
        "Foi feita apenas uma análise superficial na base de dados do Airbnb, porém já se percebeu que existem *outliers* em algumas das variáveis. \n",
        "\n",
        "A análise demonstrou uma alta correlação linear entre quantidade de camas, quartos, banheiros e pessoas acomodadas,o valor do metro quadrado na região e o valor da locação, como se era de esperar. \n",
        "\n",
        "Outros atributos como wifi, piscina, residência a beira-mar, ar condicionado e afins se mostraram com baixa correlação linear ao preço, de forma contra-intuitiva. \n",
        "\n",
        "Isso demonstra que a precificação dos imóveis para aluguel se deve -de forma linear - principalmente a localização e a capacidade de acomodar pessoas.\n",
        "\n",
        "É possível com estes dados estimar o preço de locação da casa por um modelo preditivo. É uma ferramenta bastante importante para interessados em fornecer sua casa ou alugar uma e não sabem qual preço ideal. Pela baixa dependência linear das variáveis, implementaremos modelos que consigam aprender padrões não lineares.\n",
        "\n",
        "Importante ressaltar que pela política de dados da empresa, a análise está incompleta. Reduzimos a quantidade de outliers considerando casas com pouquíssimas locações, porém não conseguimos estimar quais casas possuem maior taxa de locação - um dado sensível e importante ao predizer um valor de uma casa pois informa quão bem adaptada a precificação do mercado a casa está e sua capacidade de gerar receita. Iremos estimar a taxa de locação pelo número de reviews por mês. Com isso, conseguimos calcular o preço que maximiza a receita mensal."
      ],
      "metadata": {
        "id": "BU4j6EcTF0Wt"
      }
    },
    {
      "cell_type": "code",
      "source": [
        "from sklearn.ensemble import RandomForestRegressor\n",
        "from sklearn.datasets import make_regression\n",
        "from sklearn.model_selection import train_test_split\n",
        "from sklearn.impute import SimpleImputer\n",
        "from xgboost import XGBRegressor\n",
        "from sklearn.metrics import mean_absolute_error\n",
        "from sklearn.metrics import mean_absolute_percentage_error\n",
        "from sklearn.metrics import r2_score\n",
        "from sklearn.model_selection import GridSearchCV\n",
        "import numpy as np"
      ],
      "metadata": {
        "id": "XhKOtoU3wBKx"
      },
      "execution_count": 53,
      "outputs": []
    },
    {
      "cell_type": "code",
      "source": [
        "df_clean2.columns"
      ],
      "metadata": {
        "colab": {
          "base_uri": "https://localhost:8080/"
        },
        "id": "d4hNc-fydAVz",
        "outputId": "40c64ced-e7ab-45cb-bccf-d8baf05a0836"
      },
      "execution_count": 44,
      "outputs": [
        {
          "output_type": "execute_result",
          "data": {
            "text/plain": [
              "Index(['index', 'id', 'reviews_per_month', 'host_is_superhost',\n",
              "       'neighbourhood_cleansed', 'room_type', 'accommodates', 'bathrooms_text',\n",
              "       'bedrooms', 'beds', 'amenities', 'price', 'review_scores_rating',\n",
              "       'number_of_reviews', 'latitude', 'longitude', 'minimum_nights',\n",
              "       'air_cond', 'TV', 'wifi', 'beach', 'gym', 'pool', 'valor'],\n",
              "      dtype='object')"
            ]
          },
          "metadata": {},
          "execution_count": 44
        }
      ]
    },
    {
      "cell_type": "code",
      "source": [
        "df_clean2.info()"
      ],
      "metadata": {
        "colab": {
          "base_uri": "https://localhost:8080/"
        },
        "id": "JDhS7MjobX3q",
        "outputId": "ae1acb1c-5b63-483c-8d94-0816947d1340"
      },
      "execution_count": 45,
      "outputs": [
        {
          "output_type": "stream",
          "name": "stdout",
          "text": [
            "<class 'pandas.core.frame.DataFrame'>\n",
            "Int64Index: 7459 entries, 19 to 22090\n",
            "Data columns (total 24 columns):\n",
            " #   Column                  Non-Null Count  Dtype  \n",
            "---  ------                  --------------  -----  \n",
            " 0   index                   7459 non-null   int64  \n",
            " 1   id                      7459 non-null   int64  \n",
            " 2   reviews_per_month       7459 non-null   float64\n",
            " 3   host_is_superhost       7459 non-null   float64\n",
            " 4   neighbourhood_cleansed  7459 non-null   object \n",
            " 5   room_type               7459 non-null   object \n",
            " 6   accommodates            7459 non-null   int64  \n",
            " 7   bathrooms_text          7459 non-null   float64\n",
            " 8   bedrooms                7459 non-null   float64\n",
            " 9   beds                    7459 non-null   float64\n",
            " 10  amenities               7459 non-null   object \n",
            " 11  price                   7459 non-null   float64\n",
            " 12  review_scores_rating    7459 non-null   float64\n",
            " 13  number_of_reviews       7459 non-null   int64  \n",
            " 14  latitude                7459 non-null   float64\n",
            " 15  longitude               7459 non-null   float64\n",
            " 16  minimum_nights          7459 non-null   int64  \n",
            " 17  air_cond                7459 non-null   float64\n",
            " 18  TV                      7459 non-null   float64\n",
            " 19  wifi                    7459 non-null   float64\n",
            " 20  beach                   7459 non-null   float64\n",
            " 21  gym                     7459 non-null   float64\n",
            " 22  pool                    7459 non-null   float64\n",
            " 23  valor                   7459 non-null   int64  \n",
            "dtypes: float64(15), int64(6), object(3)\n",
            "memory usage: 1.4+ MB\n"
          ]
        }
      ]
    },
    {
      "cell_type": "code",
      "source": [
        "X = np.array(df_clean2[[\"beach\",\"gym\",\"pool\",\"minimum_nights\",\"number_of_reviews\",\"host_is_superhost\",\"accommodates\",\"bathrooms_text\",\"review_scores_rating\",\"bedrooms\",\"beds\",\"latitude\",\"longitude\",\"air_cond\",\"valor\",\"price\"]])\n",
        "Y = np.array(df_clean2[\"reviews_per_month\"])"
      ],
      "metadata": {
        "id": "5LtfbQ6KxVw8"
      },
      "execution_count": 46,
      "outputs": []
    },
    {
      "cell_type": "code",
      "source": [
        "def display(model,X,Y):\n",
        "  train_X, test_X, train_y, test_y = train_test_split(X, Y, test_size=0.2)\n",
        "  df_imputer = SimpleImputer()\n",
        "  train_X = df_imputer.fit_transform(train_X)\n",
        "  test_X = df_imputer.transform(test_X)\n",
        "  model.fit(train_X, train_y, verbose=False)\n",
        "  # fazer previsões em cima do dataset de teste\n",
        "  predictions = model.predict(test_X)\n",
        "  predictions2 = model.predict(train_X)\n",
        "  data = [\n",
        "      {'type': 'test', 'MAE' : mean_absolute_error(predictions,test_y), 'MAPE' : mean_absolute_percentage_error(predictions, test_y), 'R²' : r2_score(test_y,predictions) },\n",
        "      {'type': 'train' , 'MAE' : mean_absolute_error(predictions2,train_y), 'MAPE' : mean_absolute_percentage_error(predictions2, train_y), 'R²' : r2_score(train_y,predictions2) },\n",
        "  ]\n",
        "  df = pd.DataFrame(data)\n",
        "  df.set_index('type')\n",
        "  return df"
      ],
      "metadata": {
        "id": "G4cd_e5ScJcW"
      },
      "execution_count": 55,
      "outputs": []
    },
    {
      "cell_type": "code",
      "source": [
        "def display2(model,X,Y):\n",
        "  train_X, test_X, train_y, test_y = train_test_split(X, Y, test_size=0.2)\n",
        "  df_imputer = SimpleImputer()\n",
        "  train_X = df_imputer.fit_transform(train_X)\n",
        "  test_X = df_imputer.transform(test_X)\n",
        "  model.fit(train_X, train_y)\n",
        "  # fazer previsões em cima do dataset de teste\n",
        "  predictions = model.predict(test_X)\n",
        "  predictions2 = model.predict(train_X)\n",
        "  data = [\n",
        "      {'type': 'test', 'MAE' : mean_absolute_error(predictions,test_y), 'MAPE' : mean_absolute_percentage_error(predictions, test_y), 'R²' : r2_score(test_y,predictions) },\n",
        "      {'type': 'train' , 'MAE' : mean_absolute_error(predictions2,train_y), 'MAPE' : mean_absolute_percentage_error(predictions2, train_y), 'R²' : r2_score(train_y,predictions2) },\n",
        "  ]\n",
        "  df = pd.DataFrame(data)\n",
        "  df.set_index('type')\n",
        "  return df"
      ],
      "metadata": {
        "id": "mnXx2YtChLdw"
      },
      "execution_count": 62,
      "outputs": []
    },
    {
      "cell_type": "markdown",
      "source": [
        "Os algoritmos testados serão XGBoost e RandomForest."
      ],
      "metadata": {
        "id": "-CadG4DqG61g"
      }
    },
    {
      "cell_type": "code",
      "source": [
        "param_grid = [{'max_depth': np.arange(3,10), 'n_estimators': np.arange(100,130,4),'learning_rate' : np.linspace(0.01,0.1,5)}]\n",
        "model = XGBRegressor()\n",
        "grid_search = GridSearchCV(model,param_grid,cv = 5)\n",
        "# chamar o fit para o modelo\n",
        "grid_search.fit(X, Y)"
      ],
      "metadata": {
        "id": "DSTH14JuSxsU"
      },
      "execution_count": null,
      "outputs": []
    },
    {
      "cell_type": "code",
      "source": [
        "grid_search.best_params_"
      ],
      "metadata": {
        "id": "4IBNOM_37uRg",
        "colab": {
          "base_uri": "https://localhost:8080/"
        },
        "outputId": "1461af71-8630-437c-f5f9-ddd8f49439cb"
      },
      "execution_count": 50,
      "outputs": [
        {
          "output_type": "execute_result",
          "data": {
            "text/plain": [
              "{'learning_rate': 0.05500000000000001, 'max_depth': 4, 'n_estimators': 116}"
            ]
          },
          "metadata": {},
          "execution_count": 50
        }
      ]
    },
    {
      "cell_type": "code",
      "source": [
        "model = XGBRegressor(max_depth = 2,n_estimators = 116,learning_rate = 0.055)\n",
        "display(model,X,Y)"
      ],
      "metadata": {
        "colab": {
          "base_uri": "https://localhost:8080/",
          "height": 129
        },
        "id": "TlBbdgR9UEev",
        "outputId": "7554dcfc-89e9-498f-b229-fb330ee81532"
      },
      "execution_count": 57,
      "outputs": [
        {
          "output_type": "stream",
          "name": "stdout",
          "text": [
            "[15:03:46] WARNING: /workspace/src/objective/regression_obj.cu:152: reg:linear is now deprecated in favor of reg:squarederror.\n"
          ]
        },
        {
          "output_type": "execute_result",
          "data": {
            "text/plain": [
              "    type       MAE      MAPE        R²\n",
              "0   test  0.664060  0.644605  0.241850\n",
              "1  train  0.642916  0.610730  0.281694"
            ],
            "text/html": [
              "\n",
              "  <div id=\"df-bf95f3bd-3cdd-4782-8f12-37d1d6e49d9f\">\n",
              "    <div class=\"colab-df-container\">\n",
              "      <div>\n",
              "<style scoped>\n",
              "    .dataframe tbody tr th:only-of-type {\n",
              "        vertical-align: middle;\n",
              "    }\n",
              "\n",
              "    .dataframe tbody tr th {\n",
              "        vertical-align: top;\n",
              "    }\n",
              "\n",
              "    .dataframe thead th {\n",
              "        text-align: right;\n",
              "    }\n",
              "</style>\n",
              "<table border=\"1\" class=\"dataframe\">\n",
              "  <thead>\n",
              "    <tr style=\"text-align: right;\">\n",
              "      <th></th>\n",
              "      <th>type</th>\n",
              "      <th>MAE</th>\n",
              "      <th>MAPE</th>\n",
              "      <th>R²</th>\n",
              "    </tr>\n",
              "  </thead>\n",
              "  <tbody>\n",
              "    <tr>\n",
              "      <th>0</th>\n",
              "      <td>test</td>\n",
              "      <td>0.664060</td>\n",
              "      <td>0.644605</td>\n",
              "      <td>0.241850</td>\n",
              "    </tr>\n",
              "    <tr>\n",
              "      <th>1</th>\n",
              "      <td>train</td>\n",
              "      <td>0.642916</td>\n",
              "      <td>0.610730</td>\n",
              "      <td>0.281694</td>\n",
              "    </tr>\n",
              "  </tbody>\n",
              "</table>\n",
              "</div>\n",
              "      <button class=\"colab-df-convert\" onclick=\"convertToInteractive('df-bf95f3bd-3cdd-4782-8f12-37d1d6e49d9f')\"\n",
              "              title=\"Convert this dataframe to an interactive table.\"\n",
              "              style=\"display:none;\">\n",
              "        \n",
              "  <svg xmlns=\"http://www.w3.org/2000/svg\" height=\"24px\"viewBox=\"0 0 24 24\"\n",
              "       width=\"24px\">\n",
              "    <path d=\"M0 0h24v24H0V0z\" fill=\"none\"/>\n",
              "    <path d=\"M18.56 5.44l.94 2.06.94-2.06 2.06-.94-2.06-.94-.94-2.06-.94 2.06-2.06.94zm-11 1L8.5 8.5l.94-2.06 2.06-.94-2.06-.94L8.5 2.5l-.94 2.06-2.06.94zm10 10l.94 2.06.94-2.06 2.06-.94-2.06-.94-.94-2.06-.94 2.06-2.06.94z\"/><path d=\"M17.41 7.96l-1.37-1.37c-.4-.4-.92-.59-1.43-.59-.52 0-1.04.2-1.43.59L10.3 9.45l-7.72 7.72c-.78.78-.78 2.05 0 2.83L4 21.41c.39.39.9.59 1.41.59.51 0 1.02-.2 1.41-.59l7.78-7.78 2.81-2.81c.8-.78.8-2.07 0-2.86zM5.41 20L4 18.59l7.72-7.72 1.47 1.35L5.41 20z\"/>\n",
              "  </svg>\n",
              "      </button>\n",
              "      \n",
              "  <style>\n",
              "    .colab-df-container {\n",
              "      display:flex;\n",
              "      flex-wrap:wrap;\n",
              "      gap: 12px;\n",
              "    }\n",
              "\n",
              "    .colab-df-convert {\n",
              "      background-color: #E8F0FE;\n",
              "      border: none;\n",
              "      border-radius: 50%;\n",
              "      cursor: pointer;\n",
              "      display: none;\n",
              "      fill: #1967D2;\n",
              "      height: 32px;\n",
              "      padding: 0 0 0 0;\n",
              "      width: 32px;\n",
              "    }\n",
              "\n",
              "    .colab-df-convert:hover {\n",
              "      background-color: #E2EBFA;\n",
              "      box-shadow: 0px 1px 2px rgba(60, 64, 67, 0.3), 0px 1px 3px 1px rgba(60, 64, 67, 0.15);\n",
              "      fill: #174EA6;\n",
              "    }\n",
              "\n",
              "    [theme=dark] .colab-df-convert {\n",
              "      background-color: #3B4455;\n",
              "      fill: #D2E3FC;\n",
              "    }\n",
              "\n",
              "    [theme=dark] .colab-df-convert:hover {\n",
              "      background-color: #434B5C;\n",
              "      box-shadow: 0px 1px 3px 1px rgba(0, 0, 0, 0.15);\n",
              "      filter: drop-shadow(0px 1px 2px rgba(0, 0, 0, 0.3));\n",
              "      fill: #FFFFFF;\n",
              "    }\n",
              "  </style>\n",
              "\n",
              "      <script>\n",
              "        const buttonEl =\n",
              "          document.querySelector('#df-bf95f3bd-3cdd-4782-8f12-37d1d6e49d9f button.colab-df-convert');\n",
              "        buttonEl.style.display =\n",
              "          google.colab.kernel.accessAllowed ? 'block' : 'none';\n",
              "\n",
              "        async function convertToInteractive(key) {\n",
              "          const element = document.querySelector('#df-bf95f3bd-3cdd-4782-8f12-37d1d6e49d9f');\n",
              "          const dataTable =\n",
              "            await google.colab.kernel.invokeFunction('convertToInteractive',\n",
              "                                                     [key], {});\n",
              "          if (!dataTable) return;\n",
              "\n",
              "          const docLinkHtml = 'Like what you see? Visit the ' +\n",
              "            '<a target=\"_blank\" href=https://colab.research.google.com/notebooks/data_table.ipynb>data table notebook</a>'\n",
              "            + ' to learn more about interactive tables.';\n",
              "          element.innerHTML = '';\n",
              "          dataTable['output_type'] = 'display_data';\n",
              "          await google.colab.output.renderOutput(dataTable, element);\n",
              "          const docLink = document.createElement('div');\n",
              "          docLink.innerHTML = docLinkHtml;\n",
              "          element.appendChild(docLink);\n",
              "        }\n",
              "      </script>\n",
              "    </div>\n",
              "  </div>\n",
              "  "
            ]
          },
          "metadata": {},
          "execution_count": 57
        }
      ]
    },
    {
      "cell_type": "markdown",
      "source": [
        "O erro foi consideravelmente alto e o índice R² baixo."
      ],
      "metadata": {
        "id": "a-bDud1ZgWln"
      }
    },
    {
      "cell_type": "code",
      "source": [
        "param_grid = [{'max_leaf_nodes': [20,100], 'n_estimators': [100,500]}]\n",
        "model2 = RandomForestRegressor()\n",
        "grid_search = GridSearchCV(model2,param_grid,cv = 5)\n",
        "# chamar o fit para o modelo\n",
        "grid_search.fit(X, Y)\n",
        "grid_search.best_params_"
      ],
      "metadata": {
        "id": "WXMNLA1kxHqb",
        "colab": {
          "base_uri": "https://localhost:8080/"
        },
        "outputId": "6b9a31c4-bf11-446b-c6b9-15945008e987"
      },
      "execution_count": 60,
      "outputs": [
        {
          "output_type": "execute_result",
          "data": {
            "text/plain": [
              "{'max_leaf_nodes': 100, 'n_estimators': 500}"
            ]
          },
          "metadata": {},
          "execution_count": 60
        }
      ]
    },
    {
      "cell_type": "code",
      "source": [
        "rnd_reg = RandomForestRegressor(max_leaf_nodes = 100,n_estimators = 500)\n",
        "display2(rnd_reg,X,Y)\n",
        "# rnd_reg.fit(train_X,train_y)\n",
        "# predictions = rnd_reg.predict(test_X)\n",
        "# print(\"Erro Absoluto Teste: {:.2f}\".format(mean_absolute_error(predictions, test_y)))\n",
        "# print(\"Erro Relativo Teste: {:.2f}\".format(mean_absolute_percentage_error(predictions, test_y)))\n",
        "# print(\"Erro Absoluto Treino: {:.2f}\".format(mean_absolute_error(model.predict(train_X), train_y)))\n",
        "# print(\"Erro Relativo Treino: {:.2f}\".format(mean_absolute_percentage_error(model.predict(train_X), train_y)))\n",
        " \n"
      ],
      "metadata": {
        "colab": {
          "base_uri": "https://localhost:8080/",
          "height": 112
        },
        "id": "JneNjjjTberU",
        "outputId": "7a0eb248-e8d1-4af6-9bc4-192fb9c33639"
      },
      "execution_count": 63,
      "outputs": [
        {
          "output_type": "execute_result",
          "data": {
            "text/plain": [
              "    type       MAE      MAPE        R²\n",
              "0   test  0.647358  0.604779  0.275461\n",
              "1  train  0.588276  0.567290  0.443632"
            ],
            "text/html": [
              "\n",
              "  <div id=\"df-c16f52e5-ad47-40ba-8447-81b8303d4e30\">\n",
              "    <div class=\"colab-df-container\">\n",
              "      <div>\n",
              "<style scoped>\n",
              "    .dataframe tbody tr th:only-of-type {\n",
              "        vertical-align: middle;\n",
              "    }\n",
              "\n",
              "    .dataframe tbody tr th {\n",
              "        vertical-align: top;\n",
              "    }\n",
              "\n",
              "    .dataframe thead th {\n",
              "        text-align: right;\n",
              "    }\n",
              "</style>\n",
              "<table border=\"1\" class=\"dataframe\">\n",
              "  <thead>\n",
              "    <tr style=\"text-align: right;\">\n",
              "      <th></th>\n",
              "      <th>type</th>\n",
              "      <th>MAE</th>\n",
              "      <th>MAPE</th>\n",
              "      <th>R²</th>\n",
              "    </tr>\n",
              "  </thead>\n",
              "  <tbody>\n",
              "    <tr>\n",
              "      <th>0</th>\n",
              "      <td>test</td>\n",
              "      <td>0.647358</td>\n",
              "      <td>0.604779</td>\n",
              "      <td>0.275461</td>\n",
              "    </tr>\n",
              "    <tr>\n",
              "      <th>1</th>\n",
              "      <td>train</td>\n",
              "      <td>0.588276</td>\n",
              "      <td>0.567290</td>\n",
              "      <td>0.443632</td>\n",
              "    </tr>\n",
              "  </tbody>\n",
              "</table>\n",
              "</div>\n",
              "      <button class=\"colab-df-convert\" onclick=\"convertToInteractive('df-c16f52e5-ad47-40ba-8447-81b8303d4e30')\"\n",
              "              title=\"Convert this dataframe to an interactive table.\"\n",
              "              style=\"display:none;\">\n",
              "        \n",
              "  <svg xmlns=\"http://www.w3.org/2000/svg\" height=\"24px\"viewBox=\"0 0 24 24\"\n",
              "       width=\"24px\">\n",
              "    <path d=\"M0 0h24v24H0V0z\" fill=\"none\"/>\n",
              "    <path d=\"M18.56 5.44l.94 2.06.94-2.06 2.06-.94-2.06-.94-.94-2.06-.94 2.06-2.06.94zm-11 1L8.5 8.5l.94-2.06 2.06-.94-2.06-.94L8.5 2.5l-.94 2.06-2.06.94zm10 10l.94 2.06.94-2.06 2.06-.94-2.06-.94-.94-2.06-.94 2.06-2.06.94z\"/><path d=\"M17.41 7.96l-1.37-1.37c-.4-.4-.92-.59-1.43-.59-.52 0-1.04.2-1.43.59L10.3 9.45l-7.72 7.72c-.78.78-.78 2.05 0 2.83L4 21.41c.39.39.9.59 1.41.59.51 0 1.02-.2 1.41-.59l7.78-7.78 2.81-2.81c.8-.78.8-2.07 0-2.86zM5.41 20L4 18.59l7.72-7.72 1.47 1.35L5.41 20z\"/>\n",
              "  </svg>\n",
              "      </button>\n",
              "      \n",
              "  <style>\n",
              "    .colab-df-container {\n",
              "      display:flex;\n",
              "      flex-wrap:wrap;\n",
              "      gap: 12px;\n",
              "    }\n",
              "\n",
              "    .colab-df-convert {\n",
              "      background-color: #E8F0FE;\n",
              "      border: none;\n",
              "      border-radius: 50%;\n",
              "      cursor: pointer;\n",
              "      display: none;\n",
              "      fill: #1967D2;\n",
              "      height: 32px;\n",
              "      padding: 0 0 0 0;\n",
              "      width: 32px;\n",
              "    }\n",
              "\n",
              "    .colab-df-convert:hover {\n",
              "      background-color: #E2EBFA;\n",
              "      box-shadow: 0px 1px 2px rgba(60, 64, 67, 0.3), 0px 1px 3px 1px rgba(60, 64, 67, 0.15);\n",
              "      fill: #174EA6;\n",
              "    }\n",
              "\n",
              "    [theme=dark] .colab-df-convert {\n",
              "      background-color: #3B4455;\n",
              "      fill: #D2E3FC;\n",
              "    }\n",
              "\n",
              "    [theme=dark] .colab-df-convert:hover {\n",
              "      background-color: #434B5C;\n",
              "      box-shadow: 0px 1px 3px 1px rgba(0, 0, 0, 0.15);\n",
              "      filter: drop-shadow(0px 1px 2px rgba(0, 0, 0, 0.3));\n",
              "      fill: #FFFFFF;\n",
              "    }\n",
              "  </style>\n",
              "\n",
              "      <script>\n",
              "        const buttonEl =\n",
              "          document.querySelector('#df-c16f52e5-ad47-40ba-8447-81b8303d4e30 button.colab-df-convert');\n",
              "        buttonEl.style.display =\n",
              "          google.colab.kernel.accessAllowed ? 'block' : 'none';\n",
              "\n",
              "        async function convertToInteractive(key) {\n",
              "          const element = document.querySelector('#df-c16f52e5-ad47-40ba-8447-81b8303d4e30');\n",
              "          const dataTable =\n",
              "            await google.colab.kernel.invokeFunction('convertToInteractive',\n",
              "                                                     [key], {});\n",
              "          if (!dataTable) return;\n",
              "\n",
              "          const docLinkHtml = 'Like what you see? Visit the ' +\n",
              "            '<a target=\"_blank\" href=https://colab.research.google.com/notebooks/data_table.ipynb>data table notebook</a>'\n",
              "            + ' to learn more about interactive tables.';\n",
              "          element.innerHTML = '';\n",
              "          dataTable['output_type'] = 'display_data';\n",
              "          await google.colab.output.renderOutput(dataTable, element);\n",
              "          const docLink = document.createElement('div');\n",
              "          docLink.innerHTML = docLinkHtml;\n",
              "          element.appendChild(docLink);\n",
              "        }\n",
              "      </script>\n",
              "    </div>\n",
              "  </div>\n",
              "  "
            ]
          },
          "metadata": {},
          "execution_count": 63
        }
      ]
    },
    {
      "cell_type": "markdown",
      "source": [
        "Erro consideravelmente alto e R² baixo"
      ],
      "metadata": {
        "id": "0fRyXafLhm3P"
      }
    },
    {
      "cell_type": "code",
      "source": [
        "print(model.feature_importances_)\n",
        "print(rnd_reg.feature_importances_)"
      ],
      "metadata": {
        "colab": {
          "base_uri": "https://localhost:8080/"
        },
        "id": "YxdyRN63gyAy",
        "outputId": "58918b03-f853-4f86-b0d4-c273faf0a188"
      },
      "execution_count": 66,
      "outputs": [
        {
          "output_type": "stream",
          "name": "stdout",
          "text": [
            "[0.10683662 0.01731934 0.         0.13809335 0.17461275 0.22814634\n",
            " 0.00973267 0.036865   0.05304245 0.09598535 0.02142291 0.02338971\n",
            " 0.02616952 0.02496351 0.01678618 0.02663429]\n",
            "[0.03654275 0.00313264 0.0033663  0.19586874 0.24350462 0.07663543\n",
            " 0.02291354 0.01895857 0.07572477 0.01787842 0.01690785 0.0816452\n",
            " 0.0850533  0.00760467 0.0185955  0.09566769]\n"
          ]
        }
      ]
    },
    {
      "cell_type": "markdown",
      "source": [
        "Random Forest gerou resultados melhores que XGBoost, porém ainda muito pouco eficaz. Podemos verificar pela importância das variáveis que ambos definiram minimum_nights e number_of_reviews como features importantes para reviews_per_month. XGBoost considerou também ser superhost algo importante na definição do resultado. Ambos concordaram que as demais pouco importam."
      ],
      "metadata": {
        "id": "eXeCjISvhZJo"
      }
    },
    {
      "cell_type": "markdown",
      "source": [
        "Fácil ver que ambos os métodos, pela falta de dados apropriados ou por sua baixa quantidade, demonstraram-se pouco eficazes devido a uma taxa de erro muito alta. Qualquer implementação dos modelos terá uma alta incerteza. Para obter dados mais completos, estes poderiam ser coletados, durante um ano, monitorando o site da Airbnb. Esta solução foge do escopo do presente notebook, porém possui viabilidade.\n",
        "\n",
        "Para fornecer ainda uma solução na precificação, iremos estimar o preço a partir das outras características, invertendo a saída com a entrada de preço. Não conseguiremos fornecer uma solução que otimize os lucros, mas ao menos esta seguirá o valor de mercado."
      ],
      "metadata": {
        "id": "qaQh8FDmxYik"
      }
    },
    {
      "cell_type": "code",
      "source": [
        "X = np.array(df_clean2[[\"beach\",\"gym\",\"pool\",\"minimum_nights\",\"host_is_superhost\",\"accommodates\",\"bathrooms_text\",\"review_scores_rating\",\"bedrooms\",\"beds\",\"latitude\",\"longitude\",\"air_cond\",\"valor\",\"reviews_per_month\",\"number_of_reviews\"]])\n",
        "Y = np.array(df_clean2[\"price\"])"
      ],
      "metadata": {
        "id": "w0DaGntIyblg"
      },
      "execution_count": 67,
      "outputs": []
    },
    {
      "cell_type": "code",
      "source": [
        "param_grid = [{'max_depth': np.arange(3,10), 'n_estimators': np.arange(100,130,4),'learning_rate' : np.linspace(0.01,0.1,5)}]\n",
        "model = XGBRegressor()\n",
        "grid_search = GridSearchCV(model,param_grid,cv = 5)\n",
        "# chamar o fit para o modelo\n",
        "grid_search.fit(X, Y)"
      ],
      "metadata": {
        "id": "WKUvl1ZJyrcE"
      },
      "execution_count": null,
      "outputs": []
    },
    {
      "cell_type": "code",
      "source": [
        "print(grid_search.best_params_)"
      ],
      "metadata": {
        "colab": {
          "base_uri": "https://localhost:8080/"
        },
        "id": "IfQaPEgryxV0",
        "outputId": "495b2f1b-e6a9-4990-c7aa-1dbf26de9625"
      },
      "execution_count": 69,
      "outputs": [
        {
          "output_type": "stream",
          "name": "stdout",
          "text": [
            "{'learning_rate': 0.0775, 'max_depth': 5, 'n_estimators': 128}\n"
          ]
        }
      ]
    },
    {
      "cell_type": "code",
      "source": [
        "model = XGBRegressor(max_depth = 5,n_estimators = 150,learning_rate = 0.0775)\n",
        "display(model,X,Y)\n"
      ],
      "metadata": {
        "colab": {
          "base_uri": "https://localhost:8080/",
          "height": 129
        },
        "id": "iQCFzxuayoV-",
        "outputId": "aaaf7db7-7fb6-45be-a4cf-c5668e5e2dae"
      },
      "execution_count": 80,
      "outputs": [
        {
          "output_type": "stream",
          "name": "stdout",
          "text": [
            "[15:34:34] WARNING: /workspace/src/objective/regression_obj.cu:152: reg:linear is now deprecated in favor of reg:squarederror.\n"
          ]
        },
        {
          "output_type": "execute_result",
          "data": {
            "text/plain": [
              "    type         MAE      MAPE        R²\n",
              "0   test  281.005130  0.374108  0.414352\n",
              "1  train  228.308723  0.302403  0.645270"
            ],
            "text/html": [
              "\n",
              "  <div id=\"df-747f91e0-7888-4913-8a58-22c1f80f6e2b\">\n",
              "    <div class=\"colab-df-container\">\n",
              "      <div>\n",
              "<style scoped>\n",
              "    .dataframe tbody tr th:only-of-type {\n",
              "        vertical-align: middle;\n",
              "    }\n",
              "\n",
              "    .dataframe tbody tr th {\n",
              "        vertical-align: top;\n",
              "    }\n",
              "\n",
              "    .dataframe thead th {\n",
              "        text-align: right;\n",
              "    }\n",
              "</style>\n",
              "<table border=\"1\" class=\"dataframe\">\n",
              "  <thead>\n",
              "    <tr style=\"text-align: right;\">\n",
              "      <th></th>\n",
              "      <th>type</th>\n",
              "      <th>MAE</th>\n",
              "      <th>MAPE</th>\n",
              "      <th>R²</th>\n",
              "    </tr>\n",
              "  </thead>\n",
              "  <tbody>\n",
              "    <tr>\n",
              "      <th>0</th>\n",
              "      <td>test</td>\n",
              "      <td>281.005130</td>\n",
              "      <td>0.374108</td>\n",
              "      <td>0.414352</td>\n",
              "    </tr>\n",
              "    <tr>\n",
              "      <th>1</th>\n",
              "      <td>train</td>\n",
              "      <td>228.308723</td>\n",
              "      <td>0.302403</td>\n",
              "      <td>0.645270</td>\n",
              "    </tr>\n",
              "  </tbody>\n",
              "</table>\n",
              "</div>\n",
              "      <button class=\"colab-df-convert\" onclick=\"convertToInteractive('df-747f91e0-7888-4913-8a58-22c1f80f6e2b')\"\n",
              "              title=\"Convert this dataframe to an interactive table.\"\n",
              "              style=\"display:none;\">\n",
              "        \n",
              "  <svg xmlns=\"http://www.w3.org/2000/svg\" height=\"24px\"viewBox=\"0 0 24 24\"\n",
              "       width=\"24px\">\n",
              "    <path d=\"M0 0h24v24H0V0z\" fill=\"none\"/>\n",
              "    <path d=\"M18.56 5.44l.94 2.06.94-2.06 2.06-.94-2.06-.94-.94-2.06-.94 2.06-2.06.94zm-11 1L8.5 8.5l.94-2.06 2.06-.94-2.06-.94L8.5 2.5l-.94 2.06-2.06.94zm10 10l.94 2.06.94-2.06 2.06-.94-2.06-.94-.94-2.06-.94 2.06-2.06.94z\"/><path d=\"M17.41 7.96l-1.37-1.37c-.4-.4-.92-.59-1.43-.59-.52 0-1.04.2-1.43.59L10.3 9.45l-7.72 7.72c-.78.78-.78 2.05 0 2.83L4 21.41c.39.39.9.59 1.41.59.51 0 1.02-.2 1.41-.59l7.78-7.78 2.81-2.81c.8-.78.8-2.07 0-2.86zM5.41 20L4 18.59l7.72-7.72 1.47 1.35L5.41 20z\"/>\n",
              "  </svg>\n",
              "      </button>\n",
              "      \n",
              "  <style>\n",
              "    .colab-df-container {\n",
              "      display:flex;\n",
              "      flex-wrap:wrap;\n",
              "      gap: 12px;\n",
              "    }\n",
              "\n",
              "    .colab-df-convert {\n",
              "      background-color: #E8F0FE;\n",
              "      border: none;\n",
              "      border-radius: 50%;\n",
              "      cursor: pointer;\n",
              "      display: none;\n",
              "      fill: #1967D2;\n",
              "      height: 32px;\n",
              "      padding: 0 0 0 0;\n",
              "      width: 32px;\n",
              "    }\n",
              "\n",
              "    .colab-df-convert:hover {\n",
              "      background-color: #E2EBFA;\n",
              "      box-shadow: 0px 1px 2px rgba(60, 64, 67, 0.3), 0px 1px 3px 1px rgba(60, 64, 67, 0.15);\n",
              "      fill: #174EA6;\n",
              "    }\n",
              "\n",
              "    [theme=dark] .colab-df-convert {\n",
              "      background-color: #3B4455;\n",
              "      fill: #D2E3FC;\n",
              "    }\n",
              "\n",
              "    [theme=dark] .colab-df-convert:hover {\n",
              "      background-color: #434B5C;\n",
              "      box-shadow: 0px 1px 3px 1px rgba(0, 0, 0, 0.15);\n",
              "      filter: drop-shadow(0px 1px 2px rgba(0, 0, 0, 0.3));\n",
              "      fill: #FFFFFF;\n",
              "    }\n",
              "  </style>\n",
              "\n",
              "      <script>\n",
              "        const buttonEl =\n",
              "          document.querySelector('#df-747f91e0-7888-4913-8a58-22c1f80f6e2b button.colab-df-convert');\n",
              "        buttonEl.style.display =\n",
              "          google.colab.kernel.accessAllowed ? 'block' : 'none';\n",
              "\n",
              "        async function convertToInteractive(key) {\n",
              "          const element = document.querySelector('#df-747f91e0-7888-4913-8a58-22c1f80f6e2b');\n",
              "          const dataTable =\n",
              "            await google.colab.kernel.invokeFunction('convertToInteractive',\n",
              "                                                     [key], {});\n",
              "          if (!dataTable) return;\n",
              "\n",
              "          const docLinkHtml = 'Like what you see? Visit the ' +\n",
              "            '<a target=\"_blank\" href=https://colab.research.google.com/notebooks/data_table.ipynb>data table notebook</a>'\n",
              "            + ' to learn more about interactive tables.';\n",
              "          element.innerHTML = '';\n",
              "          dataTable['output_type'] = 'display_data';\n",
              "          await google.colab.output.renderOutput(dataTable, element);\n",
              "          const docLink = document.createElement('div');\n",
              "          docLink.innerHTML = docLinkHtml;\n",
              "          element.appendChild(docLink);\n",
              "        }\n",
              "      </script>\n",
              "    </div>\n",
              "  </div>\n",
              "  "
            ]
          },
          "metadata": {},
          "execution_count": 80
        }
      ]
    },
    {
      "cell_type": "code",
      "source": [
        "param_grid = [{'max_leaf_nodes': [20,600], 'n_estimators': [500,1000]}]\n",
        "model2 = RandomForestRegressor()\n",
        "grid_search = GridSearchCV(model2,param_grid,cv = 5)\n",
        "# chamar o fit para o modelo\n",
        "grid_search.fit(X, Y)\n",
        "grid_search.best_params_"
      ],
      "metadata": {
        "id": "eJZxn0wIy1ud",
        "colab": {
          "base_uri": "https://localhost:8080/"
        },
        "outputId": "a8d30a1d-f290-4cb4-dd3e-df220243a5cd"
      },
      "execution_count": 81,
      "outputs": [
        {
          "output_type": "execute_result",
          "data": {
            "text/plain": [
              "{'max_leaf_nodes': 600, 'n_estimators': 1000}"
            ]
          },
          "metadata": {},
          "execution_count": 81
        }
      ]
    },
    {
      "cell_type": "code",
      "source": [
        "rnd_reg = RandomForestRegressor(max_leaf_nodes = 600,n_estimators = 1000)\n",
        "display2(rnd_reg,X,Y)"
      ],
      "metadata": {
        "colab": {
          "base_uri": "https://localhost:8080/",
          "height": 112
        },
        "id": "LSCkzcsXzd7b",
        "outputId": "82cc6365-7523-4436-c7dc-7672fa80455f"
      },
      "execution_count": 82,
      "outputs": [
        {
          "output_type": "execute_result",
          "data": {
            "text/plain": [
              "    type         MAE      MAPE        R²\n",
              "0   test  290.611893  0.369045  0.413212\n",
              "1  train  167.612679  0.240332  0.837679"
            ],
            "text/html": [
              "\n",
              "  <div id=\"df-6f3630a4-c867-4dd5-9e2a-cef73da66a2d\">\n",
              "    <div class=\"colab-df-container\">\n",
              "      <div>\n",
              "<style scoped>\n",
              "    .dataframe tbody tr th:only-of-type {\n",
              "        vertical-align: middle;\n",
              "    }\n",
              "\n",
              "    .dataframe tbody tr th {\n",
              "        vertical-align: top;\n",
              "    }\n",
              "\n",
              "    .dataframe thead th {\n",
              "        text-align: right;\n",
              "    }\n",
              "</style>\n",
              "<table border=\"1\" class=\"dataframe\">\n",
              "  <thead>\n",
              "    <tr style=\"text-align: right;\">\n",
              "      <th></th>\n",
              "      <th>type</th>\n",
              "      <th>MAE</th>\n",
              "      <th>MAPE</th>\n",
              "      <th>R²</th>\n",
              "    </tr>\n",
              "  </thead>\n",
              "  <tbody>\n",
              "    <tr>\n",
              "      <th>0</th>\n",
              "      <td>test</td>\n",
              "      <td>290.611893</td>\n",
              "      <td>0.369045</td>\n",
              "      <td>0.413212</td>\n",
              "    </tr>\n",
              "    <tr>\n",
              "      <th>1</th>\n",
              "      <td>train</td>\n",
              "      <td>167.612679</td>\n",
              "      <td>0.240332</td>\n",
              "      <td>0.837679</td>\n",
              "    </tr>\n",
              "  </tbody>\n",
              "</table>\n",
              "</div>\n",
              "      <button class=\"colab-df-convert\" onclick=\"convertToInteractive('df-6f3630a4-c867-4dd5-9e2a-cef73da66a2d')\"\n",
              "              title=\"Convert this dataframe to an interactive table.\"\n",
              "              style=\"display:none;\">\n",
              "        \n",
              "  <svg xmlns=\"http://www.w3.org/2000/svg\" height=\"24px\"viewBox=\"0 0 24 24\"\n",
              "       width=\"24px\">\n",
              "    <path d=\"M0 0h24v24H0V0z\" fill=\"none\"/>\n",
              "    <path d=\"M18.56 5.44l.94 2.06.94-2.06 2.06-.94-2.06-.94-.94-2.06-.94 2.06-2.06.94zm-11 1L8.5 8.5l.94-2.06 2.06-.94-2.06-.94L8.5 2.5l-.94 2.06-2.06.94zm10 10l.94 2.06.94-2.06 2.06-.94-2.06-.94-.94-2.06-.94 2.06-2.06.94z\"/><path d=\"M17.41 7.96l-1.37-1.37c-.4-.4-.92-.59-1.43-.59-.52 0-1.04.2-1.43.59L10.3 9.45l-7.72 7.72c-.78.78-.78 2.05 0 2.83L4 21.41c.39.39.9.59 1.41.59.51 0 1.02-.2 1.41-.59l7.78-7.78 2.81-2.81c.8-.78.8-2.07 0-2.86zM5.41 20L4 18.59l7.72-7.72 1.47 1.35L5.41 20z\"/>\n",
              "  </svg>\n",
              "      </button>\n",
              "      \n",
              "  <style>\n",
              "    .colab-df-container {\n",
              "      display:flex;\n",
              "      flex-wrap:wrap;\n",
              "      gap: 12px;\n",
              "    }\n",
              "\n",
              "    .colab-df-convert {\n",
              "      background-color: #E8F0FE;\n",
              "      border: none;\n",
              "      border-radius: 50%;\n",
              "      cursor: pointer;\n",
              "      display: none;\n",
              "      fill: #1967D2;\n",
              "      height: 32px;\n",
              "      padding: 0 0 0 0;\n",
              "      width: 32px;\n",
              "    }\n",
              "\n",
              "    .colab-df-convert:hover {\n",
              "      background-color: #E2EBFA;\n",
              "      box-shadow: 0px 1px 2px rgba(60, 64, 67, 0.3), 0px 1px 3px 1px rgba(60, 64, 67, 0.15);\n",
              "      fill: #174EA6;\n",
              "    }\n",
              "\n",
              "    [theme=dark] .colab-df-convert {\n",
              "      background-color: #3B4455;\n",
              "      fill: #D2E3FC;\n",
              "    }\n",
              "\n",
              "    [theme=dark] .colab-df-convert:hover {\n",
              "      background-color: #434B5C;\n",
              "      box-shadow: 0px 1px 3px 1px rgba(0, 0, 0, 0.15);\n",
              "      filter: drop-shadow(0px 1px 2px rgba(0, 0, 0, 0.3));\n",
              "      fill: #FFFFFF;\n",
              "    }\n",
              "  </style>\n",
              "\n",
              "      <script>\n",
              "        const buttonEl =\n",
              "          document.querySelector('#df-6f3630a4-c867-4dd5-9e2a-cef73da66a2d button.colab-df-convert');\n",
              "        buttonEl.style.display =\n",
              "          google.colab.kernel.accessAllowed ? 'block' : 'none';\n",
              "\n",
              "        async function convertToInteractive(key) {\n",
              "          const element = document.querySelector('#df-6f3630a4-c867-4dd5-9e2a-cef73da66a2d');\n",
              "          const dataTable =\n",
              "            await google.colab.kernel.invokeFunction('convertToInteractive',\n",
              "                                                     [key], {});\n",
              "          if (!dataTable) return;\n",
              "\n",
              "          const docLinkHtml = 'Like what you see? Visit the ' +\n",
              "            '<a target=\"_blank\" href=https://colab.research.google.com/notebooks/data_table.ipynb>data table notebook</a>'\n",
              "            + ' to learn more about interactive tables.';\n",
              "          element.innerHTML = '';\n",
              "          dataTable['output_type'] = 'display_data';\n",
              "          await google.colab.output.renderOutput(dataTable, element);\n",
              "          const docLink = document.createElement('div');\n",
              "          docLink.innerHTML = docLinkHtml;\n",
              "          element.appendChild(docLink);\n",
              "        }\n",
              "      </script>\n",
              "    </div>\n",
              "  </div>\n",
              "  "
            ]
          },
          "metadata": {},
          "execution_count": 82
        }
      ]
    },
    {
      "cell_type": "code",
      "source": [
        "print(model.feature_importances_)\n",
        "print(rnd_reg.feature_importances_)"
      ],
      "metadata": {
        "colab": {
          "base_uri": "https://localhost:8080/"
        },
        "id": "ucY0NvD1ep-A",
        "outputId": "2a355980-5e49-421e-bd75-14b7c8af292e"
      },
      "execution_count": 83,
      "outputs": [
        {
          "output_type": "stream",
          "name": "stdout",
          "text": [
            "[0.02416525 0.01193136 0.01864237 0.03153927 0.02468582 0.05993232\n",
            " 0.19927374 0.02240963 0.2245056  0.0286173  0.04436766 0.02991601\n",
            " 0.03742906 0.19350912 0.02721062 0.02186481]\n",
            "[0.01264497 0.00530785 0.00884039 0.04904121 0.013932   0.05787607\n",
            " 0.12662854 0.06593035 0.09974889 0.02598011 0.11507924 0.10324997\n",
            " 0.00939635 0.14382333 0.09750843 0.06501229]\n"
          ]
        }
      ]
    },
    {
      "cell_type": "markdown",
      "source": [
        "Ambos métodos para estimar o preço apresentaram resultados semelhantes, com cerca de 38% de erro nos casos de teste. É uma precisão já considerável pois dados sobre taxa de locação estão indisponíveis e contêm, naturalmente, muita incerteza.\n",
        "\n",
        "* Observação: Ainda que grid_search do RandomForestGenerator apontem como ideal valores limites do intervalo de estudo - o que indica a necessidade de teste de mais casos fora deste intervalo -, o aumento dos casos,nestes dados especificamente, somente diminui o erro sobre casos de treino, mantendo-se estável em casos de teste.\n",
        "\n",
        "\n"
      ],
      "metadata": {
        "id": "6807WSVHgPvL"
      }
    },
    {
      "cell_type": "markdown",
      "source": [
        "## Conclusão\n",
        "O modelo preditivo para estimar a taxa de locação mostrou-se ineficiente, enquanto o modelo de preços gerou resultados mais positivos.\\\n",
        "A principal \"feature\" na determinação do preço de locação é a localização do imóvel e a quantidade de pessoas alocadas. Demais variáveis pouco influenciam na precificação."
      ],
      "metadata": {
        "id": "Vc38uI90lFAG"
      }
    }
  ]
}