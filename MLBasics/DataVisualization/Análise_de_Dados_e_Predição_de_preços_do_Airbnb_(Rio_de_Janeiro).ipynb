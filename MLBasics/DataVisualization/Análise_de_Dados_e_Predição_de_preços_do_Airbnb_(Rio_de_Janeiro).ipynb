{
  "nbformat": 4,
  "nbformat_minor": 0,
  "metadata": {
    "colab": {
      "provenance": []
    },
    "kernelspec": {
      "name": "python3",
      "display_name": "Python 3"
    }
  },
  "cells": [
    {
      "cell_type": "markdown",
      "metadata": {
        "id": "kLI0gJtzDGuQ"
      },
      "source": [
        "<img alt=\"Colaboratory logo\" width=\"15%\" src=\"https://raw.githubusercontent.com/carlosfab/escola-data-science/master/img/novo_logo_bg_claro.png\">\n",
        "\n",
        "#### **Data Science na Prática 3.0**\n",
        "*by [sigmoidal.ai](https://sigmoidal.ai)*\n",
        "\n",
        "---\n",
        "\n",
        "# Análise dos Dados do Airbnb - Rio de Janeiro\n",
        "\n",
        "O [Airbnb](https://www.airbnb.com.br/) já é considerado como sendo a **maior empresa hoteleira da atualidade**. Ah, o detalhe é que ele **não possui nenhum hotel**!\n",
        "\n",
        "Conectando pessoas que querem viajar (e se hospedar) com anfitriões que querem alugar seus imóveis de maneira prática, o Airbnb fornece uma plataforma inovadora para tornar essa hospedagem alternativa.\n",
        "\n",
        "No final de 2018, a Startup fundada 10 anos atrás, já havia **hospedado mais de 300 milhões** de pessoas ao redor de todo o mundo, desafiando as redes hoteleiras tradicionais.\n",
        "\n",
        "Uma das iniciativas do Airbnb é disponibilizar dados do site, para algumas das principais cidades do mundo. Por meio do portal [Inside Airbnb](http://insideairbnb.com/get-the-data.html), é possível baixar uma grande quantidade de dados para desenvolver projetos e soluções de *Data Science*.\n",
        "\n",
        "<center><img alt=\"Analisando Airbnb\" width=\"10%\" src=\"https://www.area360.com.au/wp-content/uploads/2017/09/airbnb-logo.jpg\"></center>\n",
        "\n",
        "**Neste *notebook*, iremos analisar os dados referentes à cidade do Rio de Janeiro, e ver quais insights podem ser extraídos a partir de dados brutos.**"
      ]
    },
    {
      "cell_type": "markdown",
      "metadata": {
        "id": "0zxQHhIUDF_2"
      },
      "source": [
        "## Obtenção dos Dados\n",
        "\n",
        "Todos os dados usados aqui foram obtidos a partir do site [Inside Airbnb](http://insideairbnb.com/get-the-data.html).\n",
        "\n",
        "Para esta análise exploratória inicial, será baixado apenas o seguinte arquivo:\n",
        "\n",
        "* `listings.csv.gz` \n"
      ]
    },
    {
      "cell_type": "code",
      "metadata": {
        "id": "Vhp2wMPgJ6zX"
      },
      "source": [
        "# importar os pacotes necessarios\n",
        "import pandas as pd\n",
        "import matplotlib.pyplot as plt\n",
        "import seaborn as sns\n",
        "\n",
        "%matplotlib inline"
      ],
      "execution_count": null,
      "outputs": []
    },
    {
      "cell_type": "code",
      "metadata": {
        "id": "tUmoAT8DLQ5T"
      },
      "source": [
        "# importar o arquivo listings.csv para um DataFrame\n",
        "df = pd.read_csv(\"http://data.insideairbnb.com/brazil/rj/rio-de-janeiro/2022-12-29/data/listings.csv.gz\")\n"
      ],
      "execution_count": null,
      "outputs": []
    },
    {
      "cell_type": "code",
      "source": [
        "df.columns"
      ],
      "metadata": {
        "colab": {
          "base_uri": "https://localhost:8080/"
        },
        "id": "e29JWsHajwKV",
        "outputId": "9c880a8a-b9be-4cd3-eecf-b3d727533e27"
      },
      "execution_count": null,
      "outputs": [
        {
          "output_type": "execute_result",
          "data": {
            "text/plain": [
              "Index(['id', 'listing_url', 'scrape_id', 'last_scraped', 'source', 'name',\n",
              "       'description', 'neighborhood_overview', 'picture_url', 'host_id',\n",
              "       'host_url', 'host_name', 'host_since', 'host_location', 'host_about',\n",
              "       'host_response_time', 'host_response_rate', 'host_acceptance_rate',\n",
              "       'host_is_superhost', 'host_thumbnail_url', 'host_picture_url',\n",
              "       'host_neighbourhood', 'host_listings_count',\n",
              "       'host_total_listings_count', 'host_verifications',\n",
              "       'host_has_profile_pic', 'host_identity_verified', 'neighbourhood',\n",
              "       'neighbourhood_cleansed', 'neighbourhood_group_cleansed', 'latitude',\n",
              "       'longitude', 'property_type', 'room_type', 'accommodates', 'bathrooms',\n",
              "       'bathrooms_text', 'bedrooms', 'beds', 'amenities', 'price',\n",
              "       'minimum_nights', 'maximum_nights', 'minimum_minimum_nights',\n",
              "       'maximum_minimum_nights', 'minimum_maximum_nights',\n",
              "       'maximum_maximum_nights', 'minimum_nights_avg_ntm',\n",
              "       'maximum_nights_avg_ntm', 'calendar_updated', 'has_availability',\n",
              "       'availability_30', 'availability_60', 'availability_90',\n",
              "       'availability_365', 'calendar_last_scraped', 'number_of_reviews',\n",
              "       'number_of_reviews_ltm', 'number_of_reviews_l30d', 'first_review',\n",
              "       'last_review', 'review_scores_rating', 'review_scores_accuracy',\n",
              "       'review_scores_cleanliness', 'review_scores_checkin',\n",
              "       'review_scores_communication', 'review_scores_location',\n",
              "       'review_scores_value', 'license', 'instant_bookable',\n",
              "       'calculated_host_listings_count',\n",
              "       'calculated_host_listings_count_entire_homes',\n",
              "       'calculated_host_listings_count_private_rooms',\n",
              "       'calculated_host_listings_count_shared_rooms', 'reviews_per_month'],\n",
              "      dtype='object')"
            ]
          },
          "metadata": {},
          "execution_count": 3
        }
      ]
    },
    {
      "cell_type": "markdown",
      "source": [
        "Selecionaremos algumas características consideradas mais importantes para modelagens assim como faixa de valores condizentes com a vida real. O número de pessoas acomodadas, quantidade de banheiros, quartos e camas, preço, localização e nota serão considerados."
      ],
      "metadata": {
        "id": "vfiZRAYzXY-v"
      }
    },
    {
      "cell_type": "code",
      "source": [
        "df_clean = df[[\"id\",\"reviews_per_month\",\"host_is_superhost\",\"neighbourhood_cleansed\",\"room_type\",\"accommodates\",\"bathrooms_text\",\"bedrooms\",\"beds\",\"amenities\",\"price\",\"review_scores_rating\",\"number_of_reviews\",\"latitude\",\"longitude\",\"minimum_nights\"]].copy()"
      ],
      "metadata": {
        "id": "qOjWs3som2_X"
      },
      "execution_count": null,
      "outputs": []
    },
    {
      "cell_type": "markdown",
      "source": [
        "Queremos considerar locações com quantidade suficiente de dados e com notas mais positivas para a análise dos dados. Logo, eliminamos locações que não sejam casas e apartamentos completos ou com notas baixas ou com poucos reviews."
      ],
      "metadata": {
        "id": "qaBDAZYsAmH9"
      }
    },
    {
      "cell_type": "code",
      "source": [
        "df_clean.drop(df_clean[df_clean.room_type != \"Entire home/apt\"].index, axis=0, inplace=True)\n",
        "df_clean.drop(df_clean[df_clean.number_of_reviews < 5].index, axis=0, inplace=True)\n",
        "df_clean.drop(df_clean[df_clean.review_scores_rating < 4].index, axis=0, inplace=True)"
      ],
      "metadata": {
        "id": "wRJ2EUwxIpd0"
      },
      "execution_count": null,
      "outputs": []
    },
    {
      "cell_type": "markdown",
      "source": [
        "Adaptaremos os dados para facilitar análise."
      ],
      "metadata": {
        "id": "ZB9yhGUwA_-m"
      }
    },
    {
      "cell_type": "code",
      "source": [
        "df_clean.host_is_superhost.fillna(\"f\",inplace = True)\n",
        "df_clean.reset_index(inplace = True)   \n",
        "for i in range(len(df_clean)):\n",
        "  \n",
        "  if df_clean.host_is_superhost[i] == str(\"t\"): # converteremos o fato de ser super host para um valor numérico.\n",
        "    df_clean.host_is_superhost[i] = float(1.)\n",
        "  else:\n",
        "    df_clean.host_is_superhost[i] = float(0.)\n"
      ],
      "metadata": {
        "id": "Rj1hJL1jI19O"
      },
      "execution_count": null,
      "outputs": []
    },
    {
      "cell_type": "code",
      "source": [
        "for i in range(len(df_clean)):\n",
        "#determina quantidade de banheiros.\n",
        "  if df_clean.bathrooms_text[i] == \"Half-bath\":   \n",
        "    df_clean.bathrooms_text[i] = 0.5   \n",
        "  elif type(df_clean.bathrooms_text[i]) != float:\n",
        "    df_clean.bathrooms_text[i] = float(df_clean.bathrooms_text[i][:2])"
      ],
      "metadata": {
        "id": "Ru1KrbLT4DYV"
      },
      "execution_count": null,
      "outputs": []
    },
    {
      "cell_type": "code",
      "source": [
        "for i in range(len(df_clean)):\n",
        "  if type(df_clean.price[i]) != float:           #transforma o preço para float.\n",
        "    df_clean.price[i] = float(df_clean.price[i][1:].replace(\",\",\"\"))"
      ],
      "metadata": {
        "id": "C0PR34SOmT5o"
      },
      "execution_count": null,
      "outputs": []
    },
    {
      "cell_type": "code",
      "source": [
        "df_clean[\"kitchen\"] = 0.  # aqui, criaremos novas condições, como cozinha, ar condicionado, tv e wifi.\n",
        "df_clean[\"air_cond\"] = 0.\n",
        "df_clean[\"TV\"] = 0.\n",
        "df_clean[\"wifi\"] = 0.\n",
        "\n",
        "for i in range(len(df_clean)):\n",
        "\n",
        "  amenitie = df_clean.amenities[i].lower()\n",
        "\n",
        "  if \"air conditioning\" in amenitie:\n",
        "    df_clean.air_cond[i] = 1.\n",
        "  \n",
        "  if \"tv\" in amenitie:\n",
        "    df_clean.TV = 1.\n",
        "  \n",
        "  if \"kitchen\" in amenitie:\n",
        "    df_clean.kitchen[i] = 1.\n",
        "\n",
        "  \n",
        "  if \"wifi\" in amenitie:\n",
        "    df_clean.wifi[i] = 1.\n",
        "  \n",
        "  if \"wi fi\" in amenitie:\n",
        "    df_clean.wifi[i] = 1.\n"
      ],
      "metadata": {
        "id": "PgiwDmuuN8ea"
      },
      "execution_count": null,
      "outputs": []
    },
    {
      "cell_type": "code",
      "source": [
        "df_clean.host_is_superhost = df_clean.host_is_superhost.astype(float)\n",
        "df_clean.bathrooms_text = df_clean.bathrooms_text.astype(float)\n",
        "df_clean.price = df_clean.price.astype(float)"
      ],
      "metadata": {
        "id": "H6KowFKzS8yN"
      },
      "execution_count": null,
      "outputs": []
    },
    {
      "cell_type": "code",
      "source": [
        "df_clean.dropna(inplace = True)"
      ],
      "metadata": {
        "id": "2YM4saJ4asX7"
      },
      "execution_count": null,
      "outputs": []
    },
    {
      "cell_type": "markdown",
      "source": [
        "Agora, associaremos o bairro ao valor de seu metro quadrado. Dados a partir do link: https://portal.loft.com.br/metro-quadrado-mais-caro-do-rio-de-janeiro/"
      ],
      "metadata": {
        "id": "rbzmqSJ8YOXk"
      }
    },
    {
      "cell_type": "code",
      "source": [
        "data  = { \"Leblon\"\t:  16928, \"Ipanema\"\t: 15328, \"Lagoa\" : 15249, \"Jardim Botânico\" : 14530, \"Gávea\" : \t14078, \"Urca\" : 13083, \"Botafogo\"\t: 12513, \"Humaitá\" : 12402,\t\n",
        "\"Barra Da Tijuca: Jardim Oceânico\" : 12042, \"Leme\" : 11408, \"Barra Da Tijuca\" : 11038, \"Copacabana\" : 10955, \"Flamengo\" : 10671,\"Laranjeiras\": 10438,\"São Conrado\" : 10402,\n",
        "\"Glória\" :  9716,\"Catete\" : 9550,\"Cosme Velho\" : 9530, \"Paciência\" :\t9122,\"Guaratiba\" : 8538,\"Gamboa\": 8083,\"Santa Cruz\"\t: 8070,\"Cidade Nova\"\t: 7941 ,\"Jacarepaguá\"\t: 7904,\n",
        "\"Santo Cristo\"\t:  7890,\t\"Centro\" : 7881, \"Itanhangá\" : 7710, \"Alto Da Boa Vista\":\t 7676, \"Recreio Dos Bandeirantes\" : 7509, \"Maracanã\"\t: 7443,\"Santa Teresa\" : 7215,\n",
        "\"Campo Grande\" : 7105, \"Tijuca\" : 7052,\t\"Ribeira (Ilha Do Governador)\" : 7045, \"Camorim\" : 6833 }\n",
        "data2 = {}\n",
        "for i in data:\n",
        " data2[i.lower()] = data[i]\n",
        "df_clean[\"valor\"] = 0\n",
        "df_clean.reset_index(drop = True, inplace =True)\n",
        "for i in range((len(df_clean))):\n",
        "  if df_clean.neighbourhood_cleansed[i].lower() in data2:\n",
        "   df_clean[\"valor\"][i] = data2[df_clean.neighbourhood_cleansed[i].lower()]\n",
        "  else:\n",
        "    df_clean.drop([i],axis = 0,inplace = True)"
      ],
      "metadata": {
        "id": "IsN7_rOZSuJk"
      },
      "execution_count": null,
      "outputs": []
    },
    {
      "cell_type": "code",
      "source": [
        "df_clean.info()"
      ],
      "metadata": {
        "colab": {
          "base_uri": "https://localhost:8080/"
        },
        "id": "xre0IKaCbkx_",
        "outputId": "a0370d09-e4da-4fb5-e671-ca753a7cd9f9"
      },
      "execution_count": null,
      "outputs": [
        {
          "output_type": "stream",
          "name": "stdout",
          "text": [
            "<class 'pandas.core.frame.DataFrame'>\n",
            "Int64Index: 9168 entries, 0 to 9602\n",
            "Data columns (total 22 columns):\n",
            " #   Column                  Non-Null Count  Dtype  \n",
            "---  ------                  --------------  -----  \n",
            " 0   index                   9168 non-null   int64  \n",
            " 1   id                      9168 non-null   int64  \n",
            " 2   reviews_per_month       9168 non-null   float64\n",
            " 3   host_is_superhost       9168 non-null   float64\n",
            " 4   neighbourhood_cleansed  9168 non-null   object \n",
            " 5   room_type               9168 non-null   object \n",
            " 6   accommodates            9168 non-null   int64  \n",
            " 7   bathrooms_text          9168 non-null   float64\n",
            " 8   bedrooms                9168 non-null   float64\n",
            " 9   beds                    9168 non-null   float64\n",
            " 10  amenities               9168 non-null   object \n",
            " 11  price                   9168 non-null   float64\n",
            " 12  review_scores_rating    9168 non-null   float64\n",
            " 13  number_of_reviews       9168 non-null   int64  \n",
            " 14  latitude                9168 non-null   float64\n",
            " 15  longitude               9168 non-null   float64\n",
            " 16  minimum_nights          9168 non-null   int64  \n",
            " 17  kitchen                 9168 non-null   float64\n",
            " 18  air_cond                9168 non-null   float64\n",
            " 19  TV                      9168 non-null   float64\n",
            " 20  wifi                    9168 non-null   float64\n",
            " 21  valor                   9168 non-null   int64  \n",
            "dtypes: float64(13), int64(6), object(3)\n",
            "memory usage: 1.9+ MB\n"
          ]
        }
      ]
    },
    {
      "cell_type": "code",
      "source": [
        "df_clean.describe()"
      ],
      "metadata": {
        "colab": {
          "base_uri": "https://localhost:8080/",
          "height": 364
        },
        "id": "cKg8m4a2af1X",
        "outputId": "ab02f334-0f9c-4ece-d72b-f20248a5c1f1"
      },
      "execution_count": null,
      "outputs": [
        {
          "output_type": "execute_result",
          "data": {
            "text/plain": [
              "              index            id  reviews_per_month  host_is_superhost  \\\n",
              "count   9168.000000  9.168000e+03        9168.000000        9168.000000   \n",
              "mean   13442.389943  9.928258e+16           1.215513           0.400305   \n",
              "std     7775.698275  2.316522e+17           1.130564           0.489987   \n",
              "min        3.000000  1.787800e+04           0.040000           0.000000   \n",
              "25%     6772.500000  1.366818e+07           0.370000           0.000000   \n",
              "50%    13102.500000  3.710526e+07           0.880000           0.000000   \n",
              "75%    19333.500000  5.250736e+07           1.700000           1.000000   \n",
              "max    28297.000000  7.768670e+17          12.000000           1.000000   \n",
              "\n",
              "       accommodates  bathrooms_text     bedrooms         beds          price  \\\n",
              "count   9168.000000     9168.000000  9168.000000  9168.000000    9168.000000   \n",
              "mean       4.438373        1.518652     1.689245     2.745201    1202.641470   \n",
              "std        2.121055        0.832308     0.902565     1.781289    5062.609522   \n",
              "min        1.000000        0.000000     1.000000     1.000000      61.000000   \n",
              "25%        3.000000        1.000000     1.000000     2.000000     421.000000   \n",
              "50%        4.000000        1.000000     1.000000     2.000000     686.000000   \n",
              "75%        5.000000        2.000000     2.000000     3.000000    1093.000000   \n",
              "max       16.000000       15.000000    10.000000    25.000000  225651.000000   \n",
              "\n",
              "       review_scores_rating  number_of_reviews     latitude    longitude  \\\n",
              "count           9168.000000        9168.000000  9168.000000  9168.000000   \n",
              "mean               4.805776          38.405868   -22.974195   -43.235938   \n",
              "std                0.194729          48.803832     0.025410     0.089568   \n",
              "min                4.000000           5.000000   -23.063370   -43.677920   \n",
              "25%                4.710000          10.000000   -22.985041   -43.225143   \n",
              "50%                4.860000          20.000000   -22.976750   -43.192365   \n",
              "75%                4.960000          46.000000   -22.964670   -43.184807   \n",
              "max                5.000000         548.000000   -22.859390   -43.159970   \n",
              "\n",
              "       minimum_nights      kitchen     air_cond      TV         wifi  \\\n",
              "count     9168.000000  9168.000000  9168.000000  9168.0  9168.000000   \n",
              "mean         3.765816     0.964005     0.583661     1.0     0.974149   \n",
              "std         17.317082     0.186287     0.492978     0.0     0.158699   \n",
              "min          1.000000     0.000000     0.000000     1.0     0.000000   \n",
              "25%          2.000000     1.000000     0.000000     1.0     1.000000   \n",
              "50%          2.000000     1.000000     1.000000     1.0     1.000000   \n",
              "75%          3.000000     1.000000     1.000000     1.0     1.000000   \n",
              "max        999.000000     1.000000     1.000000     1.0     1.000000   \n",
              "\n",
              "              valor  \n",
              "count   9168.000000  \n",
              "mean   11542.517125  \n",
              "std     2681.053754  \n",
              "min     6833.000000  \n",
              "25%    10955.000000  \n",
              "50%    10955.000000  \n",
              "75%    12513.000000  \n",
              "max    16928.000000  "
            ],
            "text/html": [
              "\n",
              "  <div id=\"df-c45766aa-340e-46ad-b818-3b025fdbc4ab\">\n",
              "    <div class=\"colab-df-container\">\n",
              "      <div>\n",
              "<style scoped>\n",
              "    .dataframe tbody tr th:only-of-type {\n",
              "        vertical-align: middle;\n",
              "    }\n",
              "\n",
              "    .dataframe tbody tr th {\n",
              "        vertical-align: top;\n",
              "    }\n",
              "\n",
              "    .dataframe thead th {\n",
              "        text-align: right;\n",
              "    }\n",
              "</style>\n",
              "<table border=\"1\" class=\"dataframe\">\n",
              "  <thead>\n",
              "    <tr style=\"text-align: right;\">\n",
              "      <th></th>\n",
              "      <th>index</th>\n",
              "      <th>id</th>\n",
              "      <th>reviews_per_month</th>\n",
              "      <th>host_is_superhost</th>\n",
              "      <th>accommodates</th>\n",
              "      <th>bathrooms_text</th>\n",
              "      <th>bedrooms</th>\n",
              "      <th>beds</th>\n",
              "      <th>price</th>\n",
              "      <th>review_scores_rating</th>\n",
              "      <th>number_of_reviews</th>\n",
              "      <th>latitude</th>\n",
              "      <th>longitude</th>\n",
              "      <th>minimum_nights</th>\n",
              "      <th>kitchen</th>\n",
              "      <th>air_cond</th>\n",
              "      <th>TV</th>\n",
              "      <th>wifi</th>\n",
              "      <th>valor</th>\n",
              "    </tr>\n",
              "  </thead>\n",
              "  <tbody>\n",
              "    <tr>\n",
              "      <th>count</th>\n",
              "      <td>9168.000000</td>\n",
              "      <td>9.168000e+03</td>\n",
              "      <td>9168.000000</td>\n",
              "      <td>9168.000000</td>\n",
              "      <td>9168.000000</td>\n",
              "      <td>9168.000000</td>\n",
              "      <td>9168.000000</td>\n",
              "      <td>9168.000000</td>\n",
              "      <td>9168.000000</td>\n",
              "      <td>9168.000000</td>\n",
              "      <td>9168.000000</td>\n",
              "      <td>9168.000000</td>\n",
              "      <td>9168.000000</td>\n",
              "      <td>9168.000000</td>\n",
              "      <td>9168.000000</td>\n",
              "      <td>9168.000000</td>\n",
              "      <td>9168.0</td>\n",
              "      <td>9168.000000</td>\n",
              "      <td>9168.000000</td>\n",
              "    </tr>\n",
              "    <tr>\n",
              "      <th>mean</th>\n",
              "      <td>13442.389943</td>\n",
              "      <td>9.928258e+16</td>\n",
              "      <td>1.215513</td>\n",
              "      <td>0.400305</td>\n",
              "      <td>4.438373</td>\n",
              "      <td>1.518652</td>\n",
              "      <td>1.689245</td>\n",
              "      <td>2.745201</td>\n",
              "      <td>1202.641470</td>\n",
              "      <td>4.805776</td>\n",
              "      <td>38.405868</td>\n",
              "      <td>-22.974195</td>\n",
              "      <td>-43.235938</td>\n",
              "      <td>3.765816</td>\n",
              "      <td>0.964005</td>\n",
              "      <td>0.583661</td>\n",
              "      <td>1.0</td>\n",
              "      <td>0.974149</td>\n",
              "      <td>11542.517125</td>\n",
              "    </tr>\n",
              "    <tr>\n",
              "      <th>std</th>\n",
              "      <td>7775.698275</td>\n",
              "      <td>2.316522e+17</td>\n",
              "      <td>1.130564</td>\n",
              "      <td>0.489987</td>\n",
              "      <td>2.121055</td>\n",
              "      <td>0.832308</td>\n",
              "      <td>0.902565</td>\n",
              "      <td>1.781289</td>\n",
              "      <td>5062.609522</td>\n",
              "      <td>0.194729</td>\n",
              "      <td>48.803832</td>\n",
              "      <td>0.025410</td>\n",
              "      <td>0.089568</td>\n",
              "      <td>17.317082</td>\n",
              "      <td>0.186287</td>\n",
              "      <td>0.492978</td>\n",
              "      <td>0.0</td>\n",
              "      <td>0.158699</td>\n",
              "      <td>2681.053754</td>\n",
              "    </tr>\n",
              "    <tr>\n",
              "      <th>min</th>\n",
              "      <td>3.000000</td>\n",
              "      <td>1.787800e+04</td>\n",
              "      <td>0.040000</td>\n",
              "      <td>0.000000</td>\n",
              "      <td>1.000000</td>\n",
              "      <td>0.000000</td>\n",
              "      <td>1.000000</td>\n",
              "      <td>1.000000</td>\n",
              "      <td>61.000000</td>\n",
              "      <td>4.000000</td>\n",
              "      <td>5.000000</td>\n",
              "      <td>-23.063370</td>\n",
              "      <td>-43.677920</td>\n",
              "      <td>1.000000</td>\n",
              "      <td>0.000000</td>\n",
              "      <td>0.000000</td>\n",
              "      <td>1.0</td>\n",
              "      <td>0.000000</td>\n",
              "      <td>6833.000000</td>\n",
              "    </tr>\n",
              "    <tr>\n",
              "      <th>25%</th>\n",
              "      <td>6772.500000</td>\n",
              "      <td>1.366818e+07</td>\n",
              "      <td>0.370000</td>\n",
              "      <td>0.000000</td>\n",
              "      <td>3.000000</td>\n",
              "      <td>1.000000</td>\n",
              "      <td>1.000000</td>\n",
              "      <td>2.000000</td>\n",
              "      <td>421.000000</td>\n",
              "      <td>4.710000</td>\n",
              "      <td>10.000000</td>\n",
              "      <td>-22.985041</td>\n",
              "      <td>-43.225143</td>\n",
              "      <td>2.000000</td>\n",
              "      <td>1.000000</td>\n",
              "      <td>0.000000</td>\n",
              "      <td>1.0</td>\n",
              "      <td>1.000000</td>\n",
              "      <td>10955.000000</td>\n",
              "    </tr>\n",
              "    <tr>\n",
              "      <th>50%</th>\n",
              "      <td>13102.500000</td>\n",
              "      <td>3.710526e+07</td>\n",
              "      <td>0.880000</td>\n",
              "      <td>0.000000</td>\n",
              "      <td>4.000000</td>\n",
              "      <td>1.000000</td>\n",
              "      <td>1.000000</td>\n",
              "      <td>2.000000</td>\n",
              "      <td>686.000000</td>\n",
              "      <td>4.860000</td>\n",
              "      <td>20.000000</td>\n",
              "      <td>-22.976750</td>\n",
              "      <td>-43.192365</td>\n",
              "      <td>2.000000</td>\n",
              "      <td>1.000000</td>\n",
              "      <td>1.000000</td>\n",
              "      <td>1.0</td>\n",
              "      <td>1.000000</td>\n",
              "      <td>10955.000000</td>\n",
              "    </tr>\n",
              "    <tr>\n",
              "      <th>75%</th>\n",
              "      <td>19333.500000</td>\n",
              "      <td>5.250736e+07</td>\n",
              "      <td>1.700000</td>\n",
              "      <td>1.000000</td>\n",
              "      <td>5.000000</td>\n",
              "      <td>2.000000</td>\n",
              "      <td>2.000000</td>\n",
              "      <td>3.000000</td>\n",
              "      <td>1093.000000</td>\n",
              "      <td>4.960000</td>\n",
              "      <td>46.000000</td>\n",
              "      <td>-22.964670</td>\n",
              "      <td>-43.184807</td>\n",
              "      <td>3.000000</td>\n",
              "      <td>1.000000</td>\n",
              "      <td>1.000000</td>\n",
              "      <td>1.0</td>\n",
              "      <td>1.000000</td>\n",
              "      <td>12513.000000</td>\n",
              "    </tr>\n",
              "    <tr>\n",
              "      <th>max</th>\n",
              "      <td>28297.000000</td>\n",
              "      <td>7.768670e+17</td>\n",
              "      <td>12.000000</td>\n",
              "      <td>1.000000</td>\n",
              "      <td>16.000000</td>\n",
              "      <td>15.000000</td>\n",
              "      <td>10.000000</td>\n",
              "      <td>25.000000</td>\n",
              "      <td>225651.000000</td>\n",
              "      <td>5.000000</td>\n",
              "      <td>548.000000</td>\n",
              "      <td>-22.859390</td>\n",
              "      <td>-43.159970</td>\n",
              "      <td>999.000000</td>\n",
              "      <td>1.000000</td>\n",
              "      <td>1.000000</td>\n",
              "      <td>1.0</td>\n",
              "      <td>1.000000</td>\n",
              "      <td>16928.000000</td>\n",
              "    </tr>\n",
              "  </tbody>\n",
              "</table>\n",
              "</div>\n",
              "      <button class=\"colab-df-convert\" onclick=\"convertToInteractive('df-c45766aa-340e-46ad-b818-3b025fdbc4ab')\"\n",
              "              title=\"Convert this dataframe to an interactive table.\"\n",
              "              style=\"display:none;\">\n",
              "        \n",
              "  <svg xmlns=\"http://www.w3.org/2000/svg\" height=\"24px\"viewBox=\"0 0 24 24\"\n",
              "       width=\"24px\">\n",
              "    <path d=\"M0 0h24v24H0V0z\" fill=\"none\"/>\n",
              "    <path d=\"M18.56 5.44l.94 2.06.94-2.06 2.06-.94-2.06-.94-.94-2.06-.94 2.06-2.06.94zm-11 1L8.5 8.5l.94-2.06 2.06-.94-2.06-.94L8.5 2.5l-.94 2.06-2.06.94zm10 10l.94 2.06.94-2.06 2.06-.94-2.06-.94-.94-2.06-.94 2.06-2.06.94z\"/><path d=\"M17.41 7.96l-1.37-1.37c-.4-.4-.92-.59-1.43-.59-.52 0-1.04.2-1.43.59L10.3 9.45l-7.72 7.72c-.78.78-.78 2.05 0 2.83L4 21.41c.39.39.9.59 1.41.59.51 0 1.02-.2 1.41-.59l7.78-7.78 2.81-2.81c.8-.78.8-2.07 0-2.86zM5.41 20L4 18.59l7.72-7.72 1.47 1.35L5.41 20z\"/>\n",
              "  </svg>\n",
              "      </button>\n",
              "      \n",
              "  <style>\n",
              "    .colab-df-container {\n",
              "      display:flex;\n",
              "      flex-wrap:wrap;\n",
              "      gap: 12px;\n",
              "    }\n",
              "\n",
              "    .colab-df-convert {\n",
              "      background-color: #E8F0FE;\n",
              "      border: none;\n",
              "      border-radius: 50%;\n",
              "      cursor: pointer;\n",
              "      display: none;\n",
              "      fill: #1967D2;\n",
              "      height: 32px;\n",
              "      padding: 0 0 0 0;\n",
              "      width: 32px;\n",
              "    }\n",
              "\n",
              "    .colab-df-convert:hover {\n",
              "      background-color: #E2EBFA;\n",
              "      box-shadow: 0px 1px 2px rgba(60, 64, 67, 0.3), 0px 1px 3px 1px rgba(60, 64, 67, 0.15);\n",
              "      fill: #174EA6;\n",
              "    }\n",
              "\n",
              "    [theme=dark] .colab-df-convert {\n",
              "      background-color: #3B4455;\n",
              "      fill: #D2E3FC;\n",
              "    }\n",
              "\n",
              "    [theme=dark] .colab-df-convert:hover {\n",
              "      background-color: #434B5C;\n",
              "      box-shadow: 0px 1px 3px 1px rgba(0, 0, 0, 0.15);\n",
              "      filter: drop-shadow(0px 1px 2px rgba(0, 0, 0, 0.3));\n",
              "      fill: #FFFFFF;\n",
              "    }\n",
              "  </style>\n",
              "\n",
              "      <script>\n",
              "        const buttonEl =\n",
              "          document.querySelector('#df-c45766aa-340e-46ad-b818-3b025fdbc4ab button.colab-df-convert');\n",
              "        buttonEl.style.display =\n",
              "          google.colab.kernel.accessAllowed ? 'block' : 'none';\n",
              "\n",
              "        async function convertToInteractive(key) {\n",
              "          const element = document.querySelector('#df-c45766aa-340e-46ad-b818-3b025fdbc4ab');\n",
              "          const dataTable =\n",
              "            await google.colab.kernel.invokeFunction('convertToInteractive',\n",
              "                                                     [key], {});\n",
              "          if (!dataTable) return;\n",
              "\n",
              "          const docLinkHtml = 'Like what you see? Visit the ' +\n",
              "            '<a target=\"_blank\" href=https://colab.research.google.com/notebooks/data_table.ipynb>data table notebook</a>'\n",
              "            + ' to learn more about interactive tables.';\n",
              "          element.innerHTML = '';\n",
              "          dataTable['output_type'] = 'display_data';\n",
              "          await google.colab.output.renderOutput(dataTable, element);\n",
              "          const docLink = document.createElement('div');\n",
              "          docLink.innerHTML = docLinkHtml;\n",
              "          element.appendChild(docLink);\n",
              "        }\n",
              "      </script>\n",
              "    </div>\n",
              "  </div>\n",
              "  "
            ]
          },
          "metadata": {},
          "execution_count": 186
        }
      ]
    },
    {
      "cell_type": "code",
      "source": [
        "df_clean.plot(kind=\"scatter\", x='longitude', y='latitude', alpha=0.4, c=df_clean['price'], s=8,\n",
        "              cmap=plt.get_cmap('jet'), figsize=(12,8));"
      ],
      "metadata": {
        "colab": {
          "base_uri": "https://localhost:8080/",
          "height": 472
        },
        "id": "F3A6XdGVVYhq",
        "outputId": "3ad825b8-2be5-4f23-d79e-ffc4c5bbf407"
      },
      "execution_count": null,
      "outputs": [
        {
          "output_type": "display_data",
          "data": {
            "text/plain": [
              "<Figure size 864x576 with 2 Axes>"
            ],
            "image/png": "[encoded data removed]"
          },
          "metadata": {
            "needs_background": "light"
          }
        }
      ]
    },
    {
      "cell_type": "markdown",
      "metadata": {
        "id": "qb5By2nIMS6m"
      },
      "source": [
        "## Análise dos Dados\n",
        "\n",
        "Esta etapa tem por objetivo criar uma consciência situacional inicial e permitir um entendimento de como os dados estão estruturados.\n"
      ]
    },
    {
      "cell_type": "markdown",
      "metadata": {
        "id": "RYgvuebKNg8-"
      },
      "source": [
        "**Dicionário das variáveis**\n",
        "\n",
        "* `id` - número de id gerado para identificar o imóvel\n",
        "* `host_is_superhost`- categoria a qual o host pertence\n",
        "* `neighbourhood_cleansed` - nome do bairro\n",
        "* `latitude` - coordenada da latitude da propriedade\n",
        "* `longitude` - coordenada da longitude da propriedade\n",
        "* `room_type` - informa o tipo de quarto que é oferecido\n",
        "* `price` - preço para alugar o imóvel\n",
        "* `minimum_nights` - quantidade mínima de noites para reservar\n",
        "* `number_of_reviews` - número de reviews que a propriedade possui\n",
        "* `accommodates` - quantas pessoas a casa acomoda\n",
        "* `bathrooms_text` - quantidade de banheiros\n",
        "* `beds` - quantidade de camas\n",
        "* `bedrooms` - quantidade de quartos\n",
        "* `amenities` - extras da locação\n",
        "* `kitchen, air_cond,tv,wifi` - Dados sobre presença de cozinha, ar condicionado, TV e wifi\n",
        "* `valor` - valor do metro quadrado do bairro \n",
        "\n",
        "\n",
        "Antes de iniciar qualquer análise, vamos verificar a cara do nosso *dataset*, analisando as 5 primeiras entradas."
      ]
    },
    {
      "cell_type": "code",
      "metadata": {
        "id": "2iS_dae7YQtO",
        "colab": {
          "base_uri": "https://localhost:8080/",
          "height": 386
        },
        "outputId": "981b86b2-eb5c-4812-b38c-0a5966513a20"
      },
      "source": [
        "# mostrar as 5 primeiras entradas\n",
        "df_clean.head()"
      ],
      "execution_count": null,
      "outputs": [
        {
          "output_type": "execute_result",
          "data": {
            "text/plain": [
              "   index        id  reviews_per_month  host_is_superhost  \\\n",
              "0      3  23768085               1.59                0.0   \n",
              "1     12   3147066               2.94                1.0   \n",
              "2     19  13129278               0.37                0.0   \n",
              "3     22  43851003               0.70                0.0   \n",
              "4     38  47937561               0.35                0.0   \n",
              "\n",
              "  neighbourhood_cleansed        room_type  accommodates  bathrooms_text  \\\n",
              "0        Barra da Tijuca  Entire home/apt             2             1.0   \n",
              "1                Ipanema  Entire home/apt             4             1.0   \n",
              "2        Barra da Tijuca  Entire home/apt             6             4.0   \n",
              "3                Ipanema  Entire home/apt             4             1.0   \n",
              "4                Ipanema  Entire home/apt             6             1.0   \n",
              "\n",
              "   bedrooms  beds  ... review_scores_rating  number_of_reviews  latitude  \\\n",
              "0       1.0   6.0  ...                 4.79                 92 -23.01104   \n",
              "1       2.0   2.0  ...                 4.91                307 -22.98113   \n",
              "2       3.0   3.0  ...                 4.93                 29 -23.01887   \n",
              "3       2.0   3.0  ...                 4.17                 18 -22.98103   \n",
              "4       2.0   3.0  ...                 4.88                  8 -22.98406   \n",
              "\n",
              "   longitude  minimum_nights  kitchen  air_cond   TV  wifi  valor  \n",
              "0  -43.32034               3      1.0       1.0  1.0   1.0  11038  \n",
              "1  -43.19848               2      1.0       0.0  1.0   1.0  15328  \n",
              "2  -43.44984              25      1.0       1.0  1.0   1.0  11038  \n",
              "3  -43.19816               1      0.0       1.0  1.0   1.0  15328  \n",
              "4  -43.20392               5      0.0       1.0  1.0   1.0  15328  \n",
              "\n",
              "[5 rows x 22 columns]"
            ],
            "text/html": [
              "\n",
              "  <div id=\"df-21cdcae4-8664-4023-bbec-6f8d05e49a78\">\n",
              "    <div class=\"colab-df-container\">\n",
              "      <div>\n",
              "<style scoped>\n",
              "    .dataframe tbody tr th:only-of-type {\n",
              "        vertical-align: middle;\n",
              "    }\n",
              "\n",
              "    .dataframe tbody tr th {\n",
              "        vertical-align: top;\n",
              "    }\n",
              "\n",
              "    .dataframe thead th {\n",
              "        text-align: right;\n",
              "    }\n",
              "</style>\n",
              "<table border=\"1\" class=\"dataframe\">\n",
              "  <thead>\n",
              "    <tr style=\"text-align: right;\">\n",
              "      <th></th>\n",
              "      <th>index</th>\n",
              "      <th>id</th>\n",
              "      <th>reviews_per_month</th>\n",
              "      <th>host_is_superhost</th>\n",
              "      <th>neighbourhood_cleansed</th>\n",
              "      <th>room_type</th>\n",
              "      <th>accommodates</th>\n",
              "      <th>bathrooms_text</th>\n",
              "      <th>bedrooms</th>\n",
              "      <th>beds</th>\n",
              "      <th>...</th>\n",
              "      <th>review_scores_rating</th>\n",
              "      <th>number_of_reviews</th>\n",
              "      <th>latitude</th>\n",
              "      <th>longitude</th>\n",
              "      <th>minimum_nights</th>\n",
              "      <th>kitchen</th>\n",
              "      <th>air_cond</th>\n",
              "      <th>TV</th>\n",
              "      <th>wifi</th>\n",
              "      <th>valor</th>\n",
              "    </tr>\n",
              "  </thead>\n",
              "  <tbody>\n",
              "    <tr>\n",
              "      <th>0</th>\n",
              "      <td>3</td>\n",
              "      <td>23768085</td>\n",
              "      <td>1.59</td>\n",
              "      <td>0.0</td>\n",
              "      <td>Barra da Tijuca</td>\n",
              "      <td>Entire home/apt</td>\n",
              "      <td>2</td>\n",
              "      <td>1.0</td>\n",
              "      <td>1.0</td>\n",
              "      <td>6.0</td>\n",
              "      <td>...</td>\n",
              "      <td>4.79</td>\n",
              "      <td>92</td>\n",
              "      <td>-23.01104</td>\n",
              "      <td>-43.32034</td>\n",
              "      <td>3</td>\n",
              "      <td>1.0</td>\n",
              "      <td>1.0</td>\n",
              "      <td>1.0</td>\n",
              "      <td>1.0</td>\n",
              "      <td>11038</td>\n",
              "    </tr>\n",
              "    <tr>\n",
              "      <th>1</th>\n",
              "      <td>12</td>\n",
              "      <td>3147066</td>\n",
              "      <td>2.94</td>\n",
              "      <td>1.0</td>\n",
              "      <td>Ipanema</td>\n",
              "      <td>Entire home/apt</td>\n",
              "      <td>4</td>\n",
              "      <td>1.0</td>\n",
              "      <td>2.0</td>\n",
              "      <td>2.0</td>\n",
              "      <td>...</td>\n",
              "      <td>4.91</td>\n",
              "      <td>307</td>\n",
              "      <td>-22.98113</td>\n",
              "      <td>-43.19848</td>\n",
              "      <td>2</td>\n",
              "      <td>1.0</td>\n",
              "      <td>0.0</td>\n",
              "      <td>1.0</td>\n",
              "      <td>1.0</td>\n",
              "      <td>15328</td>\n",
              "    </tr>\n",
              "    <tr>\n",
              "      <th>2</th>\n",
              "      <td>19</td>\n",
              "      <td>13129278</td>\n",
              "      <td>0.37</td>\n",
              "      <td>0.0</td>\n",
              "      <td>Barra da Tijuca</td>\n",
              "      <td>Entire home/apt</td>\n",
              "      <td>6</td>\n",
              "      <td>4.0</td>\n",
              "      <td>3.0</td>\n",
              "      <td>3.0</td>\n",
              "      <td>...</td>\n",
              "      <td>4.93</td>\n",
              "      <td>29</td>\n",
              "      <td>-23.01887</td>\n",
              "      <td>-43.44984</td>\n",
              "      <td>25</td>\n",
              "      <td>1.0</td>\n",
              "      <td>1.0</td>\n",
              "      <td>1.0</td>\n",
              "      <td>1.0</td>\n",
              "      <td>11038</td>\n",
              "    </tr>\n",
              "    <tr>\n",
              "      <th>3</th>\n",
              "      <td>22</td>\n",
              "      <td>43851003</td>\n",
              "      <td>0.70</td>\n",
              "      <td>0.0</td>\n",
              "      <td>Ipanema</td>\n",
              "      <td>Entire home/apt</td>\n",
              "      <td>4</td>\n",
              "      <td>1.0</td>\n",
              "      <td>2.0</td>\n",
              "      <td>3.0</td>\n",
              "      <td>...</td>\n",
              "      <td>4.17</td>\n",
              "      <td>18</td>\n",
              "      <td>-22.98103</td>\n",
              "      <td>-43.19816</td>\n",
              "      <td>1</td>\n",
              "      <td>0.0</td>\n",
              "      <td>1.0</td>\n",
              "      <td>1.0</td>\n",
              "      <td>1.0</td>\n",
              "      <td>15328</td>\n",
              "    </tr>\n",
              "    <tr>\n",
              "      <th>4</th>\n",
              "      <td>38</td>\n",
              "      <td>47937561</td>\n",
              "      <td>0.35</td>\n",
              "      <td>0.0</td>\n",
              "      <td>Ipanema</td>\n",
              "      <td>Entire home/apt</td>\n",
              "      <td>6</td>\n",
              "      <td>1.0</td>\n",
              "      <td>2.0</td>\n",
              "      <td>3.0</td>\n",
              "      <td>...</td>\n",
              "      <td>4.88</td>\n",
              "      <td>8</td>\n",
              "      <td>-22.98406</td>\n",
              "      <td>-43.20392</td>\n",
              "      <td>5</td>\n",
              "      <td>0.0</td>\n",
              "      <td>1.0</td>\n",
              "      <td>1.0</td>\n",
              "      <td>1.0</td>\n",
              "      <td>15328</td>\n",
              "    </tr>\n",
              "  </tbody>\n",
              "</table>\n",
              "<p>5 rows × 22 columns</p>\n",
              "</div>\n",
              "      <button class=\"colab-df-convert\" onclick=\"convertToInteractive('df-21cdcae4-8664-4023-bbec-6f8d05e49a78')\"\n",
              "              title=\"Convert this dataframe to an interactive table.\"\n",
              "              style=\"display:none;\">\n",
              "        \n",
              "  <svg xmlns=\"http://www.w3.org/2000/svg\" height=\"24px\"viewBox=\"0 0 24 24\"\n",
              "       width=\"24px\">\n",
              "    <path d=\"M0 0h24v24H0V0z\" fill=\"none\"/>\n",
              "    <path d=\"M18.56 5.44l.94 2.06.94-2.06 2.06-.94-2.06-.94-.94-2.06-.94 2.06-2.06.94zm-11 1L8.5 8.5l.94-2.06 2.06-.94-2.06-.94L8.5 2.5l-.94 2.06-2.06.94zm10 10l.94 2.06.94-2.06 2.06-.94-2.06-.94-.94-2.06-.94 2.06-2.06.94z\"/><path d=\"M17.41 7.96l-1.37-1.37c-.4-.4-.92-.59-1.43-.59-.52 0-1.04.2-1.43.59L10.3 9.45l-7.72 7.72c-.78.78-.78 2.05 0 2.83L4 21.41c.39.39.9.59 1.41.59.51 0 1.02-.2 1.41-.59l7.78-7.78 2.81-2.81c.8-.78.8-2.07 0-2.86zM5.41 20L4 18.59l7.72-7.72 1.47 1.35L5.41 20z\"/>\n",
              "  </svg>\n",
              "      </button>\n",
              "      \n",
              "  <style>\n",
              "    .colab-df-container {\n",
              "      display:flex;\n",
              "      flex-wrap:wrap;\n",
              "      gap: 12px;\n",
              "    }\n",
              "\n",
              "    .colab-df-convert {\n",
              "      background-color: #E8F0FE;\n",
              "      border: none;\n",
              "      border-radius: 50%;\n",
              "      cursor: pointer;\n",
              "      display: none;\n",
              "      fill: #1967D2;\n",
              "      height: 32px;\n",
              "      padding: 0 0 0 0;\n",
              "      width: 32px;\n",
              "    }\n",
              "\n",
              "    .colab-df-convert:hover {\n",
              "      background-color: #E2EBFA;\n",
              "      box-shadow: 0px 1px 2px rgba(60, 64, 67, 0.3), 0px 1px 3px 1px rgba(60, 64, 67, 0.15);\n",
              "      fill: #174EA6;\n",
              "    }\n",
              "\n",
              "    [theme=dark] .colab-df-convert {\n",
              "      background-color: #3B4455;\n",
              "      fill: #D2E3FC;\n",
              "    }\n",
              "\n",
              "    [theme=dark] .colab-df-convert:hover {\n",
              "      background-color: #434B5C;\n",
              "      box-shadow: 0px 1px 3px 1px rgba(0, 0, 0, 0.15);\n",
              "      filter: drop-shadow(0px 1px 2px rgba(0, 0, 0, 0.3));\n",
              "      fill: #FFFFFF;\n",
              "    }\n",
              "  </style>\n",
              "\n",
              "      <script>\n",
              "        const buttonEl =\n",
              "          document.querySelector('#df-21cdcae4-8664-4023-bbec-6f8d05e49a78 button.colab-df-convert');\n",
              "        buttonEl.style.display =\n",
              "          google.colab.kernel.accessAllowed ? 'block' : 'none';\n",
              "\n",
              "        async function convertToInteractive(key) {\n",
              "          const element = document.querySelector('#df-21cdcae4-8664-4023-bbec-6f8d05e49a78');\n",
              "          const dataTable =\n",
              "            await google.colab.kernel.invokeFunction('convertToInteractive',\n",
              "                                                     [key], {});\n",
              "          if (!dataTable) return;\n",
              "\n",
              "          const docLinkHtml = 'Like what you see? Visit the ' +\n",
              "            '<a target=\"_blank\" href=https://colab.research.google.com/notebooks/data_table.ipynb>data table notebook</a>'\n",
              "            + ' to learn more about interactive tables.';\n",
              "          element.innerHTML = '';\n",
              "          dataTable['output_type'] = 'display_data';\n",
              "          await google.colab.output.renderOutput(dataTable, element);\n",
              "          const docLink = document.createElement('div');\n",
              "          docLink.innerHTML = docLinkHtml;\n",
              "          element.appendChild(docLink);\n",
              "        }\n",
              "      </script>\n",
              "    </div>\n",
              "  </div>\n",
              "  "
            ]
          },
          "metadata": {},
          "execution_count": 188
        }
      ]
    },
    {
      "cell_type": "markdown",
      "metadata": {
        "id": "6-B_qtEaYEd-"
      },
      "source": [
        "### **Q1. Quantos atributos (variáveis) e quantas entradas o nosso conjunto de dados possui? Quais os tipos das variáveis?**\n",
        "\n",
        "Vamos prosseguir e identificar a quantidade de entradas que nosso conjunto de dados possui e ver os tipos de cada coluna.\n"
      ]
    },
    {
      "cell_type": "code",
      "metadata": {
        "id": "TFRK0tniLV-G",
        "colab": {
          "base_uri": "https://localhost:8080/",
          "height": 468
        },
        "outputId": "aa925a9d-fd2e-49cf-f3e8-aaf1696f7a26"
      },
      "source": [
        "# identificar o volume de dados do DataFrame\n",
        "print(\"Entradas:\\t {}\".format(df_clean.shape[0]))\n",
        "print(\"Variáveis:\\t {}\\n\".format(df_clean.shape[1]))\n",
        "\n",
        "# verificar as 5 primeiras entradas do dataset\n",
        "display(df_clean.dtypes)"
      ],
      "execution_count": null,
      "outputs": [
        {
          "output_type": "stream",
          "name": "stdout",
          "text": [
            "Entradas:\t 9168\n",
            "Variáveis:\t 22\n",
            "\n"
          ]
        },
        {
          "output_type": "display_data",
          "data": {
            "text/plain": [
              "index                       int64\n",
              "id                          int64\n",
              "reviews_per_month         float64\n",
              "host_is_superhost         float64\n",
              "neighbourhood_cleansed     object\n",
              "room_type                  object\n",
              "accommodates                int64\n",
              "bathrooms_text            float64\n",
              "bedrooms                  float64\n",
              "beds                      float64\n",
              "amenities                  object\n",
              "price                     float64\n",
              "review_scores_rating      float64\n",
              "number_of_reviews           int64\n",
              "latitude                  float64\n",
              "longitude                 float64\n",
              "minimum_nights              int64\n",
              "kitchen                   float64\n",
              "air_cond                  float64\n",
              "TV                        float64\n",
              "wifi                      float64\n",
              "valor                       int64\n",
              "dtype: object"
            ]
          },
          "metadata": {}
        }
      ]
    },
    {
      "cell_type": "markdown",
      "metadata": {
        "id": "yz1urSUGW9iE"
      },
      "source": [
        "### **Q2. Qual a porcentagem de valores ausentes no *dataset*?**\n",
        "\n",
        "A qualidade de um *dataset* está diretamente relacionada à quantidade de valores ausentes. É importante entender logo no início se esses valores nulos são significativos comparados ao total de entradas.\n",
        "\n",
        "Como os dados já foram tratados na seção anterior, não haverá valores nulos."
      ]
    },
    {
      "cell_type": "code",
      "metadata": {
        "id": "plk2FjbCXOqP",
        "colab": {
          "base_uri": "https://localhost:8080/"
        },
        "outputId": "7e172ae6-e897-47cc-fd5c-caeb83fc645a"
      },
      "source": [
        "# ordenar em ordem decrescente as variáveis por seus valores ausentes\n",
        "(df_clean.isnull().sum() / df_clean.shape[0]).sort_values(ascending=False)"
      ],
      "execution_count": null,
      "outputs": [
        {
          "output_type": "execute_result",
          "data": {
            "text/plain": [
              "index                     0.0\n",
              "id                        0.0\n",
              "wifi                      0.0\n",
              "TV                        0.0\n",
              "air_cond                  0.0\n",
              "kitchen                   0.0\n",
              "minimum_nights            0.0\n",
              "longitude                 0.0\n",
              "latitude                  0.0\n",
              "number_of_reviews         0.0\n",
              "review_scores_rating      0.0\n",
              "price                     0.0\n",
              "amenities                 0.0\n",
              "beds                      0.0\n",
              "bedrooms                  0.0\n",
              "bathrooms_text            0.0\n",
              "accommodates              0.0\n",
              "room_type                 0.0\n",
              "neighbourhood_cleansed    0.0\n",
              "host_is_superhost         0.0\n",
              "reviews_per_month         0.0\n",
              "valor                     0.0\n",
              "dtype: float64"
            ]
          },
          "metadata": {},
          "execution_count": 190
        }
      ]
    },
    {
      "cell_type": "markdown",
      "metadata": {
        "id": "iHXvvHIxaoNc"
      },
      "source": [
        "### **Q3. Qual o tipo de distribuição das variáveis?** \n",
        "\n",
        "Para identificar a distribuição das variáveis, irei plotar o histograma."
      ]
    },
    {
      "cell_type": "code",
      "metadata": {
        "id": "q2wWSfeRbmBo",
        "colab": {
          "base_uri": "https://localhost:8080/",
          "height": 607
        },
        "outputId": "c652259d-c165-49d3-d1c5-8dcdd8598c84"
      },
      "source": [
        "# plotar o histograma das variáveis numéricas\n",
        "df_clean.hist(bins=15, figsize=(10,10));"
      ],
      "execution_count": null,
      "outputs": [
        {
          "output_type": "display_data",
          "data": {
            "text/plain": [
              "<Figure size 720x720 with 20 Axes>"
            ],
            "image/png": "[encoded data removed]"
          },
          "metadata": {
            "needs_background": "light"
          }
        }
      ]
    },
    {
      "cell_type": "markdown",
      "metadata": {
        "id": "7x4aw1j5wNmn"
      },
      "source": [
        "### **Q4. Há *outliers* presentes?**"
      ]
    },
    {
      "cell_type": "markdown",
      "metadata": {
        "id": "ba1xYYTug6bX"
      },
      "source": [
        "Pela distribuição do histograma, é possível verificar indícios da presença de *outliers*. Olhe por exemplo as variáveis `price`e `minimum_nights`\n",
        "Os valores não seguem uma distruição, e distorcem toda a representação gráfica. Para confirmar, há duas maneiras rápidas que auxiliam a detecção de *outliers*. São elas:\n",
        "\n",
        "* Resumo estatístico por meio do método `describe()`\n",
        "* Plotar `boxplots` para a variável."
      ]
    },
    {
      "cell_type": "code",
      "metadata": {
        "id": "ff-8gUahLk-C",
        "colab": {
          "base_uri": "https://localhost:8080/",
          "height": 364
        },
        "outputId": "5320b97e-533b-4a8d-b89f-0868245d3b5a"
      },
      "source": [
        "# ver o resumo estatístico das variáveis numéricas\n",
        "df_clean.describe()"
      ],
      "execution_count": null,
      "outputs": [
        {
          "output_type": "execute_result",
          "data": {
            "text/plain": [
              "              index            id  reviews_per_month  host_is_superhost  \\\n",
              "count   9168.000000  9.168000e+03        9168.000000        9168.000000   \n",
              "mean   13442.389943  9.928258e+16           1.215513           0.400305   \n",
              "std     7775.698275  2.316522e+17           1.130564           0.489987   \n",
              "min        3.000000  1.787800e+04           0.040000           0.000000   \n",
              "25%     6772.500000  1.366818e+07           0.370000           0.000000   \n",
              "50%    13102.500000  3.710526e+07           0.880000           0.000000   \n",
              "75%    19333.500000  5.250736e+07           1.700000           1.000000   \n",
              "max    28297.000000  7.768670e+17          12.000000           1.000000   \n",
              "\n",
              "       accommodates  bathrooms_text     bedrooms         beds          price  \\\n",
              "count   9168.000000     9168.000000  9168.000000  9168.000000    9168.000000   \n",
              "mean       4.438373        1.518652     1.689245     2.745201    1202.641470   \n",
              "std        2.121055        0.832308     0.902565     1.781289    5062.609522   \n",
              "min        1.000000        0.000000     1.000000     1.000000      61.000000   \n",
              "25%        3.000000        1.000000     1.000000     2.000000     421.000000   \n",
              "50%        4.000000        1.000000     1.000000     2.000000     686.000000   \n",
              "75%        5.000000        2.000000     2.000000     3.000000    1093.000000   \n",
              "max       16.000000       15.000000    10.000000    25.000000  225651.000000   \n",
              "\n",
              "       review_scores_rating  number_of_reviews     latitude    longitude  \\\n",
              "count           9168.000000        9168.000000  9168.000000  9168.000000   \n",
              "mean               4.805776          38.405868   -22.974195   -43.235938   \n",
              "std                0.194729          48.803832     0.025410     0.089568   \n",
              "min                4.000000           5.000000   -23.063370   -43.677920   \n",
              "25%                4.710000          10.000000   -22.985041   -43.225143   \n",
              "50%                4.860000          20.000000   -22.976750   -43.192365   \n",
              "75%                4.960000          46.000000   -22.964670   -43.184807   \n",
              "max                5.000000         548.000000   -22.859390   -43.159970   \n",
              "\n",
              "       minimum_nights      kitchen     air_cond      TV         wifi  \\\n",
              "count     9168.000000  9168.000000  9168.000000  9168.0  9168.000000   \n",
              "mean         3.765816     0.964005     0.583661     1.0     0.974149   \n",
              "std         17.317082     0.186287     0.492978     0.0     0.158699   \n",
              "min          1.000000     0.000000     0.000000     1.0     0.000000   \n",
              "25%          2.000000     1.000000     0.000000     1.0     1.000000   \n",
              "50%          2.000000     1.000000     1.000000     1.0     1.000000   \n",
              "75%          3.000000     1.000000     1.000000     1.0     1.000000   \n",
              "max        999.000000     1.000000     1.000000     1.0     1.000000   \n",
              "\n",
              "              valor  \n",
              "count   9168.000000  \n",
              "mean   11542.517125  \n",
              "std     2681.053754  \n",
              "min     6833.000000  \n",
              "25%    10955.000000  \n",
              "50%    10955.000000  \n",
              "75%    12513.000000  \n",
              "max    16928.000000  "
            ],
            "text/html": [
              "\n",
              "  <div id=\"df-a8a8718f-963a-4459-9e8f-4f2a971d4b37\">\n",
              "    <div class=\"colab-df-container\">\n",
              "      <div>\n",
              "<style scoped>\n",
              "    .dataframe tbody tr th:only-of-type {\n",
              "        vertical-align: middle;\n",
              "    }\n",
              "\n",
              "    .dataframe tbody tr th {\n",
              "        vertical-align: top;\n",
              "    }\n",
              "\n",
              "    .dataframe thead th {\n",
              "        text-align: right;\n",
              "    }\n",
              "</style>\n",
              "<table border=\"1\" class=\"dataframe\">\n",
              "  <thead>\n",
              "    <tr style=\"text-align: right;\">\n",
              "      <th></th>\n",
              "      <th>index</th>\n",
              "      <th>id</th>\n",
              "      <th>reviews_per_month</th>\n",
              "      <th>host_is_superhost</th>\n",
              "      <th>accommodates</th>\n",
              "      <th>bathrooms_text</th>\n",
              "      <th>bedrooms</th>\n",
              "      <th>beds</th>\n",
              "      <th>price</th>\n",
              "      <th>review_scores_rating</th>\n",
              "      <th>number_of_reviews</th>\n",
              "      <th>latitude</th>\n",
              "      <th>longitude</th>\n",
              "      <th>minimum_nights</th>\n",
              "      <th>kitchen</th>\n",
              "      <th>air_cond</th>\n",
              "      <th>TV</th>\n",
              "      <th>wifi</th>\n",
              "      <th>valor</th>\n",
              "    </tr>\n",
              "  </thead>\n",
              "  <tbody>\n",
              "    <tr>\n",
              "      <th>count</th>\n",
              "      <td>9168.000000</td>\n",
              "      <td>9.168000e+03</td>\n",
              "      <td>9168.000000</td>\n",
              "      <td>9168.000000</td>\n",
              "      <td>9168.000000</td>\n",
              "      <td>9168.000000</td>\n",
              "      <td>9168.000000</td>\n",
              "      <td>9168.000000</td>\n",
              "      <td>9168.000000</td>\n",
              "      <td>9168.000000</td>\n",
              "      <td>9168.000000</td>\n",
              "      <td>9168.000000</td>\n",
              "      <td>9168.000000</td>\n",
              "      <td>9168.000000</td>\n",
              "      <td>9168.000000</td>\n",
              "      <td>9168.000000</td>\n",
              "      <td>9168.0</td>\n",
              "      <td>9168.000000</td>\n",
              "      <td>9168.000000</td>\n",
              "    </tr>\n",
              "    <tr>\n",
              "      <th>mean</th>\n",
              "      <td>13442.389943</td>\n",
              "      <td>9.928258e+16</td>\n",
              "      <td>1.215513</td>\n",
              "      <td>0.400305</td>\n",
              "      <td>4.438373</td>\n",
              "      <td>1.518652</td>\n",
              "      <td>1.689245</td>\n",
              "      <td>2.745201</td>\n",
              "      <td>1202.641470</td>\n",
              "      <td>4.805776</td>\n",
              "      <td>38.405868</td>\n",
              "      <td>-22.974195</td>\n",
              "      <td>-43.235938</td>\n",
              "      <td>3.765816</td>\n",
              "      <td>0.964005</td>\n",
              "      <td>0.583661</td>\n",
              "      <td>1.0</td>\n",
              "      <td>0.974149</td>\n",
              "      <td>11542.517125</td>\n",
              "    </tr>\n",
              "    <tr>\n",
              "      <th>std</th>\n",
              "      <td>7775.698275</td>\n",
              "      <td>2.316522e+17</td>\n",
              "      <td>1.130564</td>\n",
              "      <td>0.489987</td>\n",
              "      <td>2.121055</td>\n",
              "      <td>0.832308</td>\n",
              "      <td>0.902565</td>\n",
              "      <td>1.781289</td>\n",
              "      <td>5062.609522</td>\n",
              "      <td>0.194729</td>\n",
              "      <td>48.803832</td>\n",
              "      <td>0.025410</td>\n",
              "      <td>0.089568</td>\n",
              "      <td>17.317082</td>\n",
              "      <td>0.186287</td>\n",
              "      <td>0.492978</td>\n",
              "      <td>0.0</td>\n",
              "      <td>0.158699</td>\n",
              "      <td>2681.053754</td>\n",
              "    </tr>\n",
              "    <tr>\n",
              "      <th>min</th>\n",
              "      <td>3.000000</td>\n",
              "      <td>1.787800e+04</td>\n",
              "      <td>0.040000</td>\n",
              "      <td>0.000000</td>\n",
              "      <td>1.000000</td>\n",
              "      <td>0.000000</td>\n",
              "      <td>1.000000</td>\n",
              "      <td>1.000000</td>\n",
              "      <td>61.000000</td>\n",
              "      <td>4.000000</td>\n",
              "      <td>5.000000</td>\n",
              "      <td>-23.063370</td>\n",
              "      <td>-43.677920</td>\n",
              "      <td>1.000000</td>\n",
              "      <td>0.000000</td>\n",
              "      <td>0.000000</td>\n",
              "      <td>1.0</td>\n",
              "      <td>0.000000</td>\n",
              "      <td>6833.000000</td>\n",
              "    </tr>\n",
              "    <tr>\n",
              "      <th>25%</th>\n",
              "      <td>6772.500000</td>\n",
              "      <td>1.366818e+07</td>\n",
              "      <td>0.370000</td>\n",
              "      <td>0.000000</td>\n",
              "      <td>3.000000</td>\n",
              "      <td>1.000000</td>\n",
              "      <td>1.000000</td>\n",
              "      <td>2.000000</td>\n",
              "      <td>421.000000</td>\n",
              "      <td>4.710000</td>\n",
              "      <td>10.000000</td>\n",
              "      <td>-22.985041</td>\n",
              "      <td>-43.225143</td>\n",
              "      <td>2.000000</td>\n",
              "      <td>1.000000</td>\n",
              "      <td>0.000000</td>\n",
              "      <td>1.0</td>\n",
              "      <td>1.000000</td>\n",
              "      <td>10955.000000</td>\n",
              "    </tr>\n",
              "    <tr>\n",
              "      <th>50%</th>\n",
              "      <td>13102.500000</td>\n",
              "      <td>3.710526e+07</td>\n",
              "      <td>0.880000</td>\n",
              "      <td>0.000000</td>\n",
              "      <td>4.000000</td>\n",
              "      <td>1.000000</td>\n",
              "      <td>1.000000</td>\n",
              "      <td>2.000000</td>\n",
              "      <td>686.000000</td>\n",
              "      <td>4.860000</td>\n",
              "      <td>20.000000</td>\n",
              "      <td>-22.976750</td>\n",
              "      <td>-43.192365</td>\n",
              "      <td>2.000000</td>\n",
              "      <td>1.000000</td>\n",
              "      <td>1.000000</td>\n",
              "      <td>1.0</td>\n",
              "      <td>1.000000</td>\n",
              "      <td>10955.000000</td>\n",
              "    </tr>\n",
              "    <tr>\n",
              "      <th>75%</th>\n",
              "      <td>19333.500000</td>\n",
              "      <td>5.250736e+07</td>\n",
              "      <td>1.700000</td>\n",
              "      <td>1.000000</td>\n",
              "      <td>5.000000</td>\n",
              "      <td>2.000000</td>\n",
              "      <td>2.000000</td>\n",
              "      <td>3.000000</td>\n",
              "      <td>1093.000000</td>\n",
              "      <td>4.960000</td>\n",
              "      <td>46.000000</td>\n",
              "      <td>-22.964670</td>\n",
              "      <td>-43.184807</td>\n",
              "      <td>3.000000</td>\n",
              "      <td>1.000000</td>\n",
              "      <td>1.000000</td>\n",
              "      <td>1.0</td>\n",
              "      <td>1.000000</td>\n",
              "      <td>12513.000000</td>\n",
              "    </tr>\n",
              "    <tr>\n",
              "      <th>max</th>\n",
              "      <td>28297.000000</td>\n",
              "      <td>7.768670e+17</td>\n",
              "      <td>12.000000</td>\n",
              "      <td>1.000000</td>\n",
              "      <td>16.000000</td>\n",
              "      <td>15.000000</td>\n",
              "      <td>10.000000</td>\n",
              "      <td>25.000000</td>\n",
              "      <td>225651.000000</td>\n",
              "      <td>5.000000</td>\n",
              "      <td>548.000000</td>\n",
              "      <td>-22.859390</td>\n",
              "      <td>-43.159970</td>\n",
              "      <td>999.000000</td>\n",
              "      <td>1.000000</td>\n",
              "      <td>1.000000</td>\n",
              "      <td>1.0</td>\n",
              "      <td>1.000000</td>\n",
              "      <td>16928.000000</td>\n",
              "    </tr>\n",
              "  </tbody>\n",
              "</table>\n",
              "</div>\n",
              "      <button class=\"colab-df-convert\" onclick=\"convertToInteractive('df-a8a8718f-963a-4459-9e8f-4f2a971d4b37')\"\n",
              "              title=\"Convert this dataframe to an interactive table.\"\n",
              "              style=\"display:none;\">\n",
              "        \n",
              "  <svg xmlns=\"http://www.w3.org/2000/svg\" height=\"24px\"viewBox=\"0 0 24 24\"\n",
              "       width=\"24px\">\n",
              "    <path d=\"M0 0h24v24H0V0z\" fill=\"none\"/>\n",
              "    <path d=\"M18.56 5.44l.94 2.06.94-2.06 2.06-.94-2.06-.94-.94-2.06-.94 2.06-2.06.94zm-11 1L8.5 8.5l.94-2.06 2.06-.94-2.06-.94L8.5 2.5l-.94 2.06-2.06.94zm10 10l.94 2.06.94-2.06 2.06-.94-2.06-.94-.94-2.06-.94 2.06-2.06.94z\"/><path d=\"M17.41 7.96l-1.37-1.37c-.4-.4-.92-.59-1.43-.59-.52 0-1.04.2-1.43.59L10.3 9.45l-7.72 7.72c-.78.78-.78 2.05 0 2.83L4 21.41c.39.39.9.59 1.41.59.51 0 1.02-.2 1.41-.59l7.78-7.78 2.81-2.81c.8-.78.8-2.07 0-2.86zM5.41 20L4 18.59l7.72-7.72 1.47 1.35L5.41 20z\"/>\n",
              "  </svg>\n",
              "      </button>\n",
              "      \n",
              "  <style>\n",
              "    .colab-df-container {\n",
              "      display:flex;\n",
              "      flex-wrap:wrap;\n",
              "      gap: 12px;\n",
              "    }\n",
              "\n",
              "    .colab-df-convert {\n",
              "      background-color: #E8F0FE;\n",
              "      border: none;\n",
              "      border-radius: 50%;\n",
              "      cursor: pointer;\n",
              "      display: none;\n",
              "      fill: #1967D2;\n",
              "      height: 32px;\n",
              "      padding: 0 0 0 0;\n",
              "      width: 32px;\n",
              "    }\n",
              "\n",
              "    .colab-df-convert:hover {\n",
              "      background-color: #E2EBFA;\n",
              "      box-shadow: 0px 1px 2px rgba(60, 64, 67, 0.3), 0px 1px 3px 1px rgba(60, 64, 67, 0.15);\n",
              "      fill: #174EA6;\n",
              "    }\n",
              "\n",
              "    [theme=dark] .colab-df-convert {\n",
              "      background-color: #3B4455;\n",
              "      fill: #D2E3FC;\n",
              "    }\n",
              "\n",
              "    [theme=dark] .colab-df-convert:hover {\n",
              "      background-color: #434B5C;\n",
              "      box-shadow: 0px 1px 3px 1px rgba(0, 0, 0, 0.15);\n",
              "      filter: drop-shadow(0px 1px 2px rgba(0, 0, 0, 0.3));\n",
              "      fill: #FFFFFF;\n",
              "    }\n",
              "  </style>\n",
              "\n",
              "      <script>\n",
              "        const buttonEl =\n",
              "          document.querySelector('#df-a8a8718f-963a-4459-9e8f-4f2a971d4b37 button.colab-df-convert');\n",
              "        buttonEl.style.display =\n",
              "          google.colab.kernel.accessAllowed ? 'block' : 'none';\n",
              "\n",
              "        async function convertToInteractive(key) {\n",
              "          const element = document.querySelector('#df-a8a8718f-963a-4459-9e8f-4f2a971d4b37');\n",
              "          const dataTable =\n",
              "            await google.colab.kernel.invokeFunction('convertToInteractive',\n",
              "                                                     [key], {});\n",
              "          if (!dataTable) return;\n",
              "\n",
              "          const docLinkHtml = 'Like what you see? Visit the ' +\n",
              "            '<a target=\"_blank\" href=https://colab.research.google.com/notebooks/data_table.ipynb>data table notebook</a>'\n",
              "            + ' to learn more about interactive tables.';\n",
              "          element.innerHTML = '';\n",
              "          dataTable['output_type'] = 'display_data';\n",
              "          await google.colab.output.renderOutput(dataTable, element);\n",
              "          const docLink = document.createElement('div');\n",
              "          docLink.innerHTML = docLinkHtml;\n",
              "          element.appendChild(docLink);\n",
              "        }\n",
              "      </script>\n",
              "    </div>\n",
              "  </div>\n",
              "  "
            ]
          },
          "metadata": {},
          "execution_count": 192
        }
      ]
    },
    {
      "cell_type": "markdown",
      "metadata": {
        "id": "zAx_GIAzhZTn"
      },
      "source": [
        "Olhando o resumo estatístico acima, podemos confirmar algumas hipóteses como:\n",
        "\n",
        "* A variável `price` possui 75% do valor abaixo de 421, porém seu valor máximo é 225651.\n",
        "* A quantidade mínima de noites (`minimum_nights`) está acima de 365 dias no ano.\n",
        "\n",
        "#### Boxplot para minimum_nights\n"
      ]
    },
    {
      "cell_type": "code",
      "source": [
        "# minimum_nights\n",
        "df_clean.minimum_nights.plot(kind='box', vert=False, figsize=(15, 3),)\n",
        "plt.show()\n",
        "\n",
        "# ver quantidade de valores acima de 15 para minimum_nights\n",
        "print(\"\\nprice: valores acima de 15\")\n",
        "print(\"{} entradas\".format(len(df_clean[df_clean.minimum_nights > 15])))\n",
        "print(\"{:.4f}%\".format((len(df_clean[df_clean.minimum_nights > 15]) / df_clean.shape[0])*100))\n",
        "\n",
        "# df.price.plot(kind='box', vert=False, xlim=(0,1300), figsize=(15,3));"
      ],
      "metadata": {
        "colab": {
          "base_uri": "https://localhost:8080/",
          "height": 280
        },
        "id": "3TPnF7KbkEBv",
        "outputId": "d9502cfb-c164-423c-e4e1-c8e939c1819d"
      },
      "execution_count": null,
      "outputs": [
        {
          "output_type": "display_data",
          "data": {
            "text/plain": [
              "<Figure size 1080x216 with 1 Axes>"
            ],
            "image/png": "[encoded data removed]"
          },
          "metadata": {
            "needs_background": "light"
          }
        },
        {
          "output_type": "stream",
          "name": "stdout",
          "text": [
            "\n",
            "price: valores acima de 15\n",
            "111 entradas\n",
            "1.2107%\n"
          ]
        }
      ]
    },
    {
      "cell_type": "markdown",
      "metadata": {
        "id": "R1G8lOfGxfW0"
      },
      "source": [
        "#### Boxplot para price"
      ]
    },
    {
      "cell_type": "code",
      "source": [
        "df_clean.price"
      ],
      "metadata": {
        "colab": {
          "base_uri": "https://localhost:8080/"
        },
        "id": "SBRunZIRU5cI",
        "outputId": "b0f139ef-da04-4aff-c8a9-256cb8096742"
      },
      "execution_count": null,
      "outputs": [
        {
          "output_type": "execute_result",
          "data": {
            "text/plain": [
              "0        494.0\n",
              "1       1403.0\n",
              "2        585.0\n",
              "3        782.0\n",
              "4       1057.0\n",
              "         ...  \n",
              "9598     913.0\n",
              "9599    1500.0\n",
              "9600    1200.0\n",
              "9601     135.0\n",
              "9602     194.0\n",
              "Name: price, Length: 9168, dtype: float64"
            ]
          },
          "metadata": {},
          "execution_count": 194
        }
      ]
    },
    {
      "cell_type": "code",
      "metadata": {
        "id": "uQhJ229OkX_o",
        "colab": {
          "base_uri": "https://localhost:8080/",
          "height": 280
        },
        "outputId": "0f808258-a0cd-4180-8083-06c37f25a1a2"
      },
      "source": [
        "# price\n",
        "df_clean.price.plot(kind='box', vert=False, figsize=(15, 3),)\n",
        "plt.show()\n",
        "\n",
        "# ver quantidade de valores acima de 3000 para price\n",
        "print(\"\\nprice: valores acima de 3000\")\n",
        "print(\"{} entradas\".format(len(df_clean[df_clean.price > 3000])))\n",
        "print(\"{:.4f}%\".format((len(df_clean[df_clean.price > 3000]) / df_clean.shape[0])*100))\n",
        "\n",
        "# df.price.plot(kind='box', vert=False, xlim=(0,1300), figsize=(15,3));"
      ],
      "execution_count": null,
      "outputs": [
        {
          "output_type": "display_data",
          "data": {
            "text/plain": [
              "<Figure size 1080x216 with 1 Axes>"
            ],
            "image/png": "[encoded data removed]"
          },
          "metadata": {
            "needs_background": "light"
          }
        },
        {
          "output_type": "stream",
          "name": "stdout",
          "text": [
            "\n",
            "price: valores acima de 3000\n",
            "334 entradas\n",
            "3.6431%\n"
          ]
        }
      ]
    },
    {
      "cell_type": "markdown",
      "source": [
        "#### Boxplot para beds"
      ],
      "metadata": {
        "id": "xrEeuZE7D-94"
      }
    },
    {
      "cell_type": "code",
      "source": [
        "df_clean.beds"
      ],
      "metadata": {
        "colab": {
          "base_uri": "https://localhost:8080/"
        },
        "id": "46AFL3e-EB6Z",
        "outputId": "7c24a3e5-1e09-4bb7-8520-47e24b6b3fc8"
      },
      "execution_count": null,
      "outputs": [
        {
          "output_type": "execute_result",
          "data": {
            "text/plain": [
              "0       6.0\n",
              "1       2.0\n",
              "2       3.0\n",
              "3       3.0\n",
              "4       3.0\n",
              "       ... \n",
              "9598    3.0\n",
              "9599    1.0\n",
              "9600    5.0\n",
              "9601    1.0\n",
              "9602    1.0\n",
              "Name: beds, Length: 9168, dtype: float64"
            ]
          },
          "metadata": {},
          "execution_count": 196
        }
      ]
    },
    {
      "cell_type": "code",
      "source": [
        "# beds\n",
        "df_clean.beds.plot(kind='box', vert=False, figsize=(15, 3),)\n",
        "plt.show()\n",
        "\n",
        "# ver quantidade de valores acima de 8 para beds\n",
        "print(\"\\nprice: valores acima de 8\")\n",
        "print(\"{} entradas\".format(len(df_clean[df_clean.beds> 8])))\n",
        "print(\"{:.4f}%\".format((len(df_clean[df_clean.beds > 8]) / df_clean.shape[0])*100))\n",
        "\n",
        "# df.price.plot(kind='box', vert=False, xlim=(0,1300), figsize=(15,3));"
      ],
      "metadata": {
        "colab": {
          "base_uri": "https://localhost:8080/",
          "height": 280
        },
        "id": "6AtcyuOXEJ62",
        "outputId": "7e5f25dd-bd6b-454b-96af-4576c5c25281"
      },
      "execution_count": null,
      "outputs": [
        {
          "output_type": "display_data",
          "data": {
            "text/plain": [
              "<Figure size 1080x216 with 1 Axes>"
            ],
            "image/png": "[encoded data removed]"
          },
          "metadata": {
            "needs_background": "light"
          }
        },
        {
          "output_type": "stream",
          "name": "stdout",
          "text": [
            "\n",
            "price: valores acima de 8\n",
            "115 entradas\n",
            "1.2544%\n"
          ]
        }
      ]
    },
    {
      "cell_type": "markdown",
      "source": [
        "#### Boxplot para accommodates"
      ],
      "metadata": {
        "id": "qH7Z_SnuEoI8"
      }
    },
    {
      "cell_type": "code",
      "source": [
        "df_clean.accommodates"
      ],
      "metadata": {
        "colab": {
          "base_uri": "https://localhost:8080/"
        },
        "id": "4FGXVVKFEwDi",
        "outputId": "2cb71a4d-0c36-4dea-ecaf-7012d9055a98"
      },
      "execution_count": null,
      "outputs": [
        {
          "output_type": "execute_result",
          "data": {
            "text/plain": [
              "0       2\n",
              "1       4\n",
              "2       6\n",
              "3       4\n",
              "4       6\n",
              "       ..\n",
              "9598    6\n",
              "9599    2\n",
              "9600    5\n",
              "9601    2\n",
              "9602    2\n",
              "Name: accommodates, Length: 9168, dtype: int64"
            ]
          },
          "metadata": {},
          "execution_count": 198
        }
      ]
    },
    {
      "cell_type": "code",
      "source": [
        "# accommodates\n",
        "df_clean.accommodates.plot(kind='box', vert=False, figsize=(15, 3),)\n",
        "plt.show()\n",
        "\n",
        "# ver quantidade de valores acima de 10 para accommodates\n",
        "print(\"\\nprice: valores acima de 10\")\n",
        "print(\"{} entradas\".format(len(df_clean[df_clean.accommodates> 10])))\n",
        "print(\"{:.4f}%\".format((len(df_clean[df_clean.accommodates > 10]) / df_clean.shape[0])*100))\n",
        "\n",
        "# df.price.plot(kind='box', vert=False, xlim=(0,1300), figsize=(15,3));"
      ],
      "metadata": {
        "colab": {
          "base_uri": "https://localhost:8080/",
          "height": 280
        },
        "id": "CjZcUXtJEwjd",
        "outputId": "228a8c76-1771-4912-8c0c-f1d6b238d418"
      },
      "execution_count": null,
      "outputs": [
        {
          "output_type": "display_data",
          "data": {
            "text/plain": [
              "<Figure size 1080x216 with 1 Axes>"
            ],
            "image/png": "[encoded data removed]"
          },
          "metadata": {
            "needs_background": "light"
          }
        },
        {
          "output_type": "stream",
          "name": "stdout",
          "text": [
            "\n",
            "price: valores acima de 10\n",
            "157 entradas\n",
            "1.7125%\n"
          ]
        }
      ]
    },
    {
      "cell_type": "markdown",
      "metadata": {
        "id": "TfxQ1PITFc5Q"
      },
      "source": [
        "#### Histogramas sem *outliers*\n",
        "\n",
        "Já que identificamos *outliers* nas variáveis `price` e `minimum_nights`, vamos agora limpar o *DataFrame* delas e plotar novamente o histograma."
      ]
    },
    {
      "cell_type": "code",
      "metadata": {
        "id": "67JxJ6n_FrTn",
        "colab": {
          "base_uri": "https://localhost:8080/",
          "height": 607
        },
        "outputId": "d3c802db-e673-4fea-f2ed-6d363585fac2"
      },
      "source": [
        "# remover os *outliers* em um novo DataFrame\n",
        "df_clean2 = df_clean.copy()\n",
        "df_clean2.drop(df_clean2[df_clean2.price > 3000].index, axis=0, inplace=True)\n",
        "df_clean2.drop(df_clean2[df_clean2.minimum_nights > 15].index, axis=0, inplace=True)\n",
        "df_clean2.drop(df_clean2[df_clean2.accommodates > 10].index, axis=0, inplace=True)\n",
        "df_clean2.drop(df_clean2[df_clean2.beds > 8].index, axis=0, inplace=True)\n",
        "df_clean2.drop(df_clean2[df_clean2.beds > 8].index, axis=0, inplace=True)\n",
        "df_clean2.drop(df_clean2[df_clean2.reviews_per_month > 6].index, axis=0, inplace=True)\n",
        "\n",
        "# plotar o histograma para as variáveis numéricas\n",
        "df_clean2.hist(bins=15, figsize=(15,10));"
      ],
      "execution_count": null,
      "outputs": [
        {
          "output_type": "display_data",
          "data": {
            "text/plain": [
              "<Figure size 1080x720 with 20 Axes>"
            ],
            "image/png": "[encoded data removed]"
          },
          "metadata": {
            "needs_background": "light"
          }
        }
      ]
    },
    {
      "cell_type": "markdown",
      "metadata": {
        "id": "IXn2oIo5qx-w"
      },
      "source": [
        "### **Q4. Qual a correlação existente entre as variáveis**\n",
        "\n",
        "Correlação significa que existe uma relação entre duas coisas. No nosso contexto, estamos buscando relação ou semelhança entre duas variáveis.\n",
        "\n",
        "Essa relação pode ser medida, e é função do coeficiente de correlação estabelecer qual a intensidade dela. Para identificar as correlações existentes entre as variáveis de interesse, vou:\n",
        "\n",
        "* Criar uma matriz de correlação\n",
        "* Gerar um *heatmap* a partir dessa matriz, usando a biblioteca `seaborn`"
      ]
    },
    {
      "cell_type": "code",
      "metadata": {
        "id": "x2ayzBajqxyd",
        "colab": {
          "base_uri": "https://localhost:8080/",
          "height": 394
        },
        "outputId": "0eada429-f046-4861-eaf4-867e965dea21"
      },
      "source": [
        "# criar uma matriz de correlação\n",
        "corr = df_clean2[['price', 'reviews_per_month','minimum_nights', 'number_of_reviews', \"accommodates\" ,\"bathrooms_text\", \"bedrooms\",\"beds\",\"review_scores_rating\",\"air_cond\",\"valor\"]].corr()\n",
        "\n",
        "display(corr)"
      ],
      "execution_count": null,
      "outputs": [
        {
          "output_type": "display_data",
          "data": {
            "text/plain": [
              "                         price  reviews_per_month  minimum_nights  \\\n",
              "price                 1.000000          -0.024231       -0.051760   \n",
              "reviews_per_month    -0.024231           1.000000       -0.265368   \n",
              "minimum_nights       -0.051760          -0.265368        1.000000   \n",
              "number_of_reviews    -0.012046           0.393616       -0.050596   \n",
              "accommodates          0.421475          -0.054566       -0.073369   \n",
              "bathrooms_text        0.426300          -0.136776        0.030145   \n",
              "bedrooms              0.460635          -0.163174        0.024880   \n",
              "beds                  0.337675          -0.094370       -0.015696   \n",
              "review_scores_rating -0.008854           0.119500        0.020677   \n",
              "air_cond              0.041000          -0.141345        0.025498   \n",
              "valor                 0.337038          -0.006713        0.040718   \n",
              "\n",
              "                      number_of_reviews  accommodates  bathrooms_text  \\\n",
              "price                         -0.012046      0.421475        0.426300   \n",
              "reviews_per_month              0.393616     -0.054566       -0.136776   \n",
              "minimum_nights                -0.050596     -0.073369        0.030145   \n",
              "number_of_reviews              1.000000      0.002141       -0.059821   \n",
              "accommodates                   0.002141      1.000000        0.560056   \n",
              "bathrooms_text                -0.059821      0.560056        1.000000   \n",
              "bedrooms                      -0.071287      0.713632        0.729322   \n",
              "beds                           0.001733      0.741663        0.502246   \n",
              "review_scores_rating           0.007044     -0.014165        0.053982   \n",
              "air_cond                      -0.003167      0.010635        0.042285   \n",
              "valor                          0.060766      0.002664        0.080039   \n",
              "\n",
              "                      bedrooms      beds  review_scores_rating  air_cond  \\\n",
              "price                 0.460635  0.337675             -0.008854  0.041000   \n",
              "reviews_per_month    -0.163174 -0.094370              0.119500 -0.141345   \n",
              "minimum_nights        0.024880 -0.015696              0.020677  0.025498   \n",
              "number_of_reviews    -0.071287  0.001733              0.007044 -0.003167   \n",
              "accommodates          0.713632  0.741663             -0.014165  0.010635   \n",
              "bathrooms_text        0.729322  0.502246              0.053982  0.042285   \n",
              "bedrooms              1.000000  0.671172              0.037881  0.027774   \n",
              "beds                  0.671172  1.000000              0.002198  0.008356   \n",
              "review_scores_rating  0.037881  0.002198              1.000000 -0.078222   \n",
              "air_cond              0.027774  0.008356             -0.078222  1.000000   \n",
              "valor                 0.064027  0.008154             -0.022233  0.075660   \n",
              "\n",
              "                         valor  \n",
              "price                 0.337038  \n",
              "reviews_per_month    -0.006713  \n",
              "minimum_nights        0.040718  \n",
              "number_of_reviews     0.060766  \n",
              "accommodates          0.002664  \n",
              "bathrooms_text        0.080039  \n",
              "bedrooms              0.064027  \n",
              "beds                  0.008154  \n",
              "review_scores_rating -0.022233  \n",
              "air_cond              0.075660  \n",
              "valor                 1.000000  "
            ],
            "text/html": [
              "\n",
              "  <div id=\"df-181d033f-d4d3-49df-89d0-9c1236440177\">\n",
              "    <div class=\"colab-df-container\">\n",
              "      <div>\n",
              "<style scoped>\n",
              "    .dataframe tbody tr th:only-of-type {\n",
              "        vertical-align: middle;\n",
              "    }\n",
              "\n",
              "    .dataframe tbody tr th {\n",
              "        vertical-align: top;\n",
              "    }\n",
              "\n",
              "    .dataframe thead th {\n",
              "        text-align: right;\n",
              "    }\n",
              "</style>\n",
              "<table border=\"1\" class=\"dataframe\">\n",
              "  <thead>\n",
              "    <tr style=\"text-align: right;\">\n",
              "      <th></th>\n",
              "      <th>price</th>\n",
              "      <th>reviews_per_month</th>\n",
              "      <th>minimum_nights</th>\n",
              "      <th>number_of_reviews</th>\n",
              "      <th>accommodates</th>\n",
              "      <th>bathrooms_text</th>\n",
              "      <th>bedrooms</th>\n",
              "      <th>beds</th>\n",
              "      <th>review_scores_rating</th>\n",
              "      <th>air_cond</th>\n",
              "      <th>valor</th>\n",
              "    </tr>\n",
              "  </thead>\n",
              "  <tbody>\n",
              "    <tr>\n",
              "      <th>price</th>\n",
              "      <td>1.000000</td>\n",
              "      <td>-0.024231</td>\n",
              "      <td>-0.051760</td>\n",
              "      <td>-0.012046</td>\n",
              "      <td>0.421475</td>\n",
              "      <td>0.426300</td>\n",
              "      <td>0.460635</td>\n",
              "      <td>0.337675</td>\n",
              "      <td>-0.008854</td>\n",
              "      <td>0.041000</td>\n",
              "      <td>0.337038</td>\n",
              "    </tr>\n",
              "    <tr>\n",
              "      <th>reviews_per_month</th>\n",
              "      <td>-0.024231</td>\n",
              "      <td>1.000000</td>\n",
              "      <td>-0.265368</td>\n",
              "      <td>0.393616</td>\n",
              "      <td>-0.054566</td>\n",
              "      <td>-0.136776</td>\n",
              "      <td>-0.163174</td>\n",
              "      <td>-0.094370</td>\n",
              "      <td>0.119500</td>\n",
              "      <td>-0.141345</td>\n",
              "      <td>-0.006713</td>\n",
              "    </tr>\n",
              "    <tr>\n",
              "      <th>minimum_nights</th>\n",
              "      <td>-0.051760</td>\n",
              "      <td>-0.265368</td>\n",
              "      <td>1.000000</td>\n",
              "      <td>-0.050596</td>\n",
              "      <td>-0.073369</td>\n",
              "      <td>0.030145</td>\n",
              "      <td>0.024880</td>\n",
              "      <td>-0.015696</td>\n",
              "      <td>0.020677</td>\n",
              "      <td>0.025498</td>\n",
              "      <td>0.040718</td>\n",
              "    </tr>\n",
              "    <tr>\n",
              "      <th>number_of_reviews</th>\n",
              "      <td>-0.012046</td>\n",
              "      <td>0.393616</td>\n",
              "      <td>-0.050596</td>\n",
              "      <td>1.000000</td>\n",
              "      <td>0.002141</td>\n",
              "      <td>-0.059821</td>\n",
              "      <td>-0.071287</td>\n",
              "      <td>0.001733</td>\n",
              "      <td>0.007044</td>\n",
              "      <td>-0.003167</td>\n",
              "      <td>0.060766</td>\n",
              "    </tr>\n",
              "    <tr>\n",
              "      <th>accommodates</th>\n",
              "      <td>0.421475</td>\n",
              "      <td>-0.054566</td>\n",
              "      <td>-0.073369</td>\n",
              "      <td>0.002141</td>\n",
              "      <td>1.000000</td>\n",
              "      <td>0.560056</td>\n",
              "      <td>0.713632</td>\n",
              "      <td>0.741663</td>\n",
              "      <td>-0.014165</td>\n",
              "      <td>0.010635</td>\n",
              "      <td>0.002664</td>\n",
              "    </tr>\n",
              "    <tr>\n",
              "      <th>bathrooms_text</th>\n",
              "      <td>0.426300</td>\n",
              "      <td>-0.136776</td>\n",
              "      <td>0.030145</td>\n",
              "      <td>-0.059821</td>\n",
              "      <td>0.560056</td>\n",
              "      <td>1.000000</td>\n",
              "      <td>0.729322</td>\n",
              "      <td>0.502246</td>\n",
              "      <td>0.053982</td>\n",
              "      <td>0.042285</td>\n",
              "      <td>0.080039</td>\n",
              "    </tr>\n",
              "    <tr>\n",
              "      <th>bedrooms</th>\n",
              "      <td>0.460635</td>\n",
              "      <td>-0.163174</td>\n",
              "      <td>0.024880</td>\n",
              "      <td>-0.071287</td>\n",
              "      <td>0.713632</td>\n",
              "      <td>0.729322</td>\n",
              "      <td>1.000000</td>\n",
              "      <td>0.671172</td>\n",
              "      <td>0.037881</td>\n",
              "      <td>0.027774</td>\n",
              "      <td>0.064027</td>\n",
              "    </tr>\n",
              "    <tr>\n",
              "      <th>beds</th>\n",
              "      <td>0.337675</td>\n",
              "      <td>-0.094370</td>\n",
              "      <td>-0.015696</td>\n",
              "      <td>0.001733</td>\n",
              "      <td>0.741663</td>\n",
              "      <td>0.502246</td>\n",
              "      <td>0.671172</td>\n",
              "      <td>1.000000</td>\n",
              "      <td>0.002198</td>\n",
              "      <td>0.008356</td>\n",
              "      <td>0.008154</td>\n",
              "    </tr>\n",
              "    <tr>\n",
              "      <th>review_scores_rating</th>\n",
              "      <td>-0.008854</td>\n",
              "      <td>0.119500</td>\n",
              "      <td>0.020677</td>\n",
              "      <td>0.007044</td>\n",
              "      <td>-0.014165</td>\n",
              "      <td>0.053982</td>\n",
              "      <td>0.037881</td>\n",
              "      <td>0.002198</td>\n",
              "      <td>1.000000</td>\n",
              "      <td>-0.078222</td>\n",
              "      <td>-0.022233</td>\n",
              "    </tr>\n",
              "    <tr>\n",
              "      <th>air_cond</th>\n",
              "      <td>0.041000</td>\n",
              "      <td>-0.141345</td>\n",
              "      <td>0.025498</td>\n",
              "      <td>-0.003167</td>\n",
              "      <td>0.010635</td>\n",
              "      <td>0.042285</td>\n",
              "      <td>0.027774</td>\n",
              "      <td>0.008356</td>\n",
              "      <td>-0.078222</td>\n",
              "      <td>1.000000</td>\n",
              "      <td>0.075660</td>\n",
              "    </tr>\n",
              "    <tr>\n",
              "      <th>valor</th>\n",
              "      <td>0.337038</td>\n",
              "      <td>-0.006713</td>\n",
              "      <td>0.040718</td>\n",
              "      <td>0.060766</td>\n",
              "      <td>0.002664</td>\n",
              "      <td>0.080039</td>\n",
              "      <td>0.064027</td>\n",
              "      <td>0.008154</td>\n",
              "      <td>-0.022233</td>\n",
              "      <td>0.075660</td>\n",
              "      <td>1.000000</td>\n",
              "    </tr>\n",
              "  </tbody>\n",
              "</table>\n",
              "</div>\n",
              "      <button class=\"colab-df-convert\" onclick=\"convertToInteractive('df-181d033f-d4d3-49df-89d0-9c1236440177')\"\n",
              "              title=\"Convert this dataframe to an interactive table.\"\n",
              "              style=\"display:none;\">\n",
              "        \n",
              "  <svg xmlns=\"http://www.w3.org/2000/svg\" height=\"24px\"viewBox=\"0 0 24 24\"\n",
              "       width=\"24px\">\n",
              "    <path d=\"M0 0h24v24H0V0z\" fill=\"none\"/>\n",
              "    <path d=\"M18.56 5.44l.94 2.06.94-2.06 2.06-.94-2.06-.94-.94-2.06-.94 2.06-2.06.94zm-11 1L8.5 8.5l.94-2.06 2.06-.94-2.06-.94L8.5 2.5l-.94 2.06-2.06.94zm10 10l.94 2.06.94-2.06 2.06-.94-2.06-.94-.94-2.06-.94 2.06-2.06.94z\"/><path d=\"M17.41 7.96l-1.37-1.37c-.4-.4-.92-.59-1.43-.59-.52 0-1.04.2-1.43.59L10.3 9.45l-7.72 7.72c-.78.78-.78 2.05 0 2.83L4 21.41c.39.39.9.59 1.41.59.51 0 1.02-.2 1.41-.59l7.78-7.78 2.81-2.81c.8-.78.8-2.07 0-2.86zM5.41 20L4 18.59l7.72-7.72 1.47 1.35L5.41 20z\"/>\n",
              "  </svg>\n",
              "      </button>\n",
              "      \n",
              "  <style>\n",
              "    .colab-df-container {\n",
              "      display:flex;\n",
              "      flex-wrap:wrap;\n",
              "      gap: 12px;\n",
              "    }\n",
              "\n",
              "    .colab-df-convert {\n",
              "      background-color: #E8F0FE;\n",
              "      border: none;\n",
              "      border-radius: 50%;\n",
              "      cursor: pointer;\n",
              "      display: none;\n",
              "      fill: #1967D2;\n",
              "      height: 32px;\n",
              "      padding: 0 0 0 0;\n",
              "      width: 32px;\n",
              "    }\n",
              "\n",
              "    .colab-df-convert:hover {\n",
              "      background-color: #E2EBFA;\n",
              "      box-shadow: 0px 1px 2px rgba(60, 64, 67, 0.3), 0px 1px 3px 1px rgba(60, 64, 67, 0.15);\n",
              "      fill: #174EA6;\n",
              "    }\n",
              "\n",
              "    [theme=dark] .colab-df-convert {\n",
              "      background-color: #3B4455;\n",
              "      fill: #D2E3FC;\n",
              "    }\n",
              "\n",
              "    [theme=dark] .colab-df-convert:hover {\n",
              "      background-color: #434B5C;\n",
              "      box-shadow: 0px 1px 3px 1px rgba(0, 0, 0, 0.15);\n",
              "      filter: drop-shadow(0px 1px 2px rgba(0, 0, 0, 0.3));\n",
              "      fill: #FFFFFF;\n",
              "    }\n",
              "  </style>\n",
              "\n",
              "      <script>\n",
              "        const buttonEl =\n",
              "          document.querySelector('#df-181d033f-d4d3-49df-89d0-9c1236440177 button.colab-df-convert');\n",
              "        buttonEl.style.display =\n",
              "          google.colab.kernel.accessAllowed ? 'block' : 'none';\n",
              "\n",
              "        async function convertToInteractive(key) {\n",
              "          const element = document.querySelector('#df-181d033f-d4d3-49df-89d0-9c1236440177');\n",
              "          const dataTable =\n",
              "            await google.colab.kernel.invokeFunction('convertToInteractive',\n",
              "                                                     [key], {});\n",
              "          if (!dataTable) return;\n",
              "\n",
              "          const docLinkHtml = 'Like what you see? Visit the ' +\n",
              "            '<a target=\"_blank\" href=https://colab.research.google.com/notebooks/data_table.ipynb>data table notebook</a>'\n",
              "            + ' to learn more about interactive tables.';\n",
              "          element.innerHTML = '';\n",
              "          dataTable['output_type'] = 'display_data';\n",
              "          await google.colab.output.renderOutput(dataTable, element);\n",
              "          const docLink = document.createElement('div');\n",
              "          docLink.innerHTML = docLinkHtml;\n",
              "          element.appendChild(docLink);\n",
              "        }\n",
              "      </script>\n",
              "    </div>\n",
              "  </div>\n",
              "  "
            ]
          },
          "metadata": {}
        }
      ]
    },
    {
      "cell_type": "code",
      "metadata": {
        "id": "91UujDr6ueqE",
        "colab": {
          "base_uri": "https://localhost:8080/",
          "height": 364
        },
        "outputId": "64ba185b-a1e8-477f-e837-085030edc9fb"
      },
      "source": [
        "sns.heatmap(corr, cmap='RdBu', fmt='.2f', square=True, linecolor='white', annot=True);"
      ],
      "execution_count": null,
      "outputs": [
        {
          "output_type": "display_data",
          "data": {
            "text/plain": [
              "<Figure size 432x288 with 2 Axes>"
            ],
            "image/png": "[encoded data removed]"
          },
          "metadata": {
            "needs_background": "light"
          }
        }
      ]
    },
    {
      "cell_type": "markdown",
      "metadata": {
        "id": "MFa5NbnLJMcd"
      },
      "source": [
        "### **Q6. Qual a localidade mais cara do Rio?**\n",
        "\n",
        "Uma maneira de se verificar uma variável em função da outra é usando `groupby()`. No caso, queremos comparar os bairros (*neighbourhoods*) a partir do preço de locação."
      ]
    },
    {
      "cell_type": "code",
      "metadata": {
        "id": "mygcB3iuIi0J",
        "colab": {
          "base_uri": "https://localhost:8080/"
        },
        "outputId": "a73efa49-717a-42c1-8b3f-35c19bc52077"
      },
      "source": [
        "df_clean2.groupby(['neighbourhood_cleansed']).price.mean().sort_values(ascending=False)[:10]"
      ],
      "execution_count": null,
      "outputs": [
        {
          "output_type": "execute_result",
          "data": {
            "text/plain": [
              "neighbourhood_cleansed\n",
              "Leblon               1157.978333\n",
              "Ipanema              1090.482412\n",
              "São Conrado          1063.214286\n",
              "Lagoa                 940.000000\n",
              "Gávea                 916.687500\n",
              "Alto da Boa Vista     905.888889\n",
              "Barra da Tijuca       852.118717\n",
              "Leme                  848.852941\n",
              "Copacabana            791.888924\n",
              "Jardim Botânico       721.352941\n",
              "Name: price, dtype: float64"
            ]
          },
          "metadata": {},
          "execution_count": 205
        }
      ]
    },
    {
      "cell_type": "markdown",
      "metadata": {
        "id": "4nMyAfrBS3s1"
      },
      "source": [
        "Como são fornecidas as Latitudes e Longitudes para os imóveis, é possível plotar cada ponto. Para isso, considera-se `x=longitude` e `y=latitude`."
      ]
    },
    {
      "cell_type": "code",
      "metadata": {
        "id": "UxVJqJ_3W59I",
        "colab": {
          "base_uri": "https://localhost:8080/",
          "height": 473
        },
        "outputId": "1f0743e4-9c7d-4359-a843-dfd1826a6726"
      },
      "source": [
        "# plotar os imóveis pela latitude-longitude\n",
        "df_clean2.plot(kind=\"scatter\", x='longitude', y='latitude', alpha=0.4, c=df_clean2['price'], s=8,\n",
        "              cmap=plt.get_cmap('jet'), figsize=(12,8));"
      ],
      "execution_count": null,
      "outputs": [
        {
          "output_type": "display_data",
          "data": {
            "text/plain": [
              "<Figure size 864x576 with 2 Axes>"
            ],
            "image/png": "[encoded data removed]"
          },
          "metadata": {
            "needs_background": "light"
          }
        }
      ]
    },
    {
      "cell_type": "markdown",
      "source": [
        "## Conclusões\n",
        "\n",
        "Foi feita apenas uma análise superficial na base de dados do Airbnb, porém já se percebeu que existem *outliers* em algumas das variáveis. \n",
        "\n",
        "Também se notou que em algumas localidades há poucos imóveis disponíveis, o que pode distorcer as informações estatísticas de alguns atributos.\n",
        "\n",
        "A análise demonstrou uma alta correlação linear entre quantidade de camas, quartos, banheiros e pessoas acomodadas,o valor do metro quadrado na região e o valor da locação, como se era de esperar.\n",
        "\n",
        "É possível com estes dados estimar o preço de locação da casa. É uma ferramenta bastante importante para interessados em fornecer sua casa ou alugar uma e não sabem qual preço ideal.\n",
        "\n",
        "Importante ressaltar que pela política de dados da empresa, a análise está incompleta. Reduzimos a quantidade de outliers considerando casas com pouquíssimas locações, porém não conseguimos estimar quais casas possuem maior taxa de locação - um dado sensível e importante ao predizer um valor de uma casa."
      ],
      "metadata": {
        "id": "BU4j6EcTF0Wt"
      }
    },
    {
      "cell_type": "code",
      "source": [
        "from sklearn.ensemble import RandomForestRegressor\n",
        "from sklearn.datasets import make_regression\n",
        "from sklearn.model_selection import train_test_split\n",
        "from sklearn.impute import SimpleImputer\n",
        "from xgboost import XGBRegressor\n",
        "from sklearn.metrics import mean_absolute_error\n",
        "from sklearn.metrics import mean_absolute_percentage_error\n",
        "from sklearn.model_selection import GridSearchCV\n",
        "import numpy as np"
      ],
      "metadata": {
        "id": "XhKOtoU3wBKx"
      },
      "execution_count": null,
      "outputs": []
    },
    {
      "cell_type": "code",
      "source": [
        "X = np.array(df_clean2[[\"host_is_superhost\",\"accommodates\",\"bathrooms_text\",\"review_scores_rating\",\"bedrooms\",\"beds\",\"latitude\",\"longitude\",\"air_cond\",\"valor\",\"number_of_reviews\",\"reviews_per_month\"]])\n",
        "Y = np.array(df_clean2[\"price\"])"
      ],
      "metadata": {
        "id": "5LtfbQ6KxVw8"
      },
      "execution_count": null,
      "outputs": []
    },
    {
      "cell_type": "code",
      "source": [
        "train_X, test_X, train_y, test_y = train_test_split(X, Y, test_size=0.2)\n",
        "df_imputer = SimpleImputer()\n",
        "train_X = df_imputer.fit_transform(train_X)\n",
        "test_X = df_imputer.transform(test_X)"
      ],
      "metadata": {
        "id": "F-Xxm0ABySyQ"
      },
      "execution_count": null,
      "outputs": []
    },
    {
      "cell_type": "markdown",
      "source": [
        "Os algoritmos testados serão XGBoost e RandomForest."
      ],
      "metadata": {
        "id": "-CadG4DqG61g"
      }
    },
    {
      "cell_type": "code",
      "source": [
        "param_grid = [{'max_depth': np.arange(3,10), 'n_estimators': np.arange(100,130,4),'learning_rate' : np.linspace(0.01,0.1,5)}]\n",
        "model = XGBRegressor()\n",
        "grid_search = GridSearchCV(model,param_grid,cv = 5)\n",
        "# chamar o fit para o modelo\n",
        "grid_search.fit(X, Y)\n",
        "grid_search.best_params_"
      ],
      "metadata": {
        "colab": {
          "base_uri": "https://localhost:8080/"
        },
        "id": "DSTH14JuSxsU",
        "outputId": "5baf5005-9ed5-4fa6-f4ba-e4d0e3b255e8"
      },
      "execution_count": null,
      "outputs": [
        {
          "output_type": "execute_result",
          "data": {
            "text/plain": [
              "{'learning_rate': 0.0775, 'max_depth': 4, 'n_estimators': 116}"
            ]
          },
          "metadata": {},
          "execution_count": 147
        }
      ]
    },
    {
      "cell_type": "code",
      "source": [
        "model = XGBRegressor(max_depth = 4,n_estimators = 116,learning_rate = 0.0775)\n",
        "# chamar o fit para o modelo\n",
        "model.fit(train_X, train_y, verbose=False)\n",
        "# fazer previsões em cima do dataset de teste\n",
        "predictions = model.predict(test_X)\n",
        "print(\"Erro Relativo Absoluto: {:.2f}\".format(mean_absolute_percentage_error(predictions, test_y)))\n",
        "print(\"Erro Relativo Absoluto: {:.2f}\".format(mean_absolute_percentage_error(model.predict(train_X), train_y)))"
      ],
      "metadata": {
        "colab": {
          "base_uri": "https://localhost:8080/"
        },
        "id": "TlBbdgR9UEev",
        "outputId": "c4958051-b304-430d-a7cc-6e47129ff989"
      },
      "execution_count": null,
      "outputs": [
        {
          "output_type": "stream",
          "name": "stdout",
          "text": [
            "[21:55:19] WARNING: /workspace/src/objective/regression_obj.cu:152: reg:linear is now deprecated in favor of reg:squarederror.\n",
            "Erro Relativo Absoluto: 0.38\n",
            "Erro Relativo Absoluto: 0.35\n"
          ]
        }
      ]
    },
    {
      "cell_type": "code",
      "source": [
        "param_grid = [{'max_leaf_nodes': [20,600], 'n_estimators': [500,1000]}]\n",
        "model2 = RandomForestRegressor()\n",
        "grid_search = GridSearchCV(model2,param_grid,cv = 5)\n",
        "# chamar o fit para o modelo\n",
        "grid_search.fit(X, Y)\n",
        "\n",
        "\n"
      ],
      "metadata": {
        "colab": {
          "base_uri": "https://localhost:8080/"
        },
        "id": "WXMNLA1kxHqb",
        "outputId": "895b3ade-e0fc-4c53-ed85-c7e1b11843d2"
      },
      "execution_count": null,
      "outputs": [
        {
          "output_type": "execute_result",
          "data": {
            "text/plain": [
              "GridSearchCV(cv=5, estimator=RandomForestRegressor(),\n",
              "             param_grid=[{'max_leaf_nodes': [20, 600],\n",
              "                          'n_estimators': [500, 1000]}])"
            ]
          },
          "metadata": {},
          "execution_count": 212
        }
      ]
    },
    {
      "cell_type": "code",
      "source": [
        "grid_search.best_params_"
      ],
      "metadata": {
        "colab": {
          "base_uri": "https://localhost:8080/"
        },
        "id": "Pn6hVeIHbfPG",
        "outputId": "f865bdc3-fd27-4ec1-edd4-7061f82923db"
      },
      "execution_count": null,
      "outputs": [
        {
          "output_type": "execute_result",
          "data": {
            "text/plain": [
              "{'max_leaf_nodes': 600, 'n_estimators': 1000}"
            ]
          },
          "metadata": {},
          "execution_count": 213
        }
      ]
    },
    {
      "cell_type": "code",
      "source": [
        " rnd_reg = RandomForestRegressor(max_leaf_nodes = 600,n_estimators = 1000)\n",
        " rnd_reg.fit(train_X,train_y)\n",
        " predictions = rnd_reg.predict(test_X)\n",
        " print(\"Erro Relativo Absoluto: {:.2f}\".format(mean_absolute_percentage_error(predictions, test_y)))\n",
        " print(\"Erro Relativo Absoluto: {:.2f}\".format(mean_absolute_percentage_error(rnd_reg.predict(train_X), train_y)))\n"
      ],
      "metadata": {
        "colab": {
          "base_uri": "https://localhost:8080/"
        },
        "id": "JneNjjjTberU",
        "outputId": "c919e7bf-67d3-4648-e993-1a061389b585"
      },
      "execution_count": null,
      "outputs": [
        {
          "output_type": "stream",
          "name": "stdout",
          "text": [
            "Erro Relativo Absoluto: 0.38\n",
            "Erro Relativo Absoluto: 0.26\n"
          ]
        }
      ]
    },
    {
      "cell_type": "markdown",
      "source": [
        "Ambos métodos apresentaram resultados semelhantes, com cerca de 38% de erro nos casos de teste. É uma precisão já considerável pois dados sobre taxa de locação estão indisponíveis. Caso estivessem disponíveis, seria possível gerar um algoritmo que estima o preço ideal que maximiza o lucro mensal, e não o preço que acompanha as tendências do mercado somente.\n",
        "\n",
        "* Observação: Ainda que grid_search do RandomForestGenerator aponte como ideal valores limites do intervalo de estudo - o que indica a necessidade de teste de mais casos fora deste intervalo -, o aumento dos casos somente diminui o erro sobre casos de treino, mantendo-se estável em casos de teste.\n",
        "\n",
        "\n"
      ],
      "metadata": {
        "id": "6807WSVHgPvL"
      }
    }
  ]
}